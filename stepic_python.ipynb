{
 "cells": [
  {
   "cell_type": "code",
   "execution_count": 1,
   "id": "5916090b",
   "metadata": {},
   "outputs": [
    {
     "name": "stdout",
     "output_type": "stream",
     "text": [
      "a*b*c\n",
      "d**e**fg+h+i%j-k-l\n",
      "m/n/o!p1q1r%s&t&u\n",
      "v%w%x\n",
      "y/z!"
     ]
    }
   ],
   "source": [
    "print('a', 'b', 'c', sep='*')\n",
    "print('d', 'e', 'f', sep='**', end='')\n",
    "print('g', 'h', 'i', sep='+', end='%')\n",
    "print('j', 'k', 'l', sep='-', end='\\n')\n",
    "print('m', 'n', 'o', sep='/', end='!')\n",
    "print('p', 'q', 'r', sep='1', end='%')\n",
    "print('s', 't', 'u', sep='&', end='\\n')\n",
    "print('v', 'w', 'x', sep='%')\n",
    "print('y', 'z', sep='/', end='!')"
   ]
  },
  {
   "cell_type": "code",
   "execution_count": 1,
   "id": "bd45ce2d",
   "metadata": {},
   "outputs": [
    {
     "name": "stdout",
     "output_type": "stream",
     "text": [
      "1\n",
      "1\n",
      "2\n",
      "3\n"
     ]
    }
   ],
   "source": [
    "a = input()\n",
    "print(a)\n",
    "print(str(int(a)+1))\n",
    "print(str(int(a)+2))"
   ]
  },
  {
   "cell_type": "markdown",
   "id": "b3a21604",
   "metadata": {},
   "source": [
    "a = int(input())\n",
    "b = int(input())\n",
    "\n",
    "c = (int(3)*(a+b)*(a+b)*(a+b))+(int(275)*b*b)-(int(127)*a)-int(41)\n",
    "print(str(c))"
   ]
  },
  {
   "cell_type": "code",
   "execution_count": 2,
   "id": "1eefd290",
   "metadata": {},
   "outputs": [
    {
     "name": "stdout",
     "output_type": "stream",
     "text": [
      "1\n",
      "Следующее за числом 1 число: 2\n",
      "Для числа 1 предыдущее число: 0\n"
     ]
    }
   ],
   "source": [
    "a = int(input())\n",
    "print(\"Следующее за числом\", a,\"число:\", a+1)\n",
    "print(\"Для числа\", a,\"предыдущее число:\", a-1)"
   ]
  },
  {
   "cell_type": "code",
   "execution_count": 3,
   "id": "9b092c9c",
   "metadata": {},
   "outputs": [
    {
     "name": "stdout",
     "output_type": "stream",
     "text": [
      "1\n",
      "2\n",
      "3\n",
      "4\n",
      "30\n"
     ]
    }
   ],
   "source": [
    "print(3*(int(input())+int(input())+int(input())+int(input())))"
   ]
  },
  {
   "cell_type": "code",
   "execution_count": 4,
   "id": "5e3ba453",
   "metadata": {},
   "outputs": [
    {
     "name": "stdout",
     "output_type": "stream",
     "text": [
      "5\n",
      "6\n",
      "5 + 6 = 11\n",
      "5 - 6 = -1\n",
      "5 * 6 = 30\n"
     ]
    }
   ],
   "source": [
    "a = int(input())\n",
    "b = int(input())\n",
    "print(a, \"+\", b, \"=\", a+b)\n",
    "print(a, \"-\", b, \"=\", a-b)\n",
    "print(a, \"*\", b, \"=\", a*b)"
   ]
  },
  {
   "cell_type": "code",
   "execution_count": 5,
   "id": "84863aa0",
   "metadata": {},
   "outputs": [
    {
     "name": "stdout",
     "output_type": "stream",
     "text": [
      "3\n",
      "4\n",
      "5\n",
      "19\n"
     ]
    }
   ],
   "source": [
    "a = int(input())\n",
    "d = int(input())\n",
    "n = int(input())\n",
    "print(a + d*(n - 1))"
   ]
  },
  {
   "cell_type": "code",
   "execution_count": 6,
   "id": "159c27f3",
   "metadata": {},
   "outputs": [
    {
     "data": {
      "text/plain": [
       "-13"
      ]
     },
     "execution_count": 6,
     "metadata": {},
     "output_type": "execute_result"
    }
   ],
   "source": [
    "a =-123\n",
    "b = 10\n",
    "c = a//b\n",
    "c"
   ]
  },
  {
   "cell_type": "code",
   "execution_count": 10,
   "id": "1ef4fd1d",
   "metadata": {},
   "outputs": [
    {
     "name": "stdout",
     "output_type": "stream",
     "text": [
      "29\n"
     ]
    }
   ],
   "source": [
    "a = 15 // (16 % 7)\n",
    "b = 34 % a * 5 - 29 % 5 * 2\n",
    "print(a + b)"
   ]
  },
  {
   "cell_type": "code",
   "execution_count": 14,
   "id": "8f220f88",
   "metadata": {},
   "outputs": [
    {
     "data": {
      "text/plain": [
       "2"
      ]
     },
     "execution_count": 14,
     "metadata": {},
     "output_type": "execute_result"
    }
   ],
   "source": [
    "a = 82 // 3 ** 2 % 7\n",
    "a"
   ]
  },
  {
   "cell_type": "code",
   "execution_count": 15,
   "id": "2c12b5b1",
   "metadata": {},
   "outputs": [
    {
     "name": "stdout",
     "output_type": "stream",
     "text": [
      "1\n",
      "2\n",
      "5\n",
      "16\n"
     ]
    }
   ],
   "source": [
    "b = int(input())\n",
    "q = int(input())\n",
    "n = int(input())\n",
    "print(b*(q**(n-1)))"
   ]
  },
  {
   "cell_type": "code",
   "execution_count": 21,
   "id": "b074035b",
   "metadata": {},
   "outputs": [
    {
     "name": "stdout",
     "output_type": "stream",
     "text": [
      "7\n",
      "4\n",
      "0\n",
      "4\n"
     ]
    }
   ],
   "source": [
    "a = int(input())\n",
    "b = int(input())\n",
    "print(b // a)\n",
    "print(b % a)"
   ]
  },
  {
   "cell_type": "code",
   "execution_count": 25,
   "id": "92ee3a37",
   "metadata": {},
   "outputs": [
    {
     "name": "stdout",
     "output_type": "stream",
     "text": [
      "999\n",
      "500\n"
     ]
    }
   ],
   "source": [
    "print((int(input()) + 1) // 2)\n"
   ]
  },
  {
   "cell_type": "code",
   "execution_count": 11,
   "id": "9b00f06f",
   "metadata": {},
   "outputs": [
    {
     "name": "stdout",
     "output_type": "stream",
     "text": [
      "36\n",
      "9\n"
     ]
    }
   ],
   "source": [
    "print(-(-int(input()) // 4 ))"
   ]
  },
  {
   "cell_type": "code",
   "execution_count": 12,
   "id": "6269adee",
   "metadata": {},
   "outputs": [
    {
     "name": "stdout",
     "output_type": "stream",
     "text": [
      "150\n",
      "150 мин - это 2 час 30 минут.\n"
     ]
    }
   ],
   "source": [
    "a = int(input())\n",
    "print(a, \"мин - это\", a // 60, \"час\", a % 60, \"минут.\")"
   ]
  },
  {
   "cell_type": "code",
   "execution_count": 15,
   "id": "e15a0028",
   "metadata": {},
   "outputs": [
    {
     "name": "stdout",
     "output_type": "stream",
     "text": [
      "123\n",
      "123 1 2 3\n"
     ]
    }
   ],
   "source": [
    "a = int(input())\n",
    "b = a // 100\n",
    "c = (a % 100) // 10\n",
    "d = a % 10\n",
    "print(\"Сумма цифр =\", b + c + d)\n",
    "print(\"Произведение цифр =\", b * c * d)"
   ]
  },
  {
   "cell_type": "code",
   "execution_count": 17,
   "id": "205caace",
   "metadata": {},
   "outputs": [
    {
     "name": "stdout",
     "output_type": "stream",
     "text": [
      "159\n",
      "159\n",
      "195\n",
      "591\n",
      "519\n",
      "951\n",
      "915\n"
     ]
    }
   ],
   "source": [
    "x = int(input())\n",
    "a = str(x // 100)\n",
    "b = str((x % 100) // 10)\n",
    "c = str(x % 10)\n",
    "print(a + b + c)\n",
    "print(a + c + b)\n",
    "print(b + a + c)\n",
    "print(b + c + a)\n",
    "print(c + a + b)\n",
    "print(c + b + a)"
   ]
  },
  {
   "cell_type": "code",
   "execution_count": 21,
   "id": "783f8f3c",
   "metadata": {},
   "outputs": [
    {
     "name": "stdout",
     "output_type": "stream",
     "text": [
      "1234\n",
      "Цифра в позиции тысяч равна  1\n",
      "Цифра в позиции сотен равна  2\n",
      "Цифра в позиции десятков равна  3\n",
      "Цифра в позиции единиц равна  4\n"
     ]
    }
   ],
   "source": [
    "x = int(input())\n",
    "a = str(x // 1000)\n",
    "b = str((x % 1000) // 100)\n",
    "c = str((x % 100) // 10)\n",
    "d = str(x % 10)\n",
    "print(\"Цифра в позиции тысяч равна \", a)\n",
    "print(\"Цифра в позиции сотен равна \", b)\n",
    "print(\"Цифра в позиции десятков равна \", c)\n",
    "print(\"Цифра в позиции единиц равна \", d)"
   ]
  },
  {
   "cell_type": "code",
   "execution_count": 13,
   "id": "0001f1c0",
   "metadata": {},
   "outputs": [
    {
     "name": "stdout",
     "output_type": "stream",
     "text": [
      "56\n"
     ]
    }
   ],
   "source": [
    "a = 17 // (23 % 7)\n",
    "b = 34 % a * 5 - 29 % 4 * 3\n",
    "print(a * b)"
   ]
  },
  {
   "cell_type": "code",
   "execution_count": 15,
   "id": "59f5bf6f",
   "metadata": {},
   "outputs": [
    {
     "data": {
      "text/plain": [
       "8"
      ]
     },
     "execution_count": 15,
     "metadata": {},
     "output_type": "execute_result"
    }
   ],
   "source": [
    "a = 17 // (23 % 7)\n",
    "a"
   ]
  },
  {
   "cell_type": "code",
   "execution_count": 16,
   "id": "55838ccb",
   "metadata": {},
   "outputs": [
    {
     "data": {
      "text/plain": [
       "7"
      ]
     },
     "execution_count": 16,
     "metadata": {},
     "output_type": "execute_result"
    }
   ],
   "source": [
    "b = 34 % a * 5 - 29 % 4 * 3\n",
    "b\n"
   ]
  },
  {
   "cell_type": "code",
   "execution_count": 17,
   "id": "b54a9e05",
   "metadata": {},
   "outputs": [
    {
     "data": {
      "text/plain": [
       "10"
      ]
     },
     "execution_count": 17,
     "metadata": {},
     "output_type": "execute_result"
    }
   ],
   "source": [
    "34 % a * 5"
   ]
  },
  {
   "cell_type": "code",
   "execution_count": 18,
   "id": "5dbdae18",
   "metadata": {},
   "outputs": [
    {
     "data": {
      "text/plain": [
       "3"
      ]
     },
     "execution_count": 18,
     "metadata": {},
     "output_type": "execute_result"
    }
   ],
   "source": [
    " 29 % 4 * 3"
   ]
  },
  {
   "cell_type": "code",
   "execution_count": 19,
   "id": "e18471db",
   "metadata": {},
   "outputs": [
    {
     "name": "stdout",
     "output_type": "stream",
     "text": [
      "*****************\n",
      "*               *\n",
      "*               *\n",
      "*****************\n"
     ]
    }
   ],
   "source": [
    "print(\"*****************\")\n",
    "print(\"*               *\")\n",
    "print(\"*               *\")\n",
    "print(\"*****************\")"
   ]
  },
  {
   "cell_type": "code",
   "execution_count": 27,
   "id": "b265fe88",
   "metadata": {},
   "outputs": [
    {
     "name": "stdout",
     "output_type": "stream",
     "text": [
      "3\n",
      "4\n",
      "Квадрат суммы 3 и 4 равен 49\n",
      "Сумма квадратов 3 и 4 равна 25\n"
     ]
    }
   ],
   "source": [
    "a = int(input())\n",
    "b = int(input())        \n",
    "print(\"Квадрат суммы\", a, \"и\", b, \"равен\", (a + b) ** 2)\n",
    "print(\"Сумма квадратов\", a, \"и\", b, \"равна\", ((a ** 2) + (b ** 2)))"
   ]
  },
  {
   "cell_type": "code",
   "execution_count": 28,
   "id": "be7fa37f",
   "metadata": {},
   "outputs": [
    {
     "name": "stdout",
     "output_type": "stream",
     "text": [
      "9\n",
      "29\n",
      "7\n",
      "27\n",
      "4710194409608608369201743232\n"
     ]
    }
   ],
   "source": [
    "a = int(input())\n",
    "b = int(input()) \n",
    "c = int(input())\n",
    "d = int(input()) \n",
    "print((a ** b) + (c ** d))"
   ]
  },
  {
   "cell_type": "code",
   "execution_count": 32,
   "id": "74663842",
   "metadata": {},
   "outputs": [
    {
     "name": "stdout",
     "output_type": "stream",
     "text": [
      "3\n",
      "369\n"
     ]
    }
   ],
   "source": [
    "a = int(input())\n",
    "b = (str(a) + str(a))\n",
    "c = (str(b) + str(a))\n",
    "print(int(a) + int(b) + int(c))\n"
   ]
  },
  {
   "cell_type": "code",
   "execution_count": 1,
   "id": "563a3ef5",
   "metadata": {},
   "outputs": [
    {
     "name": "stdout",
     "output_type": "stream",
     "text": [
      "йцук\n",
      "йцук\n",
      "Пароль принят\n"
     ]
    }
   ],
   "source": [
    "a = input()\n",
    "b = input()\n",
    "if a == b:\n",
    "    print('Пароль принят')\n",
    "else:\n",
    "    print('Пароль не принят')  "
   ]
  },
  {
   "cell_type": "code",
   "execution_count": 6,
   "id": "fb3ef80f",
   "metadata": {},
   "outputs": [
    {
     "name": "stdout",
     "output_type": "stream",
     "text": [
      "11\n",
      "Нечётное\n"
     ]
    }
   ],
   "source": [
    "i = int(input())\n",
    "if i % 2 == 0:\n",
    "    print('Чётное')\n",
    "else:\n",
    "    print('Нечётное')"
   ]
  },
  {
   "cell_type": "code",
   "execution_count": 13,
   "id": "cbb32a97",
   "metadata": {},
   "outputs": [
    {
     "name": "stdout",
     "output_type": "stream",
     "text": [
      "1234\n",
      "НЕТ\n"
     ]
    }
   ],
   "source": [
    "a = int(input())\n",
    "r1 = a // 1000\n",
    "r4 = a % 10\n",
    "r2 = (a % 1000) // 100\n",
    "r3 = (a % 100) // 10\n",
    "if (r1 + r4) == (r2 - r3):\n",
    "    print(\"ДА\")\n",
    "else:\n",
    "    print(\"НЕТ\")"
   ]
  },
  {
   "cell_type": "code",
   "execution_count": 17,
   "id": "7809f1b7",
   "metadata": {},
   "outputs": [
    {
     "name": "stdout",
     "output_type": "stream",
     "text": [
      "16\n",
      "Доступ запрещен\n"
     ]
    }
   ],
   "source": [
    "if (int(input())) >= int(18):\n",
    "    print(\"Доступ разрешен\")\n",
    "else:\n",
    "    print(\"Доступ запрещен\")"
   ]
  },
  {
   "cell_type": "code",
   "execution_count": 19,
   "id": "5c6a64a0",
   "metadata": {},
   "outputs": [
    {
     "name": "stdout",
     "output_type": "stream",
     "text": [
      "10\n",
      "5\n",
      "0\n",
      "YES\n"
     ]
    }
   ],
   "source": [
    "a1 = int(input())\n",
    "a2 = int(input())\n",
    "a3 = int(input())\n",
    "d = a2 - a1\n",
    "if(a1 == a2 - (2 - 1) * d == a3 - (3 - 1) * d):\n",
    "    print(\"YES\")\n",
    "else:\n",
    "    print(\"NO\")"
   ]
  },
  {
   "cell_type": "code",
   "execution_count": null,
   "id": "98fde685",
   "metadata": {},
   "outputs": [],
   "source": [
    "a = int(input())\n",
    "b = int(input())\n",
    "if (a - b) < 0:\n",
    "    print(a)\n",
    "else:\n",
    "    print(b)"
   ]
  },
  {
   "cell_type": "code",
   "execution_count": 21,
   "id": "796a39bd",
   "metadata": {},
   "outputs": [
    {
     "name": "stdout",
     "output_type": "stream",
     "text": [
      "10\n",
      "20\n",
      "40\n",
      "5\n",
      "5\n"
     ]
    }
   ],
   "source": [
    "a = int(input())\n",
    "b = int(input())\n",
    "c = int(input())\n",
    "d = int(input())\n",
    "if (a - b) < 0:\n",
    "    ab = a\n",
    "else:\n",
    "    ab = b\n",
    "if (c - d) < 0:\n",
    "    cd = c\n",
    "else:\n",
    "    cd = d\n",
    "if (ab - cd) < 0:\n",
    "    print(ab)\n",
    "else:\n",
    "    print(cd)"
   ]
  },
  {
   "cell_type": "code",
   "execution_count": 27,
   "id": "f37ee281",
   "metadata": {},
   "outputs": [
    {
     "name": "stdout",
     "output_type": "stream",
     "text": [
      "50\n",
      "зрелость\n"
     ]
    }
   ],
   "source": [
    "age = int(input())\n",
    "if 0 <= age <= 13:\n",
    "    print('детство')\n",
    "elif 14 <= age <= 24:\n",
    "    print('молодость')\n",
    "elif 25 <= age <= 59:\n",
    "    print('зрелость')\n",
    "else:\n",
    "    print('старость')"
   ]
  },
  {
   "cell_type": "code",
   "execution_count": 32,
   "id": "0af9c0c3",
   "metadata": {},
   "outputs": [
    {
     "name": "stdout",
     "output_type": "stream",
     "text": [
      "-2\n",
      "6\n",
      "-3\n",
      "6\n"
     ]
    }
   ],
   "source": [
    "x = 0\n",
    "a = int(input())\n",
    "b = int(input())\n",
    "c = int(input())\n",
    "if a > 0:\n",
    "    x += a\n",
    "if b > 0:\n",
    "    x += b\n",
    "if c > 0:\n",
    "    x += c\n",
    "print(x)"
   ]
  },
  {
   "cell_type": "code",
   "execution_count": 34,
   "id": "e82297f9",
   "metadata": {},
   "outputs": [
    {
     "name": "stdout",
     "output_type": "stream",
     "text": [
      "9\n",
      "Принадлежит\n"
     ]
    }
   ],
   "source": [
    "if (-1 < int(input()) < 17):\n",
    "    print(\"Принадлежит\")\n",
    "else:\n",
    "    print(\"Не принадлежит\")"
   ]
  },
  {
   "cell_type": "code",
   "execution_count": 42,
   "id": "a06d7ffa",
   "metadata": {},
   "outputs": [
    {
     "name": "stdout",
     "output_type": "stream",
     "text": [
      "-50\n",
      "Принадлежит\n"
     ]
    }
   ],
   "source": [
    "a = int(input())\n",
    "if a <= -3 or a >= 7:\n",
    "    print(\"Принадлежит\")\n",
    "else:\n",
    "    print(\"Не принадлежит\")"
   ]
  },
  {
   "cell_type": "code",
   "execution_count": null,
   "id": "3da1e153",
   "metadata": {},
   "outputs": [],
   "source": [
    "a = int(input())\n",
    "if (-30 < a <= -2)  or  (7 < a <= 25):\n",
    "    print(\"Принадлежит\")\n",
    "else:\n",
    "    print(\"Не принадлежит\")\n"
   ]
  },
  {
   "cell_type": "code",
   "execution_count": 46,
   "id": "41cf3145",
   "metadata": {},
   "outputs": [
    {
     "name": "stdout",
     "output_type": "stream",
     "text": [
      "17000\n",
      "NO\n"
     ]
    }
   ],
   "source": [
    "a = int(input())\n",
    "if (1000 < a <= 9999) and ((a % 7 == 0) or (a % 17 == 0)):\n",
    "    print(\"YES\")\n",
    "else:\n",
    "    print(\"NO\")"
   ]
  },
  {
   "cell_type": "code",
   "execution_count": 50,
   "id": "a7bb289a",
   "metadata": {},
   "outputs": [
    {
     "name": "stdout",
     "output_type": "stream",
     "text": [
      "3\n",
      "4\n",
      "6\n",
      "YES\n"
     ]
    }
   ],
   "source": [
    "a = int(input())\n",
    "b = int(input())\n",
    "c = int(input())\n",
    "if (a < b + c) and (b < a + c) and (c < a + b):\n",
    "    print(\"YES\")\n",
    "else:\n",
    "    print(\"NO\")"
   ]
  },
  {
   "cell_type": "code",
   "execution_count": 54,
   "id": "93bba2fe",
   "metadata": {},
   "outputs": [
    {
     "name": "stdout",
     "output_type": "stream",
     "text": [
      "2018\n",
      "NO\n"
     ]
    }
   ],
   "source": [
    "a = int(input())\n",
    "if ((a % 4 == 0) and (a % 100 != 0)) or (a % 400 == 0):\n",
    "    print(\"YES\")\n",
    "else:\n",
    "    print(\"NO\")"
   ]
  },
  {
   "cell_type": "code",
   "execution_count": 58,
   "id": "bb77d950",
   "metadata": {},
   "outputs": [
    {
     "name": "stdout",
     "output_type": "stream",
     "text": [
      "4\n",
      "4\n",
      "5\n",
      "4\n",
      "YES\n"
     ]
    }
   ],
   "source": [
    "a1 = int(input())\n",
    "b1 = int(input())\n",
    "a2 = int(input())\n",
    "b2 = int(input())\n",
    "if ((a1 == a2) and (b1 != b2)) or ((b1 == b2) and (a1 != a2)):\n",
    "    print(\"YES\")\n",
    "else:\n",
    "    print(\"NO\")"
   ]
  },
  {
   "cell_type": "code",
   "execution_count": 60,
   "id": "89d2b753",
   "metadata": {},
   "outputs": [
    {
     "name": "stdout",
     "output_type": "stream",
     "text": [
      "4\n",
      "4\n",
      "2\n",
      "4\n",
      "NO\n"
     ]
    }
   ],
   "source": [
    "a1 = int(input())\n",
    "b1 = int(input())\n",
    "a2 = int(input())\n",
    "b2 = int(input())\n",
    "if ((a1 == a2 + 1) or (a1 == a2 -1) or (a1 == a2)) and ((b1 == b2 + 1) or (b1 == b2 -1) or (b1 == b2)):\n",
    "    print(\"YES\")\n",
    "else:\n",
    "    print(\"NO\")"
   ]
  },
  {
   "cell_type": "code",
   "execution_count": 2,
   "id": "1c88df41",
   "metadata": {},
   "outputs": [
    {
     "name": "stdout",
     "output_type": "stream",
     "text": [
      "1\n",
      "2\n",
      "YES\n"
     ]
    }
   ],
   "source": [
    "b = int(input())\n",
    "a = int(input())\n",
    "if(a > b):\n",
    "    print(\"YES\")\n",
    "elif(a < b):\n",
    "    print(\"NO\")\n",
    "else:\n",
    "    print(\"Don't know\")"
   ]
  },
  {
   "cell_type": "code",
   "execution_count": 4,
   "id": "4b9a22a9",
   "metadata": {},
   "outputs": [
    {
     "name": "stdout",
     "output_type": "stream",
     "text": [
      "1\n",
      "2\n",
      "3\n",
      "Разносторонний\n"
     ]
    }
   ],
   "source": [
    "a = int(input())\n",
    "b = int(input())\n",
    "c = int(input())\n",
    "if (a == b == c):\n",
    "    print(\"Равносторонний\")\n",
    "elif a != b and a != c and b != c:\n",
    "    print(\"Разносторонний\")\n",
    "elif (a == b) or (b == c) or (a == c):\n",
    "    print(\"Равнобедренный\")"
   ]
  },
  {
   "cell_type": "code",
   "execution_count": null,
   "id": "463d9b81",
   "metadata": {},
   "outputs": [],
   "source": [
    "a = int(input())\n",
    "b = int(input())\n",
    "c = int(input())\n",
    "if (a > b and a < c) or (a < b and a > c):\n",
    "    print(a)\n",
    "elif (b > a and b < c) or (b < a and b > c):\n",
    "    print(b)\n",
    "else:\n",
    "    print(c)"
   ]
  },
  {
   "cell_type": "code",
   "execution_count": 5,
   "id": "c3863e88",
   "metadata": {},
   "outputs": [
    {
     "name": "stdout",
     "output_type": "stream",
     "text": [
      "2\n",
      "28\n"
     ]
    }
   ],
   "source": [
    "a = int(input())\n",
    "if(a == 1 or a == 3 or a == 5 or a == 7 or a == 8 or a == 10 or a == 12):\n",
    "    print(31)\n",
    "elif(a == 4 or a == 6 or a == 9 or a == 11):\n",
    "    print(30)\n",
    "else:\n",
    "    print(28)"
   ]
  },
  {
   "cell_type": "code",
   "execution_count": null,
   "id": "bfd8e709",
   "metadata": {},
   "outputs": [],
   "source": [
    "a = int(input())\n",
    "if(a < 60):\n",
    "    print(\"Легкий вес\")\n",
    "elif(a < 64):\n",
    "    print(\"Первый полусредний вес\")\n",
    "else:\n",
    "    print(\"Полусредний вес\")"
   ]
  },
  {
   "cell_type": "code",
   "execution_count": null,
   "id": "109d8af7",
   "metadata": {},
   "outputs": [],
   "source": [
    "a = int(input())\n",
    "b = int(input())\n",
    "c = input()\n",
    "if (b == 0 and c == \"/\"):\n",
    "    print(\"На ноль делить нельзя!\")\n",
    "elif(c == \"+\"):\n",
    "    print(a + b)\n",
    "elif(c == \"-\"):\n",
    "    print(a - b)\n",
    "elif(c == \"*\"):\n",
    "    print(a * b)\n",
    "elif(c == \"/\"):\n",
    "    print(a / b)\n",
    "else:\n",
    "    print(\"Неверная операция\")\n"
   ]
  },
  {
   "cell_type": "code",
   "execution_count": null,
   "id": "5da5bedf",
   "metadata": {},
   "outputs": [],
   "source": [
    "a = input()\n",
    "b = input()\n",
    "c = \"красный\"\n",
    "d = \"синий\"\n",
    "e = \"желтый\"\n",
    "f = \"фиолетовый\"\n",
    "g = \"оранжевый\"\n",
    "h = \"зеленый\"\n",
    "if((a == c or a == d or a == e) and (b == c or b == d or b == e)):\n",
    "    if a == b == c:\n",
    "        print(c)\n",
    "    elif a == b == d:\n",
    "        print(d)\n",
    "    elif a == b == e:\n",
    "        print(e)\n",
    "    elif (a == c and b == d) or (a == d and b == c):\n",
    "        print(f)\n",
    "    elif (a == c and b == e) or (a == e and b == c):\n",
    "        print(g)\n",
    "    elif (a == d and b == e) or (a == e and b == d):\n",
    "        print(h)\n",
    "else:\n",
    "    print(\"ошибка цвета\")"
   ]
  },
  {
   "cell_type": "code",
   "execution_count": 6,
   "id": "9d68a578",
   "metadata": {},
   "outputs": [
    {
     "name": "stdout",
     "output_type": "stream",
     "text": [
      "4\n"
     ]
    }
   ],
   "source": [
    "a = int(input())\n",
    "if 0 <= a <= 36:\n",
    "    if a == 0:\n",
    "        print(\"зеленый\")\n",
    "    elif(1 <= a <= 10) or (19 <= a <= 28):\n",
    "        if a % 2 == 0:\n",
    "            print(\"черный\")\n",
    "        else:\n",
    "            print(\"красный\")\n",
    "    else:\n",
    "        if a % 2 != 0:\n",
    "            print(\"черный\")\n",
    "        else:\n",
    "            print(\"красный\")\n",
    "else:\n",
    "    print(\"ошибка ввода\")"
   ]
  },
  {
   "cell_type": "code",
   "execution_count": 7,
   "id": "dce693c8",
   "metadata": {},
   "outputs": [
    {
     "ename": "SyntaxError",
     "evalue": "unexpected EOF while parsing (<ipython-input-7-0ec885326fb0>, line 29)",
     "output_type": "error",
     "traceback": [
      "\u001b[1;36m  File \u001b[1;32m\"<ipython-input-7-0ec885326fb0>\"\u001b[1;36m, line \u001b[1;32m29\u001b[0m\n\u001b[1;33m    \u001b[0m\n\u001b[1;37m    ^\u001b[0m\n\u001b[1;31mSyntaxError\u001b[0m\u001b[1;31m:\u001b[0m unexpected EOF while parsing\n"
     ]
    }
   ],
   "source": [
    "a1 = int(input())\n",
    "b1 = int(input())\n",
    "a2 = int(input())\n",
    "b2 = int(input())\n",
    "if(b1 < a2):\n",
    "    print(\"пустое множество\")\n",
    "elif(b2 < a1):\n",
    "    print(\"пустое множество\")\n",
    "elif(a1 < a2 < b2 < b1):\n",
    "    print(a2, b2)\n",
    "elif(a1 < a2 < b1 < b2):\n",
    "    print(a2, b1)\n",
    "elif(a2 < a1 < b2 < b1):\n",
    "    print(a1, b2)\n",
    "elif(a2 < a1 < b1 < b2):\n",
    "    print(a1, b1)\n",
    "elif((a1 < b2) and (b1 == a2)):\n",
    "    print(b1)\n",
    "elif((a2 < b1) and (b2 == a1)):\n",
    "    print(b2)\n",
    "elif((a1 == a2) and (b1 == b2)):\n",
    "    print(a1, b1)\n",
    "elif((a1 == a2) and (b1 < b2)):\n",
    "    print(a1, b1)\n",
    "elif((a2 < a1) and (b1 == b2)):\n",
    "    print(a1, b1)\n",
    "elif(a1 < a2) and (b1 == b2):\n",
    "    print(a2, b2)\n",
    "elif(a1 == a2) and (b2 < b1):\n",
    "    print(a1, b2)\n",
    "\n",
    "    "
   ]
  },
  {
   "cell_type": "code",
   "execution_count": 14,
   "id": "b85b4cf8",
   "metadata": {},
   "outputs": [
    {
     "name": "stdout",
     "output_type": "stream",
     "text": [
      "810\n",
      "NO\n"
     ]
    }
   ],
   "source": [
    "a = int(input())\n",
    "if ((a % 10) == 0) and ((a % 100) / 10 == 0):\n",
    "    print(\"YES\")\n",
    "else:\n",
    "    print(\"NO\")"
   ]
  },
  {
   "cell_type": "code",
   "execution_count": 16,
   "id": "7166d4e1",
   "metadata": {},
   "outputs": [
    {
     "name": "stdout",
     "output_type": "stream",
     "text": [
      "1\n",
      "7\n",
      "6\n",
      "6\n",
      "YES\n"
     ]
    }
   ],
   "source": [
    "x1, y1, x2, y2 = int(input()), int(input()), int(input()), int(input())\n",
    "if (x1 + x2 + y1 + y2) % 2 == 0:\n",
    "    print(\"YES\")\n",
    "else:\n",
    "    print(\"NO\")"
   ]
  },
  {
   "cell_type": "code",
   "execution_count": 17,
   "id": "a23f29eb",
   "metadata": {},
   "outputs": [
    {
     "name": "stdout",
     "output_type": "stream",
     "text": [
      "13\n",
      "m\n",
      "YES\n"
     ]
    }
   ],
   "source": [
    "a = int(input())\n",
    "g = input()\n",
    "if (10 <= a <= 15) and (g == \"f\"):\n",
    "    print(\"YES\")\n",
    "else:\n",
    "    print(\"NO\")"
   ]
  },
  {
   "cell_type": "code",
   "execution_count": 18,
   "id": "2bda684b",
   "metadata": {},
   "outputs": [
    {
     "name": "stdout",
     "output_type": "stream",
     "text": [
      "8\n",
      "VIII\n"
     ]
    }
   ],
   "source": [
    "a = int(input())\n",
    "if (0 < a <= 10):\n",
    "    if a == 1:\n",
    "        print(\"I\")\n",
    "    elif a == 2:\n",
    "        print(\"II\")\n",
    "    elif a == 3:\n",
    "        print(\"III\")\n",
    "    elif a == 4:\n",
    "        print(\"IV\")\n",
    "    elif a == 5:\n",
    "        print(\"V\")\n",
    "    elif a == 6:\n",
    "        print(\"VI\")\n",
    "    elif a == 7:\n",
    "        print(\"VII\")\n",
    "    elif a == 8:\n",
    "        print(\"VIII\")\n",
    "    elif a == 9:\n",
    "        print(\"IX\")\n",
    "    elif a == 10:\n",
    "        print(\"X\")\n",
    "else:\n",
    "    print(\"ошибка\")\n",
    "        "
   ]
  },
  {
   "cell_type": "code",
   "execution_count": null,
   "id": "f3c0e704",
   "metadata": {},
   "outputs": [],
   "source": [
    "a = int(input())\n",
    "if a % 2 == 1:\n",
    "    print(\"YES\")\n",
    "elif(2 <= a <= 5) and (a % 2 == 0):\n",
    "    print(\"NO\")\n",
    "elif(6 <= a <= 20) and (a % 2 == 0):\n",
    "    print(\"YES\")\n",
    "elif(a > 20) and (a % 2 == 0):\n",
    "    print(\"NO\")\n",
    "    "
   ]
  },
  {
   "cell_type": "code",
   "execution_count": null,
   "id": "dbbb171e",
   "metadata": {},
   "outputs": [],
   "source": [
    "x1, y1, x2, y2 = int(input()), int(input()), int(input()), int(input())\n",
    "if (x1 + y1 == x2 + y2) or (x1 - y1 == x2 - y2):\n",
    "    print(\"YES\")\n",
    "else:\n",
    "    print(\"NO\")"
   ]
  },
  {
   "cell_type": "code",
   "execution_count": null,
   "id": "4caa3356",
   "metadata": {},
   "outputs": [],
   "source": [
    "x1, y1, x2, y2 = int(input()), int(input()), int(input()), int(input())\n",
    "if ((x1 - x2)*(y1 - y2) == 2) or ((x1 - x2)*(y1 - y2) == -2):\n",
    "    print(\"YES\")\n",
    "else:\n",
    "    print(\"NO\")"
   ]
  },
  {
   "cell_type": "code",
   "execution_count": 20,
   "id": "c37d3183",
   "metadata": {},
   "outputs": [
    {
     "name": "stdout",
     "output_type": "stream",
     "text": [
      "1\n",
      "1\n",
      "2\n",
      "2\n",
      "YES\n"
     ]
    }
   ],
   "source": [
    "x1, y1, x2, y2 = int(input()), int(input()), int(input()), int(input())\n",
    "if ((x1 + y1 == x2 + y2) or (x1 - y1 == x2 - y2)) or (((x1 == x2) and (y1 != y2)) or ((y1 == y2) and (x1 != x2))):\n",
    "    print(\"YES\")\n",
    "else:\n",
    "    print(\"NO\")"
   ]
  },
  {
   "cell_type": "code",
   "execution_count": null,
   "id": "f7735f73",
   "metadata": {},
   "outputs": [],
   "source": [
    "print(float(input()) * float(input()) / 2)"
   ]
  },
  {
   "cell_type": "code",
   "execution_count": null,
   "id": "be8d7ca5",
   "metadata": {},
   "outputs": [],
   "source": [
    "print(float(input()) / (float(input()) + float(input())))"
   ]
  },
  {
   "cell_type": "code",
   "execution_count": 2,
   "id": "8aeb079c",
   "metadata": {},
   "outputs": [
    {
     "name": "stdout",
     "output_type": "stream",
     "text": [
      "133\n",
      "0.007518796992481203\n"
     ]
    }
   ],
   "source": [
    "a = float(input())\n",
    "if (a == 0):\n",
    "    print(\"Обратного числа не существует\")\n",
    "else:\n",
    "    print(1 / a)"
   ]
  },
  {
   "cell_type": "code",
   "execution_count": null,
   "id": "9484adba",
   "metadata": {},
   "outputs": [],
   "source": [
    "print((5 / 9) * (float(input()) - 32))"
   ]
  },
  {
   "cell_type": "code",
   "execution_count": null,
   "id": "b7c7cacf",
   "metadata": {},
   "outputs": [],
   "source": [
    "a = float(input())\n",
    "if a <= 2:\n",
    "    print(a * 10.5)\n",
    "else:\n",
    "    print(2 * 10.5 + (a - 2) * 4)"
   ]
  },
  {
   "cell_type": "code",
   "execution_count": 3,
   "id": "767ffeb2",
   "metadata": {},
   "outputs": [
    {
     "name": "stdout",
     "output_type": "stream",
     "text": [
      "12\n",
      "0\n"
     ]
    }
   ],
   "source": [
    "print(int(((float(input()) * 10) % 10) / 1))"
   ]
  },
  {
   "cell_type": "code",
   "execution_count": 4,
   "id": "93abd9ad",
   "metadata": {},
   "outputs": [
    {
     "name": "stdout",
     "output_type": "stream",
     "text": [
      "123.2\n",
      "0.20000000000000284\n"
     ]
    }
   ],
   "source": [
    "print(((float(input())) % 1))"
   ]
  },
  {
   "cell_type": "code",
   "execution_count": 9,
   "id": "a0e87da5",
   "metadata": {},
   "outputs": [
    {
     "name": "stdout",
     "output_type": "stream",
     "text": [
      "945\n",
      "Число интересное\n"
     ]
    }
   ],
   "source": [
    "d = int(input())\n",
    "a = d // 100\n",
    "b = (d % 100) // 10\n",
    "c = d % 10\n",
    "minX = min(a, b ,c)\n",
    "maxX = max(a, b, c)\n",
    "meanX = a + b + c - minX - maxX\n",
    "if (minX - maxX == meanX) or (maxX - minX == meanX):\n",
    "    print(\"Число интересное\")\n",
    "else:\n",
    "    print(\"Число неинтересное\")"
   ]
  },
  {
   "cell_type": "code",
   "execution_count": 7,
   "id": "1f0f4827",
   "metadata": {},
   "outputs": [
    {
     "name": "stdout",
     "output_type": "stream",
     "text": [
      "945\n"
     ]
    },
    {
     "data": {
      "text/plain": [
       "5"
      ]
     },
     "execution_count": 7,
     "metadata": {},
     "output_type": "execute_result"
    }
   ],
   "source": [
    "d = int(input())\n",
    "a = d // 100\n",
    "b = (d % 100) // 10\n",
    "c = d % 10\n",
    "c"
   ]
  },
  {
   "cell_type": "code",
   "execution_count": 12,
   "id": "f273de92",
   "metadata": {},
   "outputs": [
    {
     "name": "stdout",
     "output_type": "stream",
     "text": [
      "3\n",
      "4\n",
      "3.5\n",
      "3.4641016151377544\n",
      "3.4285714285714284\n",
      "3.5355339059327378\n"
     ]
    }
   ],
   "source": [
    "from math import sqrt\n",
    "a = float(input())\n",
    "b = float(input())\n",
    "print((a + b) / 2)\n",
    "print(sqrt(a * b))\n",
    "print((2 * a * b) / (a + b))\n",
    "print(sqrt((a**2 + b**2) / 2))"
   ]
  },
  {
   "cell_type": "code",
   "execution_count": 13,
   "id": "c8fcbf99",
   "metadata": {},
   "outputs": [
    {
     "name": "stdout",
     "output_type": "stream",
     "text": [
      "30\n",
      "1.6993587371177719\n"
     ]
    }
   ],
   "source": [
    "from math import cos, sin, tan, radians\n",
    "a = float(input())\n",
    "x = radians(a)\n",
    "print(cos(x) + sin(x) + (tan(x))**2)"
   ]
  },
  {
   "cell_type": "code",
   "execution_count": 14,
   "id": "432f98ad",
   "metadata": {},
   "outputs": [
    {
     "name": "stdout",
     "output_type": "stream",
     "text": [
      "1\n",
      "2\n",
      "1\n",
      "-1.0\n"
     ]
    }
   ],
   "source": [
    "\n",
    "a = float(input())\n",
    "b = float(input())\n",
    "c = float(input())\n",
    "d = b**2 - (4 * a * c)\n",
    "if (d > 0):\n",
    "    x1 = (((- b) - sqrt(b**2 - (4 * a * c))) / (2 * a))\n",
    "    x2 = (((- b) + sqrt(b**2 - (4 * a * c))) / (2 * a))\n",
    "    print(min(x1, x2))\n",
    "    print(max(x1, x2))\n",
    "elif (d == 0):\n",
    "    print((- b) / (2 * a))\n",
    "else:\n",
    "    print(\"Нет корней\")"
   ]
  },
  {
   "cell_type": "code",
   "execution_count": null,
   "id": "45f07934",
   "metadata": {},
   "outputs": [],
   "source": [
    "from math import tan, pi\n",
    "n = float(input())\n",
    "a = float(input())\n",
    "print((n * a**2) / (4 * (tan(pi / n))))\n"
   ]
  },
  {
   "cell_type": "code",
   "execution_count": 19,
   "id": "656c6cbc",
   "metadata": {},
   "outputs": [
    {
     "name": "stdout",
     "output_type": "stream",
     "text": [
      "\"Python is a great language!\", said Fred. \"I don't ever remember having this much fun before.\"\n"
     ]
    }
   ],
   "source": [
    "s1 = '\"Python is a great language!\"'\n",
    "s2 = \", said Fred. \"\n",
    "s3 = '\"I don'\n",
    "s4 = \"'t ever remember having this much fun before.\"\n",
    "s5 = '\"'\n",
    "print(s1 + s2 + s3 + s4 + s5)"
   ]
  },
  {
   "cell_type": "code",
   "execution_count": 21,
   "id": "0ca41b03",
   "metadata": {},
   "outputs": [
    {
     "name": "stdout",
     "output_type": "stream",
     "text": [
      "asd\n",
      "fgh\n",
      "Hello asd fgh! You just delved into Python\n"
     ]
    }
   ],
   "source": [
    "s1 = input()\n",
    "s2 = input()\n",
    "s3 = s1 + \" \" + s2\n",
    "print(\"Hello \" + s3 + \"! You just delved into Python\")"
   ]
  },
  {
   "cell_type": "code",
   "execution_count": 25,
   "id": "a83944af",
   "metadata": {},
   "outputs": [
    {
     "name": "stdout",
     "output_type": "stream",
     "text": [
      "AFDDGFM\n",
      "Футбольная команда AFDDGFM имеет длину 7 символов\n"
     ]
    }
   ],
   "source": [
    "s1 = input()\n",
    "s2 = len(s1)\n",
    "print(\"Футбольная команда \" + s1 + \" имеет длину \" + str(s2) + \" символов\")"
   ]
  },
  {
   "cell_type": "code",
   "execution_count": null,
   "id": "fa8f858d",
   "metadata": {},
   "outputs": [],
   "source": [
    "str1 = input()\n",
    "str2 = input()\n",
    "str3 = input()\n",
    "print(min(str1, str2, str3, key=len))\n",
    "print(max(str1, str2, str3, key=len))"
   ]
  },
  {
   "cell_type": "code",
   "execution_count": 2,
   "id": "dce776b5",
   "metadata": {},
   "outputs": [
    {
     "name": "stdout",
     "output_type": "stream",
     "text": [
      "qwe\n",
      "asd\n",
      "x\n",
      "NO\n"
     ]
    }
   ],
   "source": [
    "str1 = len(input())\n",
    "str2 = len(input())\n",
    "str3 = len(input())\n",
    "smin = min(str1, str2, str3)\n",
    "smax = max(str1, str2, str3)\n",
    "smean = str1 + str2 + str3 - smin - smax\n",
    "if smax - smean == smean - smin:\n",
    "    print(\"YES\")\n",
    "else:\n",
    "    print(\"NO\")"
   ]
  },
  {
   "cell_type": "code",
   "execution_count": null,
   "id": "1412b40d",
   "metadata": {},
   "outputs": [],
   "source": [
    "s = input()\n",
    "if (('суббота' in s) or ('воскресенье' in s)):\n",
    "    print('YES')\n",
    "else:\n",
    "    print('NO')"
   ]
  },
  {
   "cell_type": "code",
   "execution_count": 3,
   "id": "b86e6789",
   "metadata": {},
   "outputs": [
    {
     "name": "stdout",
     "output_type": "stream",
     "text": [
      "AAA\n",
      "AAA\n",
      "AAA\n",
      "AAA\n",
      "AAA\n",
      "AAA\n",
      "BBBB\n",
      "BBBB\n",
      "BBBB\n",
      "BBBB\n",
      "BBBB\n",
      "E\n",
      "TTTTT\n",
      "TTTTT\n",
      "TTTTT\n",
      "TTTTT\n",
      "TTTTT\n",
      "TTTTT\n",
      "TTTTT\n",
      "TTTTT\n",
      "TTTTT\n",
      "G\n"
     ]
    }
   ],
   "source": [
    "for i in range(6):\n",
    "    print('A' * 3)\n",
    "for i in range(5):\n",
    "    print('B' * 4)\n",
    "print(\"E\")\n",
    "for i in range(9):\n",
    "    print('T' * 5)\n",
    "print(\"G\")"
   ]
  },
  {
   "cell_type": "code",
   "execution_count": null,
   "id": "1e8e306c",
   "metadata": {},
   "outputs": [],
   "source": [
    "for i in range(6):\n",
    "    print('A' * 3)"
   ]
  },
  {
   "cell_type": "code",
   "execution_count": 5,
   "id": "4d516f49",
   "metadata": {},
   "outputs": [
    {
     "name": "stdout",
     "output_type": "stream",
     "text": [
      "6\n",
      "Квадрат числа  0 равен  0\n",
      "Квадрат числа  1 равен  1\n",
      "Квадрат числа  2 равен  4\n",
      "Квадрат числа  3 равен  9\n",
      "Квадрат числа  4 равен  16\n",
      "Квадрат числа  5 равен  25\n"
     ]
    }
   ],
   "source": [
    "a = int(input())\n",
    "for i in range(a + 1):\n",
    "    print('Квадрат числа', i, 'равен', i * i)"
   ]
  },
  {
   "cell_type": "code",
   "execution_count": 6,
   "id": "256446d3",
   "metadata": {},
   "outputs": [
    {
     "name": "stdout",
     "output_type": "stream",
     "text": [
      "10\n",
      "**********\n",
      "*********\n",
      "********\n",
      "*******\n",
      "******\n",
      "*****\n",
      "****\n",
      "***\n",
      "**\n",
      "*\n"
     ]
    }
   ],
   "source": [
    "a = int(input())\n",
    "for i in range(a):\n",
    "    print('*' * (a - i))"
   ]
  },
  {
   "cell_type": "code",
   "execution_count": 14,
   "id": "b17b4562",
   "metadata": {},
   "outputs": [
    {
     "name": "stdout",
     "output_type": "stream",
     "text": [
      "10\n",
      "50\n",
      "6\n",
      "0 10\n",
      "1 15.0\n",
      "2 22.5\n",
      "3 33.75\n",
      "4 50.625\n",
      "5 75.9375\n"
     ]
    }
   ],
   "source": [
    "s = int(input())\n",
    "p = int(input())\n",
    "n = int(input())\n",
    "for i in range(n):\n",
    "    print(i + 1, s)\n",
    "    s = s * (1 + p / 100)   "
   ]
  },
  {
   "cell_type": "code",
   "execution_count": null,
   "id": "67a6871b",
   "metadata": {},
   "outputs": [],
   "source": [
    "a = int(input())\n",
    "b = int(input())\n",
    "if (a < b):\n",
    "    for i in range(a, b + 1):\n",
    "        print(i)\n",
    "if (a > b):\n",
    "    for i in range(a, b - 1, -1):\n",
    "        print(i)\n",
    "if (a == b):\n",
    "        print(a)"
   ]
  },
  {
   "cell_type": "code",
   "execution_count": 25,
   "id": "3f70ec4e",
   "metadata": {},
   "outputs": [
    {
     "name": "stdout",
     "output_type": "stream",
     "text": [
      "77\n",
      "63\n",
      "77\n",
      "75\n",
      "73\n",
      "71\n",
      "69\n",
      "67\n",
      "65\n",
      "63\n"
     ]
    }
   ],
   "source": [
    "m, n = int(input()), int(input())\n",
    "\n",
    "start = ((m - 1) // 2) * 2 + 1\n",
    "\n",
    "for i in range(start, n - 1, -2):\n",
    "    print(i)       "
   ]
  },
  {
   "cell_type": "code",
   "execution_count": 28,
   "id": "2284e546",
   "metadata": {},
   "outputs": [
    {
     "data": {
      "text/plain": [
       "0"
      ]
     },
     "execution_count": 28,
     "metadata": {},
     "output_type": "execute_result"
    }
   ],
   "source": [
    "- 4 % 2 "
   ]
  },
  {
   "cell_type": "code",
   "execution_count": 50,
   "id": "a77e7a24",
   "metadata": {},
   "outputs": [
    {
     "name": "stdout",
     "output_type": "stream",
     "text": [
      "17\n",
      "17\n",
      "17\n"
     ]
    }
   ],
   "source": [
    "m, n = int(input()), int(input())\n",
    "for i in range (m, n, 1):\n",
    "    if ((i % 17 == 0) or (i % 10 == 9) or (i % 3 == 0) and (i % 5 == 0)):\n",
    "        print(i)\n",
    "if n % 17 == 0 or n % 15 == 0:\n",
    "    print(n)\n",
    "elif m == n:\n",
    "    if ((m % 17 == 0) or (m % 10 == 9) or (m % 3 == 0 and m % 5 == 0)):\n",
    "        print(m)"
   ]
  },
  {
   "cell_type": "code",
   "execution_count": 51,
   "id": "356862aa",
   "metadata": {},
   "outputs": [
    {
     "name": "stdout",
     "output_type": "stream",
     "text": [
      "5\n",
      "5 x 0 = 0\n",
      "5 x 1 = 5\n",
      "5 x 2 = 10\n",
      "5 x 3 = 15\n",
      "5 x 4 = 20\n",
      "5 x 5 = 25\n",
      "5 x 6 = 30\n",
      "5 x 7 = 35\n",
      "5 x 8 = 40\n",
      "5 x 9 = 45\n",
      "5 x 10 = 50\n"
     ]
    }
   ],
   "source": [
    "a = int(input())\n",
    "for i in range (1,11):\n",
    "    print(a, 'x', i, '=', a * i)"
   ]
  },
  {
   "cell_type": "code",
   "execution_count": 3,
   "id": "2b0d7f57",
   "metadata": {},
   "outputs": [
    {
     "name": "stdout",
     "output_type": "stream",
     "text": [
      "1\n",
      "10\n",
      "2\n"
     ]
    }
   ],
   "source": [
    "count = 0\n",
    "a = int(input())\n",
    "b = int(input())\n",
    "for i in range (a, b + 1, 1):\n",
    "    if  (i * i * i) % 10 == 4 or (i * i * i) % 10 == 9:\n",
    "        count += 1\n",
    "print(count)"
   ]
  },
  {
   "cell_type": "code",
   "execution_count": 4,
   "id": "d0e1d418",
   "metadata": {},
   "outputs": [
    {
     "name": "stdout",
     "output_type": "stream",
     "text": [
      "5\n",
      "3\n",
      "2\n",
      "1\n",
      "0\n",
      "-1\n",
      "5\n"
     ]
    }
   ],
   "source": [
    "count = 0\n",
    "a = int(input())\n",
    "for _ in range(a):\n",
    "    count += int(input())\n",
    "print(count)"
   ]
  },
  {
   "cell_type": "code",
   "execution_count": 32,
   "id": "02e918c8",
   "metadata": {},
   "outputs": [
    {
     "name": "stdout",
     "output_type": "stream",
     "text": [
      "10\n",
      "2.9289682539682538\n",
      "2.302585092994046\n",
      "0.6263831609742079\n"
     ]
    }
   ],
   "source": [
    "from math import log\n",
    "count = 0\n",
    "i = int(input())\n",
    "for _ in range(1, i + 1, 1):\n",
    "    count += (1 / _)\n",
    "print(count)\n",
    "print(log(i))\n",
    "print(count - log(i))\n"
   ]
  },
  {
   "cell_type": "code",
   "execution_count": 34,
   "id": "cece67a2",
   "metadata": {},
   "outputs": [
    {
     "name": "stdout",
     "output_type": "stream",
     "text": [
      "10\n",
      "5\n"
     ]
    }
   ],
   "source": [
    "count = 0\n",
    "a = int(input())\n",
    "for i in range(1, a + 1, 1):\n",
    "    if  (i * i) % 10 == 5 or (i * i) % 10 == 2 or (i * i) % 10 == 8:\n",
    "        count += i\n",
    "print(count)"
   ]
  },
  {
   "cell_type": "code",
   "execution_count": 40,
   "id": "73329d5f",
   "metadata": {},
   "outputs": [
    {
     "name": "stdout",
     "output_type": "stream",
     "text": [
      "1\n",
      "1\n"
     ]
    }
   ],
   "source": [
    "fact = 1\n",
    "n = int(input())\n",
    "for i in range(1, n + 1):\n",
    "    fact *= i\n",
    "print(fact)"
   ]
  },
  {
   "cell_type": "code",
   "execution_count": 41,
   "id": "36dfe06f",
   "metadata": {},
   "outputs": [
    {
     "name": "stdout",
     "output_type": "stream",
     "text": [
      "8\n",
      "0\n",
      "1\n",
      "2\n",
      "3\n",
      "5\n",
      "0\n",
      "8\n",
      "9\n",
      "6\n",
      "3\n",
      "311040\n"
     ]
    }
   ],
   "source": [
    "mul = 1\n",
    "n1 = int(input())\n",
    "n2 = int(input())\n",
    "n3 = int(input())\n",
    "n4 = int(input())\n",
    "n5 = int(input())\n",
    "n6 = int(input())\n",
    "n7 = int(input())\n",
    "n8 = int(input())\n",
    "n9 = int(input())\n",
    "n10 = int(input())\n",
    "for i in range (11):\n",
    "    if n != 0:\n",
    "        mul *= n\n",
    "print(mul)      "
   ]
  },
  {
   "cell_type": "code",
   "execution_count": null,
   "id": "24230b60",
   "metadata": {},
   "outputs": [],
   "source": [
    "mul = 1\n",
    "for i in range (10):\n",
    "    n = int(input())\n",
    "    if n != 0:\n",
    "        mul *= n\n",
    "print(mul)  "
   ]
  },
  {
   "cell_type": "code",
   "execution_count": 44,
   "id": "d05b508d",
   "metadata": {},
   "outputs": [
    {
     "name": "stdout",
     "output_type": "stream",
     "text": [
      "50\n",
      "93\n"
     ]
    }
   ],
   "source": [
    "count = 0\n",
    "a = int(input())\n",
    "for i in range(1, a + 1):\n",
    "    if a % i == 0:\n",
    "        count += i\n",
    "print(count)"
   ]
  },
  {
   "cell_type": "code",
   "execution_count": 49,
   "id": "28942bb4",
   "metadata": {},
   "outputs": [
    {
     "name": "stdout",
     "output_type": "stream",
     "text": [
      "5\n",
      "3\n"
     ]
    }
   ],
   "source": [
    "count = 0\n",
    "const = 0\n",
    "a = int(input())\n",
    "for i in range(0, a + 1):\n",
    "    const = i\n",
    "    if i % 2 == 0:\n",
    "        count -= const\n",
    "    else:\n",
    "        count += const       \n",
    "print(count)"
   ]
  },
  {
   "cell_type": "code",
   "execution_count": 50,
   "id": "bb8c0697",
   "metadata": {},
   "outputs": [
    {
     "name": "stdout",
     "output_type": "stream",
     "text": [
      "8\n",
      "5\n",
      "99\n",
      "12\n",
      "5\n",
      "16\n",
      "33\n",
      "0\n",
      "2\n",
      "5\n",
      "99\n",
      "33\n"
     ]
    }
   ],
   "source": [
    "n = int(input())\n",
    "lar1 = 0\n",
    "lar2 = 0\n",
    "for _ in range (1, n + 1):\n",
    "    i = int(input())\n",
    "    if i > lar1:\n",
    "        lar2 = lar1\n",
    "        lar1 = i\n",
    "    elif i < lar1 and i > lar2:\n",
    "        lar2 = i\n",
    "print(lar1)\n",
    "print(lar2)"
   ]
  },
  {
   "cell_type": "code",
   "execution_count": 55,
   "id": "6ac1804a",
   "metadata": {},
   "outputs": [
    {
     "name": "stdout",
     "output_type": "stream",
     "text": [
      "1\n",
      "3\n",
      "6\n",
      "6\n",
      "6\n",
      "6\n",
      "9\n",
      "9\n",
      "9\n",
      "9\n",
      "NO\n"
     ]
    }
   ],
   "source": [
    "count = 1\n",
    "for _ in range(10):\n",
    "    n = int(input())\n",
    "    if n % 2 != 0:\n",
    "        count *= 0\n",
    "    else:\n",
    "        count *= 1\n",
    "if count == 0:\n",
    "    print(\"NO\")\n",
    "else:\n",
    "    print(\"YES\")"
   ]
  },
  {
   "cell_type": "code",
   "execution_count": 62,
   "id": "255496d9",
   "metadata": {},
   "outputs": [
    {
     "name": "stdout",
     "output_type": "stream",
     "text": [
      "22\n",
      "1 1 2 3 5 8 13 21 34 55 89 144 233 377 610 987 1597 2584 4181 6765 10946 17711 "
     ]
    }
   ],
   "source": [
    "n = int(input())\n",
    "fib1 = 0\n",
    "fib2 = 1\n",
    "for _ in range (1, n + 1):\n",
    "    fib1, fib2 = fib2, fib1 + fib2\n",
    "    print(fib1, end = \" \")"
   ]
  },
  {
   "cell_type": "code",
   "execution_count": null,
   "id": "697f89a5",
   "metadata": {},
   "outputs": [],
   "source": [
    "text = input()\n",
    "total = 0\n",
    "while text != 'stop':\n",
    "    num = int(text)\n",
    "    total += num\n",
    "    text = input()\n",
    "print('Сумма чисел равна', total)"
   ]
  },
  {
   "cell_type": "code",
   "execution_count": 66,
   "id": "f4db32d4",
   "metadata": {},
   "outputs": [
    {
     "name": "stdout",
     "output_type": "stream",
     "text": [
      "вет\n",
      "вет\n",
      "ке\n",
      "ке\n",
      "КОНЕЦ\n"
     ]
    }
   ],
   "source": [
    "text = input()\n",
    "total = \"\"\n",
    "while text != 'КОНЕЦ':\n",
    "    total = text\n",
    "    print(total)\n",
    "    text = input()"
   ]
  },
  {
   "cell_type": "code",
   "execution_count": 69,
   "id": "873b2e56",
   "metadata": {},
   "outputs": [
    {
     "ename": "KeyboardInterrupt",
     "evalue": "Interrupted by user",
     "output_type": "error",
     "traceback": [
      "\u001b[1;31m---------------------------------------------------------------------------\u001b[0m",
      "\u001b[1;31mKeyboardInterrupt\u001b[0m                         Traceback (most recent call last)",
      "\u001b[1;32m<ipython-input-69-5e3b586fc26a>\u001b[0m in \u001b[0;36m<module>\u001b[1;34m\u001b[0m\n\u001b[1;32m----> 1\u001b[1;33m \u001b[0mtext\u001b[0m \u001b[1;33m=\u001b[0m \u001b[0minput\u001b[0m\u001b[1;33m(\u001b[0m\u001b[1;33m)\u001b[0m\u001b[1;33m\u001b[0m\u001b[1;33m\u001b[0m\u001b[0m\n\u001b[0m\u001b[0;32m      2\u001b[0m \u001b[0mtotal\u001b[0m \u001b[1;33m=\u001b[0m \u001b[1;34m\"\"\u001b[0m\u001b[1;33m\u001b[0m\u001b[1;33m\u001b[0m\u001b[0m\n\u001b[0;32m      3\u001b[0m \u001b[1;32mwhile\u001b[0m \u001b[1;33m(\u001b[0m\u001b[1;33m(\u001b[0m\u001b[0mtext\u001b[0m \u001b[1;33m!=\u001b[0m \u001b[1;34m'КОНЕЦ'\u001b[0m\u001b[1;33m)\u001b[0m \u001b[1;32mand\u001b[0m \u001b[1;33m(\u001b[0m\u001b[0mtext\u001b[0m \u001b[1;33m!=\u001b[0m \u001b[1;34m'конец'\u001b[0m\u001b[1;33m)\u001b[0m\u001b[1;33m)\u001b[0m\u001b[1;33m:\u001b[0m\u001b[1;33m\u001b[0m\u001b[1;33m\u001b[0m\u001b[0m\n\u001b[0;32m      4\u001b[0m     \u001b[0mtotal\u001b[0m \u001b[1;33m=\u001b[0m \u001b[0mtext\u001b[0m\u001b[1;33m\u001b[0m\u001b[1;33m\u001b[0m\u001b[0m\n\u001b[0;32m      5\u001b[0m     \u001b[0mprint\u001b[0m\u001b[1;33m(\u001b[0m\u001b[0mtotal\u001b[0m\u001b[1;33m)\u001b[0m\u001b[1;33m\u001b[0m\u001b[1;33m\u001b[0m\u001b[0m\n",
      "\u001b[1;32mC:\\ProgramData\\Anaconda3\\lib\\site-packages\\ipykernel\\kernelbase.py\u001b[0m in \u001b[0;36mraw_input\u001b[1;34m(self, prompt)\u001b[0m\n\u001b[0;32m    858\u001b[0m                 \u001b[1;34m\"raw_input was called, but this frontend does not support input requests.\"\u001b[0m\u001b[1;33m\u001b[0m\u001b[1;33m\u001b[0m\u001b[0m\n\u001b[0;32m    859\u001b[0m             )\n\u001b[1;32m--> 860\u001b[1;33m         return self._input_request(str(prompt),\n\u001b[0m\u001b[0;32m    861\u001b[0m             \u001b[0mself\u001b[0m\u001b[1;33m.\u001b[0m\u001b[0m_parent_ident\u001b[0m\u001b[1;33m,\u001b[0m\u001b[1;33m\u001b[0m\u001b[1;33m\u001b[0m\u001b[0m\n\u001b[0;32m    862\u001b[0m             \u001b[0mself\u001b[0m\u001b[1;33m.\u001b[0m\u001b[0m_parent_header\u001b[0m\u001b[1;33m,\u001b[0m\u001b[1;33m\u001b[0m\u001b[1;33m\u001b[0m\u001b[0m\n",
      "\u001b[1;32mC:\\ProgramData\\Anaconda3\\lib\\site-packages\\ipykernel\\kernelbase.py\u001b[0m in \u001b[0;36m_input_request\u001b[1;34m(self, prompt, ident, parent, password)\u001b[0m\n\u001b[0;32m    902\u001b[0m             \u001b[1;32mexcept\u001b[0m \u001b[0mKeyboardInterrupt\u001b[0m\u001b[1;33m:\u001b[0m\u001b[1;33m\u001b[0m\u001b[1;33m\u001b[0m\u001b[0m\n\u001b[0;32m    903\u001b[0m                 \u001b[1;31m# re-raise KeyboardInterrupt, to truncate traceback\u001b[0m\u001b[1;33m\u001b[0m\u001b[1;33m\u001b[0m\u001b[1;33m\u001b[0m\u001b[0m\n\u001b[1;32m--> 904\u001b[1;33m                 \u001b[1;32mraise\u001b[0m \u001b[0mKeyboardInterrupt\u001b[0m\u001b[1;33m(\u001b[0m\u001b[1;34m\"Interrupted by user\"\u001b[0m\u001b[1;33m)\u001b[0m \u001b[1;32mfrom\u001b[0m \u001b[1;32mNone\u001b[0m\u001b[1;33m\u001b[0m\u001b[1;33m\u001b[0m\u001b[0m\n\u001b[0m\u001b[0;32m    905\u001b[0m             \u001b[1;32mexcept\u001b[0m \u001b[0mException\u001b[0m \u001b[1;32mas\u001b[0m \u001b[0me\u001b[0m\u001b[1;33m:\u001b[0m\u001b[1;33m\u001b[0m\u001b[1;33m\u001b[0m\u001b[0m\n\u001b[0;32m    906\u001b[0m                 \u001b[0mself\u001b[0m\u001b[1;33m.\u001b[0m\u001b[0mlog\u001b[0m\u001b[1;33m.\u001b[0m\u001b[0mwarning\u001b[0m\u001b[1;33m(\u001b[0m\u001b[1;34m\"Invalid Message:\"\u001b[0m\u001b[1;33m,\u001b[0m \u001b[0mexc_info\u001b[0m\u001b[1;33m=\u001b[0m\u001b[1;32mTrue\u001b[0m\u001b[1;33m)\u001b[0m\u001b[1;33m\u001b[0m\u001b[1;33m\u001b[0m\u001b[0m\n",
      "\u001b[1;31mKeyboardInterrupt\u001b[0m: Interrupted by user"
     ]
    }
   ],
   "source": [
    "text = input()\n",
    "total = \"\"\n",
    "while ((text != 'КОНЕЦ') and (text != 'конец')):\n",
    "    total = text\n",
    "    print(total)\n",
    "    text = input()"
   ]
  },
  {
   "cell_type": "code",
   "execution_count": 70,
   "id": "ffafc9d6",
   "metadata": {},
   "outputs": [
    {
     "name": "stdout",
     "output_type": "stream",
     "text": [
      "srhb\n",
      "etnjs\n",
      "eth\n",
      "srtnt\n",
      "s\n",
      "стоп\n",
      "5\n"
     ]
    }
   ],
   "source": [
    "text = input()\n",
    "total = 0\n",
    "while ((text != 'стоп') and (text != 'хватит')  and (text != 'достаточно')):\n",
    "    total += 1\n",
    "    text = input()\n",
    "print(total)"
   ]
  },
  {
   "cell_type": "code",
   "execution_count": 72,
   "id": "cf5b63fd",
   "metadata": {},
   "outputs": [
    {
     "name": "stdout",
     "output_type": "stream",
     "text": [
      "7\n",
      "7\n",
      "49\n",
      "49\n",
      "6\n"
     ]
    }
   ],
   "source": [
    "text = int(input())\n",
    "while text % 7 == 0:\n",
    "    print(text)\n",
    "    text = int(input())"
   ]
  },
  {
   "cell_type": "code",
   "execution_count": null,
   "id": "24d16b52",
   "metadata": {},
   "outputs": [],
   "source": [
    "text = int(input())\n",
    "summ = 0\n",
    "while text >= 0:\n",
    "    summ += text\n",
    "    text = int(input())\n",
    "print(summ)"
   ]
  },
  {
   "cell_type": "code",
   "execution_count": 78,
   "id": "a91c0cba",
   "metadata": {},
   "outputs": [
    {
     "name": "stdout",
     "output_type": "stream",
     "text": [
      "1\n",
      "2\n",
      "3\n",
      "4\n",
      "3\n",
      "2\n",
      "42\n",
      "0\n"
     ]
    }
   ],
   "source": [
    "text = int(input())\n",
    "summ = 0\n",
    "while (text >= 0 and text <= 5):\n",
    "    if text == 5:\n",
    "        summ += 1\n",
    "    text = int(input())\n",
    "print(summ)"
   ]
  },
  {
   "cell_type": "code",
   "execution_count": 90,
   "id": "9e187e89",
   "metadata": {},
   "outputs": [
    {
     "name": "stdout",
     "output_type": "stream",
     "text": [
      "5\n",
      "0\n",
      "0\n",
      "1\n",
      "0\n",
      "1\n"
     ]
    }
   ],
   "source": [
    "summ = int(input())\n",
    "coins = (summ // 25) + ((summ % 25) // 10) + (((summ % 25) // 10) // 5) + (summ % 5 // 1)\n",
    "coin25 = summ // 25\n",
    "coin10 = (summ - (coin25 * 25)) // 10\n",
    "coin5 = (summ - (coin25 * 25) - (coin10 * 10)) // 5\n",
    "coin1 = summ % 5 // 1\n",
    "print(coin25)\n",
    "print(coin10)\n",
    "print(coin5)\n",
    "print(coin1)\n",
    "print(coin25 + coin10 + coin5 + coin1)"
   ]
  },
  {
   "cell_type": "code",
   "execution_count": 92,
   "id": "a4f42734",
   "metadata": {},
   "outputs": [
    {
     "name": "stdout",
     "output_type": "stream",
     "text": [
      "123456\n",
      "6\n",
      "5\n",
      "4\n",
      "3\n",
      "2\n",
      "1\n"
     ]
    }
   ],
   "source": [
    "num = int(input())\n",
    "while num != 0:\n",
    "    last_digit = num % 10\n",
    "    num = num // 10\n",
    "    print(last_digit)"
   ]
  },
  {
   "cell_type": "code",
   "execution_count": 95,
   "id": "a36034f4",
   "metadata": {},
   "outputs": [
    {
     "name": "stdout",
     "output_type": "stream",
     "text": [
      "123\n",
      "3\n",
      "32\n",
      "321\n",
      "0\n"
     ]
    }
   ],
   "source": [
    "num = int(input())\n",
    "new = ''\n",
    "while num != 0:\n",
    "    last_digit = num % 10\n",
    "    new += str(last_digit)\n",
    "    num = num // 10\n",
    "print(int(new))    "
   ]
  },
  {
   "cell_type": "code",
   "execution_count": 96,
   "id": "8463f6a4",
   "metadata": {},
   "outputs": [
    {
     "name": "stdout",
     "output_type": "stream",
     "text": [
      "123456\n",
      "Максимальная цифра равна 6\n",
      "Минимальная цифра равна 0\n"
     ]
    }
   ],
   "source": [
    "num = int(input())\n",
    "min = 9\n",
    "max = 0\n",
    "while num != 0:\n",
    "    last_digit = num % 10\n",
    "    if last_digit > max:\n",
    "        max = last_digit\n",
    "    if last_digit < min:\n",
    "        min = last_digit\n",
    "    num = num // 10\n",
    "print(\"Максимальная цифра равна\", max)    \n",
    "print(\"Минимальная цифра равна\", min)    "
   ]
  },
  {
   "cell_type": "code",
   "execution_count": 97,
   "id": "540a1669",
   "metadata": {},
   "outputs": [
    {
     "name": "stdout",
     "output_type": "stream",
     "text": [
      "45656\n",
      "26\n",
      "5\n",
      "3600\n",
      "5.2\n",
      "4\n",
      "10\n"
     ]
    }
   ],
   "source": [
    "a, b, c = list(input()), 0, 1\n",
    "for i in a: b+=int(i)\n",
    "for i in a: c*=int(i)\n",
    "print(f\"{b}\\n{len(a)}\\n{c}\\n{b/len(a)}\\n{a[0]}\\n{int(a[0])+int(a[-1])}\")"
   ]
  },
  {
   "cell_type": "code",
   "execution_count": 98,
   "id": "f0d12ecb",
   "metadata": {},
   "outputs": [
    {
     "name": "stdout",
     "output_type": "stream",
     "text": [
      "123654\n",
      "2\n"
     ]
    }
   ],
   "source": [
    "num = int(input())\n",
    "while num > 99:\n",
    "    num = num // 10\n",
    "print(num % 10)    "
   ]
  },
  {
   "cell_type": "code",
   "execution_count": 113,
   "id": "cec94a5b",
   "metadata": {},
   "outputs": [
    {
     "name": "stdout",
     "output_type": "stream",
     "text": [
      "0333305\n",
      "5\n",
      "333305\n",
      "5\n",
      "33330\n",
      "0\n",
      "3333\n",
      "3\n",
      "333\n",
      "3\n",
      "33\n",
      "3\n",
      "3\n",
      "NO\n"
     ]
    }
   ],
   "source": [
    "num = int(input())\n",
    "next = 0\n",
    "swap = num % 10\n",
    "flag = 1\n",
    "while num != 0:\n",
    "    if swap == num % 10:\n",
    "        flag *= 1\n",
    "    elif swap != num % 10:\n",
    "        flag *= 0\n",
    "    print(swap)\n",
    "    print(num)\n",
    "    swap = num % 10\n",
    "    num = num // 10\n",
    "if flag == 1:\n",
    "    print(\"YES\")\n",
    "else:\n",
    "    print(\"NO\")"
   ]
  },
  {
   "cell_type": "code",
   "execution_count": 120,
   "id": "75bf06e0",
   "metadata": {},
   "outputs": [
    {
     "name": "stdout",
     "output_type": "stream",
     "text": [
      "65444321\n",
      "YES\n"
     ]
    }
   ],
   "source": [
    "num = int(input())\n",
    "swap = 0\n",
    "flag = 1\n",
    "while num != 0:\n",
    "    if swap <= num % 10:\n",
    "        flag *= 1\n",
    "    elif swap > num % 10:\n",
    "        flag *= 0\n",
    "    swap = num % 10\n",
    "    num = num // 10\n",
    "if flag == 1:\n",
    "    print(\"YES\")\n",
    "else:\n",
    "    print(\"NO\")"
   ]
  },
  {
   "cell_type": "code",
   "execution_count": 1,
   "id": "8b9d9e8f",
   "metadata": {},
   "outputs": [
    {
     "name": "stdout",
     "output_type": "stream",
     "text": [
      "1\n",
      "2\n",
      "3\n",
      "4\n",
      "5\n",
      "6\n",
      "8\n",
      "9\n",
      "10\n",
      "11\n",
      "12\n",
      "13\n",
      "14\n",
      "15\n",
      "16\n",
      "18\n",
      "19\n",
      "20\n",
      "21\n",
      "22\n",
      "23\n",
      "24\n",
      "25\n",
      "26\n",
      "27\n",
      "28\n",
      "30\n",
      "31\n",
      "32\n",
      "33\n",
      "34\n",
      "35\n",
      "36\n",
      "37\n",
      "38\n",
      "39\n",
      "40\n",
      "41\n",
      "42\n",
      "43\n",
      "44\n",
      "45\n",
      "46\n",
      "47\n",
      "48\n",
      "49\n",
      "50\n",
      "51\n",
      "52\n",
      "53\n",
      "54\n",
      "55\n",
      "56\n",
      "57\n",
      "58\n",
      "59\n",
      "60\n",
      "61\n",
      "62\n",
      "63\n",
      "64\n",
      "65\n",
      "66\n",
      "67\n",
      "68\n",
      "69\n",
      "70\n",
      "71\n",
      "72\n",
      "73\n",
      "74\n",
      "75\n",
      "76\n",
      "77\n",
      "79\n",
      "80\n",
      "81\n",
      "82\n",
      "83\n",
      "84\n",
      "85\n",
      "86\n",
      "87\n",
      "88\n",
      "89\n",
      "90\n",
      "91\n",
      "92\n",
      "93\n",
      "94\n",
      "95\n",
      "96\n",
      "97\n",
      "98\n",
      "99\n",
      "100\n"
     ]
    }
   ],
   "source": [
    "for i in range(1, 101):\n",
    "    if i == 7 or i == 17 or i == 29 or i == 78:\n",
    "        continue  # переходим на следующую итерацию\n",
    "    print(i)"
   ]
  },
  {
   "cell_type": "code",
   "execution_count": 5,
   "id": "b1d089e8",
   "metadata": {},
   "outputs": [
    {
     "name": "stdout",
     "output_type": "stream",
     "text": [
      "9\n",
      "3\n"
     ]
    }
   ],
   "source": [
    "a = int(input())\n",
    "for i in range(2, a + 1):\n",
    "    if a % i == 0:\n",
    "        print(i)\n",
    "        break"
   ]
  },
  {
   "cell_type": "code",
   "execution_count": 8,
   "id": "eb9ba3cd",
   "metadata": {},
   "outputs": [
    {
     "name": "stdout",
     "output_type": "stream",
     "text": [
      "5\n",
      "1\n",
      "2\n",
      "3\n",
      "4\n"
     ]
    }
   ],
   "source": [
    "a = int(input())\n",
    "for i in range(1, a + 1):\n",
    "    if ((i >= 5 and i <= 9) or (i >= 17 and i <= 37) or (i >= 78 and i <= 87)):\n",
    "        continue \n",
    "    print(i)"
   ]
  },
  {
   "cell_type": "code",
   "execution_count": 15,
   "id": "15ab9360",
   "metadata": {},
   "outputs": [
    {
     "name": "stdout",
     "output_type": "stream",
     "text": [
      "1\n",
      "2\n",
      "3\n",
      "0\n",
      "0\n",
      "0\n",
      "1\n",
      "2\n",
      "3\n",
      "0\n",
      "6\n",
      "36\n"
     ]
    }
   ],
   "source": [
    "count = 0\n",
    "p = 1\n",
    "for i in range(1, 11):\n",
    "    x = int(input())\n",
    "    if x >= 0:\n",
    "        p = p * x\n",
    "        count = count + 1\n",
    "if count > 0:\n",
    "    print(count)\n",
    "    print(p)\n",
    "else:\n",
    "    print('NO')"
   ]
  },
  {
   "cell_type": "code",
   "execution_count": 22,
   "id": "2125eb07",
   "metadata": {},
   "outputs": [
    {
     "ename": "KeyboardInterrupt",
     "evalue": "Interrupted by user",
     "output_type": "error",
     "traceback": [
      "\u001b[1;31m---------------------------------------------------------------------------\u001b[0m",
      "\u001b[1;31mKeyboardInterrupt\u001b[0m                         Traceback (most recent call last)",
      "\u001b[1;32m<ipython-input-22-cc80c033cca5>\u001b[0m in \u001b[0;36m<module>\u001b[1;34m\u001b[0m\n\u001b[0;32m      2\u001b[0m \u001b[0ms\u001b[0m \u001b[1;33m=\u001b[0m \u001b[1;36m0\u001b[0m\u001b[1;33m\u001b[0m\u001b[1;33m\u001b[0m\u001b[0m\n\u001b[0;32m      3\u001b[0m \u001b[1;32mfor\u001b[0m \u001b[0mi\u001b[0m \u001b[1;32min\u001b[0m \u001b[0mrange\u001b[0m\u001b[1;33m(\u001b[0m\u001b[1;36m1\u001b[0m\u001b[1;33m,\u001b[0m \u001b[1;36m11\u001b[0m\u001b[1;33m)\u001b[0m\u001b[1;33m:\u001b[0m\u001b[1;33m\u001b[0m\u001b[1;33m\u001b[0m\u001b[0m\n\u001b[1;32m----> 4\u001b[1;33m     \u001b[0mx\u001b[0m \u001b[1;33m=\u001b[0m \u001b[0mint\u001b[0m\u001b[1;33m(\u001b[0m\u001b[0minput\u001b[0m\u001b[1;33m(\u001b[0m\u001b[1;33m)\u001b[0m\u001b[1;33m)\u001b[0m\u001b[1;33m\u001b[0m\u001b[1;33m\u001b[0m\u001b[0m\n\u001b[0m\u001b[0;32m      5\u001b[0m     \u001b[1;32mif\u001b[0m \u001b[0mx\u001b[0m \u001b[1;33m<\u001b[0m \u001b[1;36m0\u001b[0m\u001b[1;33m:\u001b[0m\u001b[1;33m\u001b[0m\u001b[1;33m\u001b[0m\u001b[0m\n\u001b[0;32m      6\u001b[0m         \u001b[0ms\u001b[0m \u001b[1;33m+=\u001b[0m \u001b[0mx\u001b[0m\u001b[1;33m\u001b[0m\u001b[1;33m\u001b[0m\u001b[0m\n",
      "\u001b[1;32mC:\\ProgramData\\Anaconda3\\lib\\site-packages\\ipykernel\\kernelbase.py\u001b[0m in \u001b[0;36mraw_input\u001b[1;34m(self, prompt)\u001b[0m\n\u001b[0;32m    858\u001b[0m                 \u001b[1;34m\"raw_input was called, but this frontend does not support input requests.\"\u001b[0m\u001b[1;33m\u001b[0m\u001b[1;33m\u001b[0m\u001b[0m\n\u001b[0;32m    859\u001b[0m             )\n\u001b[1;32m--> 860\u001b[1;33m         return self._input_request(str(prompt),\n\u001b[0m\u001b[0;32m    861\u001b[0m             \u001b[0mself\u001b[0m\u001b[1;33m.\u001b[0m\u001b[0m_parent_ident\u001b[0m\u001b[1;33m,\u001b[0m\u001b[1;33m\u001b[0m\u001b[1;33m\u001b[0m\u001b[0m\n\u001b[0;32m    862\u001b[0m             \u001b[0mself\u001b[0m\u001b[1;33m.\u001b[0m\u001b[0m_parent_header\u001b[0m\u001b[1;33m,\u001b[0m\u001b[1;33m\u001b[0m\u001b[1;33m\u001b[0m\u001b[0m\n",
      "\u001b[1;32mC:\\ProgramData\\Anaconda3\\lib\\site-packages\\ipykernel\\kernelbase.py\u001b[0m in \u001b[0;36m_input_request\u001b[1;34m(self, prompt, ident, parent, password)\u001b[0m\n\u001b[0;32m    902\u001b[0m             \u001b[1;32mexcept\u001b[0m \u001b[0mKeyboardInterrupt\u001b[0m\u001b[1;33m:\u001b[0m\u001b[1;33m\u001b[0m\u001b[1;33m\u001b[0m\u001b[0m\n\u001b[0;32m    903\u001b[0m                 \u001b[1;31m# re-raise KeyboardInterrupt, to truncate traceback\u001b[0m\u001b[1;33m\u001b[0m\u001b[1;33m\u001b[0m\u001b[1;33m\u001b[0m\u001b[0m\n\u001b[1;32m--> 904\u001b[1;33m                 \u001b[1;32mraise\u001b[0m \u001b[0mKeyboardInterrupt\u001b[0m\u001b[1;33m(\u001b[0m\u001b[1;34m\"Interrupted by user\"\u001b[0m\u001b[1;33m)\u001b[0m \u001b[1;32mfrom\u001b[0m \u001b[1;32mNone\u001b[0m\u001b[1;33m\u001b[0m\u001b[1;33m\u001b[0m\u001b[0m\n\u001b[0m\u001b[0;32m    905\u001b[0m             \u001b[1;32mexcept\u001b[0m \u001b[0mException\u001b[0m \u001b[1;32mas\u001b[0m \u001b[0me\u001b[0m\u001b[1;33m:\u001b[0m\u001b[1;33m\u001b[0m\u001b[1;33m\u001b[0m\u001b[0m\n\u001b[0;32m    906\u001b[0m                 \u001b[0mself\u001b[0m\u001b[1;33m.\u001b[0m\u001b[0mlog\u001b[0m\u001b[1;33m.\u001b[0m\u001b[0mwarning\u001b[0m\u001b[1;33m(\u001b[0m\u001b[1;34m\"Invalid Message:\"\u001b[0m\u001b[1;33m,\u001b[0m \u001b[0mexc_info\u001b[0m\u001b[1;33m=\u001b[0m\u001b[1;32mTrue\u001b[0m\u001b[1;33m)\u001b[0m\u001b[1;33m\u001b[0m\u001b[1;33m\u001b[0m\u001b[0m\n",
      "\u001b[1;31mKeyboardInterrupt\u001b[0m: Interrupted by user"
     ]
    }
   ],
   "source": [
    "mx = -9999999\n",
    "s = 0\n",
    "for i in range(1, 11):\n",
    "    x = int(input())\n",
    "    if x < 0:\n",
    "        s += x\n",
    "        if (x > mx and x < 0):\n",
    "            mx = x\n",
    "if s < 0:\n",
    "    print(s)\n",
    "    print(mx)\n",
    "else:\n",
    "    print('NO')"
   ]
  },
  {
   "cell_type": "code",
   "execution_count": 26,
   "id": "bd7f70ca",
   "metadata": {},
   "outputs": [
    {
     "name": "stdout",
     "output_type": "stream",
     "text": [
      "1\n",
      "1\n",
      "1\n",
      "2\n",
      "1\n",
      "2\n",
      "3\n",
      "4\n"
     ]
    }
   ],
   "source": [
    "s = 0\n",
    "for i in range(1, 8):\n",
    "    n = int(input())\n",
    "    if n % 2 == 0:\n",
    "        s += n\n",
    "print(s)"
   ]
  },
  {
   "cell_type": "code",
   "execution_count": 41,
   "id": "ffbd0de4",
   "metadata": {},
   "outputs": [
    {
     "name": "stdout",
     "output_type": "stream",
     "text": [
      "321465\n",
      "6\n"
     ]
    }
   ],
   "source": [
    "n = int(input())\n",
    "max_digit = -1\n",
    "while n > 0:\n",
    "    digit = n % 10\n",
    "    if digit % 3 == 0:\n",
    "        if digit > max_digit:\n",
    "            max_digit = digit\n",
    "    n = n // 10\n",
    "if max_digit == -1:\n",
    "    print('NO')\n",
    "elif max_digit == 0:\n",
    "    print(max_digit)\n",
    "else:\n",
    "    print(max_digit)"
   ]
  },
  {
   "cell_type": "code",
   "execution_count": 54,
   "id": "130ec8b7",
   "metadata": {},
   "outputs": [
    {
     "name": "stdout",
     "output_type": "stream",
     "text": [
      "-9885\n",
      "9\n"
     ]
    }
   ],
   "source": [
    "n = abs(int(input()))\n",
    "while n > 0:\n",
    "    n //= 10\n",
    "    if n <= 9:\n",
    "        print(n)\n",
    "        break"
   ]
  },
  {
   "cell_type": "code",
   "execution_count": null,
   "id": "73a217f8",
   "metadata": {},
   "outputs": [],
   "source": [
    "n = abs(int(input()))\n",
    "while n > 0:\n",
    "    n //= 10\n",
    "print(n)"
   ]
  },
  {
   "cell_type": "code",
   "execution_count": 58,
   "id": "418f3258",
   "metadata": {},
   "outputs": [
    {
     "name": "stdout",
     "output_type": "stream",
     "text": [
      "654\n",
      "120\n"
     ]
    }
   ],
   "source": [
    "n = int(input())\n",
    "product = 1\n",
    "while n > 1:\n",
    "    digit = n % 10\n",
    "    product = product * digit\n",
    "    n //= 10\n",
    "print(product)"
   ]
  },
  {
   "cell_type": "code",
   "execution_count": 63,
   "id": "c038aca0",
   "metadata": {},
   "outputs": [
    {
     "name": "stdout",
     "output_type": "stream",
     "text": [
      "99\n",
      "99\n",
      "1\n",
      "9\n",
      "2\n",
      "0\n",
      "100\n",
      "100\n",
      "3\n",
      "10\n",
      "4\n",
      "1\n",
      "5\n",
      "0\n",
      "101\n",
      "101\n",
      "6\n",
      "10\n",
      "7\n",
      "1\n",
      "8\n",
      "0\n",
      "8\n"
     ]
    }
   ],
   "source": [
    "counter = 0\n",
    "for i in range(99, 102):\n",
    "    temp = i\n",
    "    while temp > 0:\n",
    "        counter += 1\n",
    "        temp //= 10\n",
    "print(counter)"
   ]
  },
  {
   "cell_type": "code",
   "execution_count": null,
   "id": "81c0cecf",
   "metadata": {},
   "outputs": [],
   "source": [
    "a = int(input())\n",
    "for i in range(a):\n",
    "    for j in range(3):\n",
    "        print(a, end = \" \")\n",
    "    print()"
   ]
  },
  {
   "cell_type": "code",
   "execution_count": 72,
   "id": "b91c8628",
   "metadata": {},
   "outputs": [
    {
     "name": "stdout",
     "output_type": "stream",
     "text": [
      "3\n",
      "1 + 1 = 2\n",
      "1 + 2 = 3\n",
      "1 + 3 = 4\n",
      "1 + 4 = 5\n",
      "1 + 5 = 6\n",
      "1 + 6 = 7\n",
      "1 + 7 = 8\n",
      "1 + 8 = 9\n",
      "1 + 9 = 10\n",
      "\n",
      "2 + 1 = 3\n",
      "2 + 2 = 4\n",
      "2 + 3 = 5\n",
      "2 + 4 = 6\n",
      "2 + 5 = 7\n",
      "2 + 6 = 8\n",
      "2 + 7 = 9\n",
      "2 + 8 = 10\n",
      "2 + 9 = 11\n",
      "\n",
      "3 + 1 = 4\n",
      "3 + 2 = 5\n",
      "3 + 3 = 6\n",
      "3 + 4 = 7\n",
      "3 + 5 = 8\n",
      "3 + 6 = 9\n",
      "3 + 7 = 10\n",
      "3 + 8 = 11\n",
      "3 + 9 = 12\n",
      "\n"
     ]
    }
   ],
   "source": [
    "a = int(input())\n",
    "for i in range(1, a + 1):\n",
    "    for j in range(1, 10):\n",
    "        print(i, \"+\", j, \"=\", i + j)\n",
    "    print()"
   ]
  },
  {
   "cell_type": "code",
   "execution_count": 19,
   "id": "9e96088c",
   "metadata": {},
   "outputs": [
    {
     "name": "stdout",
     "output_type": "stream",
     "text": [
      "1\n",
      "*\n"
     ]
    }
   ],
   "source": [
    "a = int(input())\n",
    "for i in range(1, a + 1):\n",
    "    if i < (((a - 1) // 2) + 1):\n",
    "        print(\"*\" * i)\n",
    "    elif i == (((a - 1) // 2) + 1):\n",
    "        print(\"*\" * i)\n",
    "    elif i > a // 2:\n",
    "        print(\"*\" * (a - (i - 1)))"
   ]
  },
  {
   "cell_type": "code",
   "execution_count": 21,
   "id": "79ad6251",
   "metadata": {},
   "outputs": [
    {
     "name": "stdout",
     "output_type": "stream",
     "text": [
      "10\n",
      "\n",
      "1\n",
      "22\n",
      "333\n",
      "4444\n",
      "55555\n",
      "666666\n",
      "7777777\n",
      "88888888\n",
      "999999999\n",
      "10101010101010101010\n"
     ]
    }
   ],
   "source": [
    "a = int(input())\n",
    "for i in range(a + 1):\n",
    "    print(i * str(i))"
   ]
  },
  {
   "cell_type": "code",
   "execution_count": 8,
   "id": "5c5c9ff9",
   "metadata": {},
   "outputs": [
    {
     "name": "stdout",
     "output_type": "stream",
     "text": [
      "x = 1 y = 4 z = 7\n",
      "x = 2 y = 1 z = 9\n",
      "Общее количество натуральных решений = 2\n"
     ]
    }
   ],
   "source": [
    "total = 0\n",
    "for x in range(1, 12):\n",
    "    for y in range(1, 12):\n",
    "        for z in range(1, 12):\n",
    "            if 28 * x + 30 * y + 31 * z == 365:\n",
    "                total += 1\n",
    "                print('x =', x, 'y =', y, 'z =', z)\n",
    "print('Общее количество натуральных решений =', total)"
   ]
  },
  {
   "cell_type": "code",
   "execution_count": 10,
   "id": "c61a3122",
   "metadata": {},
   "outputs": [
    {
     "name": "stdout",
     "output_type": "stream",
     "text": [
      "x = 1 y = 9 z = 90\n",
      "Общее количество натуральных решений = 1\n"
     ]
    }
   ],
   "source": [
    "total = 0\n",
    "for x in range(1, 100):\n",
    "    for y in range(1, 100):\n",
    "        for z in range(1, 100):\n",
    "            if 10 * x + 5 * y + 0.5 * z == 100 and x + y + z == 100:\n",
    "                total += 1\n",
    "                print('x =', x, 'y =', y, 'z =', z)\n",
    "print('Общее количество натуральных решений =', total)"
   ]
  },
  {
   "cell_type": "code",
   "execution_count": 14,
   "id": "0a0ea528",
   "metadata": {},
   "outputs": [
    {
     "ename": "KeyboardInterrupt",
     "evalue": "",
     "output_type": "error",
     "traceback": [
      "\u001b[1;31m---------------------------------------------------------------------------\u001b[0m",
      "\u001b[1;31mKeyboardInterrupt\u001b[0m                         Traceback (most recent call last)",
      "\u001b[1;32m<ipython-input-14-51b780d3528d>\u001b[0m in \u001b[0;36m<module>\u001b[1;34m\u001b[0m\n\u001b[0;32m      5\u001b[0m             \u001b[1;32mfor\u001b[0m \u001b[0mw\u001b[0m \u001b[1;32min\u001b[0m \u001b[0mrange\u001b[0m\u001b[1;33m(\u001b[0m\u001b[1;36m1\u001b[0m\u001b[1;33m,\u001b[0m \u001b[1;36m140\u001b[0m\u001b[1;33m)\u001b[0m\u001b[1;33m:\u001b[0m\u001b[1;33m\u001b[0m\u001b[1;33m\u001b[0m\u001b[0m\n\u001b[0;32m      6\u001b[0m                 \u001b[1;32mfor\u001b[0m \u001b[0mq\u001b[0m \u001b[1;32min\u001b[0m \u001b[0mrange\u001b[0m\u001b[1;33m(\u001b[0m\u001b[1;36m1\u001b[0m\u001b[1;33m,\u001b[0m \u001b[1;36m150\u001b[0m\u001b[1;33m)\u001b[0m\u001b[1;33m:\u001b[0m\u001b[1;33m\u001b[0m\u001b[1;33m\u001b[0m\u001b[0m\n\u001b[1;32m----> 7\u001b[1;33m                     \u001b[1;32mif\u001b[0m  \u001b[0mx\u001b[0m\u001b[1;33m**\u001b[0m\u001b[1;36m5\u001b[0m \u001b[1;33m+\u001b[0m \u001b[0my\u001b[0m\u001b[1;33m**\u001b[0m\u001b[1;36m5\u001b[0m \u001b[1;33m+\u001b[0m \u001b[0mz\u001b[0m\u001b[1;33m**\u001b[0m\u001b[1;36m5\u001b[0m \u001b[1;33m+\u001b[0m \u001b[0mw\u001b[0m\u001b[1;33m**\u001b[0m\u001b[1;36m5\u001b[0m \u001b[1;33m==\u001b[0m \u001b[0mq\u001b[0m\u001b[1;33m**\u001b[0m\u001b[1;36m5\u001b[0m \u001b[1;32mand\u001b[0m \u001b[0mq\u001b[0m \u001b[1;33m%\u001b[0m \u001b[1;36m1\u001b[0m \u001b[1;33m==\u001b[0m \u001b[1;36m0\u001b[0m\u001b[1;33m:\u001b[0m\u001b[1;33m\u001b[0m\u001b[1;33m\u001b[0m\u001b[0m\n\u001b[0m\u001b[0;32m      8\u001b[0m                         \u001b[0mtotal\u001b[0m \u001b[1;33m+=\u001b[0m \u001b[0mx\u001b[0m \u001b[1;33m+\u001b[0m \u001b[0my\u001b[0m \u001b[1;33m+\u001b[0m \u001b[0mz\u001b[0m \u001b[1;33m+\u001b[0m \u001b[0mw\u001b[0m \u001b[1;33m+\u001b[0m \u001b[0mq\u001b[0m\u001b[1;33m\u001b[0m\u001b[1;33m\u001b[0m\u001b[0m\n\u001b[0;32m      9\u001b[0m                         \u001b[0mprint\u001b[0m\u001b[1;33m(\u001b[0m\u001b[1;34m'x ='\u001b[0m\u001b[1;33m,\u001b[0m \u001b[0mx\u001b[0m\u001b[1;33m,\u001b[0m \u001b[1;34m'y ='\u001b[0m\u001b[1;33m,\u001b[0m \u001b[0my\u001b[0m\u001b[1;33m,\u001b[0m \u001b[1;34m'z ='\u001b[0m\u001b[1;33m,\u001b[0m \u001b[0mz\u001b[0m\u001b[1;33m,\u001b[0m \u001b[1;34m'w'\u001b[0m\u001b[1;33m,\u001b[0m \u001b[0mw\u001b[0m\u001b[1;33m,\u001b[0m \u001b[1;34m'q ='\u001b[0m\u001b[1;33m,\u001b[0m \u001b[0mq\u001b[0m\u001b[1;33m)\u001b[0m\u001b[1;33m\u001b[0m\u001b[1;33m\u001b[0m\u001b[0m\n",
      "\u001b[1;31mKeyboardInterrupt\u001b[0m: "
     ]
    }
   ],
   "source": [
    "total = 0\n",
    "for x in range(1, 30):\n",
    "    for y in range(1, 90):\n",
    "        for z in range(1, 120):\n",
    "            for w in range(1, 140):\n",
    "                for q in range(1, 150):\n",
    "                    if  x**5 + y**5 + z**5 + w**5 == q**5 and q % 1 == 0:\n",
    "                        total += x + y + z + w + q\n",
    "                        print('x =', x, 'y =', y, 'z =', z, 'w', w, 'q =', q)\n",
    "print('Сумма =', total)"
   ]
  },
  {
   "cell_type": "code",
   "execution_count": 65,
   "id": "af403d40",
   "metadata": {},
   "outputs": [
    {
     "name": "stdout",
     "output_type": "stream",
     "text": [
      "5\n",
      "1\n",
      "121\n",
      "12321\n",
      "1234321\n",
      "123454321\n"
     ]
    }
   ],
   "source": [
    "a = int(input())\n",
    "counter = 1\n",
    "for i in range(1, a + 1):\n",
    "    for j in range (1 , i):\n",
    "        print(j, end = '')\n",
    "        j += 1\n",
    "    for j in range (i, 0, -1):\n",
    "        print(j, end = '')\n",
    "        j -= 1\n",
    "    print()"
   ]
  },
  {
   "cell_type": "code",
   "execution_count": 81,
   "id": "c7743e5f",
   "metadata": {},
   "outputs": [
    {
     "name": "stdout",
     "output_type": "stream",
     "text": [
      "1\n",
      "10\n",
      "10 18\n"
     ]
    }
   ],
   "source": [
    "a = int(input())\n",
    "b = int(input())\n",
    "max_summ = 0\n",
    "num = 0\n",
    "for i in range (a, b + 1):\n",
    "    dividers_summ = 0\n",
    "    for j in range(1, i + 1):\n",
    "        if i % j == 0:\n",
    "            dividers_summ += j\n",
    "            if dividers_summ > max_summ:\n",
    "                num = i\n",
    "                max_summ = dividers_summ\n",
    "print(num, max_summ)   "
   ]
  },
  {
   "cell_type": "code",
   "execution_count": null,
   "id": "fac1b47e",
   "metadata": {},
   "outputs": [],
   "source": [
    "a, b = int(input()), int(input())\n",
    "sum, bigsum, num, bignum = 0, 0, 0, 0\n",
    "for i in range(a, b + 1):\n",
    "    for j in range(1, i + 1):\n",
    "        if i // j == i / j:\n",
    "            sum += j\n",
    "            num = i\n",
    "    if sum > bigsum:\n",
    "        bignum = num\n",
    "        bigsum = sum\n",
    "    if sum == bigsum:\n",
    "        bignum = max(num, bignum)\n",
    "        bigsum = sum\n",
    "    num, sum = 0, 0\n",
    "print(bignum, bigsum)"
   ]
  },
  {
   "cell_type": "code",
   "execution_count": 3,
   "id": "52282dfe",
   "metadata": {},
   "outputs": [
    {
     "name": "stdout",
     "output_type": "stream",
     "text": [
      "5\n",
      "0\n",
      "1+\n",
      "2++\n",
      "3++\n",
      "4+++\n",
      "5++\n"
     ]
    }
   ],
   "source": [
    "a = int(input())\n",
    "for i in range(1, a + 1):\n",
    "    count = 0\n",
    "    for j in range (1, i + 1):\n",
    "        if i % j == 0:\n",
    "            count += 1\n",
    "    print(i, \"+\" * count, sep = \"\")        "
   ]
  },
  {
   "cell_type": "code",
   "execution_count": 5,
   "id": "893b708e",
   "metadata": {},
   "outputs": [
    {
     "name": "stdout",
     "output_type": "stream",
     "text": [
      "456123\n",
      "3\n"
     ]
    }
   ],
   "source": [
    "a = int(input())\n",
    "while a > 9:\n",
    "    a = a // 10 + a % 10\n",
    "print(a)"
   ]
  },
  {
   "cell_type": "code",
   "execution_count": 18,
   "id": "04a2956e",
   "metadata": {},
   "outputs": [
    {
     "name": "stdout",
     "output_type": "stream",
     "text": [
      "5\n",
      "153\n"
     ]
    }
   ],
   "source": [
    "a = int(input())\n",
    "summ = 0\n",
    "for i in range (1, a + 1):\n",
    "    local_summ = 1\n",
    "    for j in range (1, i + 1):\n",
    "        local_summ *= j\n",
    "    summ += local_summ\n",
    "print(summ)"
   ]
  },
  {
   "cell_type": "code",
   "execution_count": 19,
   "id": "760e9899",
   "metadata": {},
   "outputs": [
    {
     "name": "stdout",
     "output_type": "stream",
     "text": [
      "2\n",
      "15\n",
      "2\n",
      "3\n",
      "5\n",
      "7\n",
      "11\n",
      "13\n"
     ]
    }
   ],
   "source": [
    "a = int(input())\n",
    "b = int(input())\n",
    "for i in range(a, b + 1):\n",
    "    count = 0\n",
    "    for j in range(1, i + 1):\n",
    "        if i % j == 0:\n",
    "            count += 1\n",
    "    if count == 2:\n",
    "        print(i)           "
   ]
  },
  {
   "cell_type": "code",
   "execution_count": 4,
   "id": "6f50495b",
   "metadata": {},
   "outputs": [
    {
     "name": "stdout",
     "output_type": "stream",
     "text": [
      "15\n",
      "3\n",
      "6\n",
      "9\n",
      "12\n",
      "15\n",
      "5\n"
     ]
    }
   ],
   "source": [
    "n = int(input())\n",
    "counter = 0\n",
    "\n",
    "for i in range(1, n + 1):\n",
    "    if i % 3 == 0 and i % 7 != 0:\n",
    "        counter += 1\n",
    "        print(i)\n",
    "print(counter)"
   ]
  },
  {
   "cell_type": "code",
   "execution_count": 14,
   "id": "35f1c5f6",
   "metadata": {},
   "outputs": [
    {
     "name": "stdout",
     "output_type": "stream",
     "text": [
      "1569867\n",
      "20\n"
     ]
    }
   ],
   "source": [
    "n = int(input())\n",
    "s = 0\n",
    "i = 0\n",
    "while n > 0:\n",
    "    s = n % 10\n",
    "    if s % 2 == 0:\n",
    "        i += s\n",
    "    n //= 10\n",
    "print(i)"
   ]
  },
  {
   "cell_type": "code",
   "execution_count": 19,
   "id": "991beaa8",
   "metadata": {},
   "outputs": [
    {
     "name": "stdout",
     "output_type": "stream",
     "text": [
      "-5\n",
      "-6\n",
      "-100\n",
      "-2\n",
      "-4\n",
      "-8\n",
      "3\n",
      "2\n",
      "3\n",
      "-4\n"
     ]
    }
   ],
   "source": [
    "n = 7\n",
    "count = 0\n",
    "maximum = -1000000\n",
    "for i in range(0, n + 1):\n",
    "    x = int(input())\n",
    "    if x % 4 == 0:\n",
    "        count += 1\n",
    "        if x > maximum:\n",
    "            maximum = x\n",
    "if count > 0:\n",
    "    print(count)\n",
    "    print(maximum)\n",
    "else:\n",
    "    print('NO')"
   ]
  },
  {
   "cell_type": "code",
   "execution_count": 25,
   "id": "701fe177",
   "metadata": {},
   "outputs": [
    {
     "name": "stdout",
     "output_type": "stream",
     "text": [
      "-3\n",
      "-5\n",
      "-7\n",
      "-6\n",
      "3\n",
      "-3\n"
     ]
    }
   ],
   "source": [
    "n = 3\n",
    "count = 0\n",
    "maximum = -1000000\n",
    "for i in range(0, n + 1):\n",
    "    x = int(input())\n",
    "    if x % 2 != 0 :\n",
    "        count += 1\n",
    "        if x > maximum:\n",
    "            maximum = x\n",
    "if count > 0:\n",
    "    print(count)\n",
    "    print(maximum)\n",
    "else:\n",
    "    print('NO')"
   ]
  },
  {
   "cell_type": "code",
   "execution_count": 29,
   "id": "1c5f172e",
   "metadata": {},
   "outputs": [
    {
     "name": "stdout",
     "output_type": "stream",
     "text": [
      "5\n",
      "*******************\n",
      "*                 *\n",
      "*                 *\n",
      "*                 *\n",
      "*******************\n"
     ]
    }
   ],
   "source": [
    "a = int(input())\n",
    "for _ in range(1, a + 1):\n",
    "    if _ == 1 or _ == a:\n",
    "        print(19 * \"*\")\n",
    "    else:\n",
    "        print(\"*\", 15 * \" \", \"*\")"
   ]
  },
  {
   "cell_type": "code",
   "execution_count": 30,
   "id": "7afcc741",
   "metadata": {},
   "outputs": [
    {
     "name": "stdout",
     "output_type": "stream",
     "text": [
      "998563\n",
      "8\n"
     ]
    }
   ],
   "source": [
    "a = int(input())\n",
    "while a > 1000:\n",
    "    a //= 10\n",
    "print(a % 10)    "
   ]
  },
  {
   "cell_type": "markdown",
   "id": "e30d4e71",
   "metadata": {},
   "source": [
    "количество цифр 3 в нем;\n",
    "сколько раз в нем встречается последняя цифра;\n",
    "количество четных цифр;\n",
    "сумму его цифр, больших пяти;\n",
    "произведение цифр, больших семи (если цифр больших семи нет, то вывести 1, если такая цифра одна, то вывести ее);\n",
    "сколько раз в нем встречается цифры 0 и 5 (всего суммарно)."
   ]
  },
  {
   "cell_type": "code",
   "execution_count": 35,
   "id": "608b00c3",
   "metadata": {},
   "outputs": [
    {
     "name": "stdout",
     "output_type": "stream",
     "text": [
      "56689932106\n",
      "1\n",
      "3\n",
      "6\n",
      "44\n",
      "648\n",
      "2\n"
     ]
    }
   ],
   "source": [
    "a = int(input())\n",
    "edge_num = 0\n",
    "count_three = 0\n",
    "last_digit = a % 10\n",
    "count_last_num = 0\n",
    "count_even = 0\n",
    "summ_more_five = 0\n",
    "mul_more_seven = 1\n",
    "count_zero_five = 0\n",
    "while a > 0:\n",
    "    edge_num = a % 10\n",
    "    if edge_num == 3:\n",
    "        count_three += 1\n",
    "    if edge_num == last_digit:\n",
    "        count_last_num += 1\n",
    "    if edge_num % 2 == 0:\n",
    "        count_even += 1\n",
    "    if edge_num > 5:\n",
    "        summ_more_five += edge_num\n",
    "    if edge_num > 7:\n",
    "        mul_more_seven *= edge_num\n",
    "    if edge_num == 0 or edge_num == 5:\n",
    "        count_zero_five += 1\n",
    "    a //= 10\n",
    "print(count_three)\n",
    "print(count_last_num)\n",
    "print(count_even)\n",
    "print(summ_more_five)\n",
    "print(mul_more_seven)\n",
    "print(count_zero_five)"
   ]
  },
  {
   "cell_type": "code",
   "execution_count": 46,
   "id": "e5043e25",
   "metadata": {},
   "outputs": [
    {
     "ename": "KeyboardInterrupt",
     "evalue": "",
     "output_type": "error",
     "traceback": [
      "\u001b[1;31m---------------------------------------------------------------------------\u001b[0m",
      "\u001b[1;31mKeyboardInterrupt\u001b[0m                         Traceback (most recent call last)",
      "\u001b[1;32m<ipython-input-46-ef1c7bfef012>\u001b[0m in \u001b[0;36m<module>\u001b[1;34m\u001b[0m\n\u001b[0;32m      6\u001b[0m                 \u001b[1;32mfor\u001b[0m \u001b[0ml\u001b[0m \u001b[1;32min\u001b[0m \u001b[0mrange\u001b[0m \u001b[1;33m(\u001b[0m\u001b[1;36m33\u001b[0m\u001b[1;33m)\u001b[0m\u001b[1;33m:\u001b[0m\u001b[1;33m\u001b[0m\u001b[1;33m\u001b[0m\u001b[0m\n\u001b[0;32m      7\u001b[0m                     \u001b[1;32mfor\u001b[0m \u001b[0mm\u001b[0m \u001b[1;32min\u001b[0m \u001b[0mrange\u001b[0m \u001b[1;33m(\u001b[0m\u001b[1;36m33\u001b[0m\u001b[1;33m)\u001b[0m\u001b[1;33m:\u001b[0m\u001b[1;33m\u001b[0m\u001b[1;33m\u001b[0m\u001b[0m\n\u001b[1;32m----> 8\u001b[1;33m                         \u001b[1;32mif\u001b[0m \u001b[1;33m(\u001b[0m\u001b[1;33m(\u001b[0m\u001b[1;33m(\u001b[0m\u001b[0mi\u001b[0m \u001b[1;33m==\u001b[0m \u001b[0mj\u001b[0m \u001b[1;33m**\u001b[0m \u001b[1;36m3\u001b[0m \u001b[1;33m+\u001b[0m \u001b[0mk\u001b[0m \u001b[1;33m**\u001b[0m \u001b[1;36m3\u001b[0m\u001b[1;33m)\u001b[0m \u001b[1;32mand\u001b[0m \u001b[1;33m(\u001b[0m\u001b[0mi\u001b[0m \u001b[1;33m==\u001b[0m \u001b[0ml\u001b[0m \u001b[1;33m**\u001b[0m \u001b[1;36m3\u001b[0m \u001b[1;33m+\u001b[0m \u001b[0mm\u001b[0m \u001b[1;33m**\u001b[0m \u001b[1;36m3\u001b[0m\u001b[1;33m)\u001b[0m\u001b[1;33m)\u001b[0m\u001b[1;33m)\u001b[0m\u001b[1;33m:\u001b[0m\u001b[1;33m\u001b[0m\u001b[1;33m\u001b[0m\u001b[0m\n\u001b[0m\u001b[0;32m      9\u001b[0m                             \u001b[1;32mif\u001b[0m \u001b[1;33m(\u001b[0m\u001b[0mj\u001b[0m \u001b[1;33m!=\u001b[0m \u001b[0mk\u001b[0m \u001b[1;32mand\u001b[0m \u001b[0mj\u001b[0m \u001b[1;33m!=\u001b[0m \u001b[0ml\u001b[0m \u001b[1;32mand\u001b[0m \u001b[0mj\u001b[0m \u001b[1;33m!=\u001b[0m \u001b[0mm\u001b[0m\u001b[1;33m)\u001b[0m \u001b[1;32mand\u001b[0m \u001b[1;33m(\u001b[0m\u001b[0mk\u001b[0m \u001b[1;33m!=\u001b[0m \u001b[0ml\u001b[0m \u001b[1;32mand\u001b[0m \u001b[0mk\u001b[0m \u001b[1;33m!=\u001b[0m \u001b[0mm\u001b[0m\u001b[1;33m)\u001b[0m\u001b[1;33m:\u001b[0m\u001b[1;33m\u001b[0m\u001b[1;33m\u001b[0m\u001b[0m\n\u001b[0;32m     10\u001b[0m                                 \u001b[0mcount\u001b[0m \u001b[1;33m+=\u001b[0m \u001b[1;36m1\u001b[0m\u001b[1;33m\u001b[0m\u001b[1;33m\u001b[0m\u001b[0m\n",
      "\u001b[1;31mKeyboardInterrupt\u001b[0m: "
     ]
    }
   ],
   "source": [
    "count = 0\n",
    "while count != 5:\n",
    "    for i in range (9999):\n",
    "        for j in range (33):\n",
    "            for k in range(33):\n",
    "                for l in range (33):\n",
    "                    for m in range (33):\n",
    "                        if (((i == j ** 3 + k ** 3) and (i == l ** 3 + m ** 3))):\n",
    "                            if (j != k and j != l and j != m) and (k != l and k != m):\n",
    "                                count += 1\n",
    "                                print (i, j, k, l, m)\n",
    "                                if count == 5:\n",
    "                                    break"
   ]
  },
  {
   "cell_type": "code",
   "execution_count": 47,
   "id": "df4dbe47",
   "metadata": {},
   "outputs": [
    {
     "name": "stdout",
     "output_type": "stream",
     "text": [
      "Введите ограничение диапазона для\n",
      "нахождения чисел Рамануджана  :)50\n",
      "n = 12 k = 1 m = 10 t= 9 = 1729\n",
      "n = 16 k = 2 m = 15 t= 9 = 4104\n",
      "n = 24 k = 2 m = 20 t= 18 = 13832\n",
      "n = 27 k = 10 m = 24 t= 19 = 20683\n",
      "n = 32 k = 4 m = 30 t= 18 = 32832\n",
      "n = 34 k = 2 m = 33 t= 15 = 39312\n",
      "n = 34 k = 9 m = 33 t= 16 = 40033\n",
      "n = 36 k = 3 m = 30 t= 27 = 46683\n",
      "n = 39 k = 17 m = 36 t= 26 = 64232\n",
      "n = 40 k = 12 m = 33 t= 31 = 65728\n",
      "n = 48 k = 4 m = 40 t= 36 = 110656\n",
      "n = 48 k = 6 m = 45 t= 27 = 110808\n",
      "Общее количество натуральных решений = 12\n"
     ]
    }
   ],
   "source": [
    "n = int (input('Введите ограничение диапазона для\\\n",
    "\\nнахождения чисел Рамануджана  :)'))\n",
    "total = 0\n",
    "for n in range(1, n):\n",
    "    for k in range(1, n):\n",
    "        for m in range(1, n):\n",
    "            for t in range(1, n):\n",
    "                if n**3 + k**3 == m**3 + t**3 and n!=t and k!=m and k!=t  and  n>k and m>t and n>m:\n",
    "                    n,k ==m, t\n",
    "                    total += 1\n",
    "                    print('n =', n, 'k =', k, 'm =', m, 't=',  t, '=',n **3 + k **3 )\n",
    "print('Общее количество натуральных решений =', total)        "
   ]
  },
  {
   "cell_type": "code",
   "execution_count": 2,
   "id": "a4320536",
   "metadata": {},
   "outputs": [
    {
     "name": "stdout",
     "output_type": "stream",
     "text": [
      "0\n",
      "05\n",
      "510\n",
      "115\n",
      "220\n",
      "125\n",
      "7"
     ]
    }
   ],
   "source": [
    "s = '01234567891011121314151617'\n",
    "for i in range(0, len(s), 5):\n",
    "    print(i)\n",
    "    print(s[i], end='')"
   ]
  },
  {
   "cell_type": "code",
   "execution_count": 3,
   "id": "7d9f1aa8",
   "metadata": {},
   "outputs": [
    {
     "name": "stdout",
     "output_type": "stream",
     "text": [
      "abcdefghijklmnop\n",
      "a\n",
      "c\n",
      "e\n",
      "g\n",
      "i\n",
      "k\n",
      "m\n",
      "o\n"
     ]
    }
   ],
   "source": [
    "a = input()\n",
    "for i in range(0, len(a), 2):\n",
    "        print(a[i])"
   ]
  },
  {
   "cell_type": "code",
   "execution_count": 10,
   "id": "9b9b5413",
   "metadata": {},
   "outputs": [
    {
     "name": "stdout",
     "output_type": "stream",
     "text": [
      "abcdefghijklmnop\n",
      "p\n",
      "o\n",
      "n\n",
      "m\n",
      "l\n",
      "k\n",
      "j\n",
      "i\n",
      "h\n",
      "g\n",
      "f\n",
      "e\n",
      "d\n",
      "c\n",
      "b\n",
      "a\n"
     ]
    }
   ],
   "source": [
    "a = input()\n",
    "for i in range(len(a) - 1, -1, -1):\n",
    "    print(a[i])"
   ]
  },
  {
   "cell_type": "code",
   "execution_count": null,
   "id": "5185b046",
   "metadata": {},
   "outputs": [],
   "source": [
    "a = input()\n",
    "b = input()\n",
    "c = input()\n",
    "print(b[0], a[0], c[0], sep = \"\")"
   ]
  },
  {
   "cell_type": "code",
   "execution_count": 11,
   "id": "875a49c9",
   "metadata": {},
   "outputs": [
    {
     "name": "stdout",
     "output_type": "stream",
     "text": [
      "123456\n",
      "21\n"
     ]
    }
   ],
   "source": [
    "a = input()\n",
    "summ = 0\n",
    "for i in range(len(a)):\n",
    "    summ += int(a[i])\n",
    "print(summ)"
   ]
  },
  {
   "cell_type": "code",
   "execution_count": 13,
   "id": "a2c5b3be",
   "metadata": {},
   "outputs": [
    {
     "name": "stdout",
     "output_type": "stream",
     "text": [
      "Hi 17 Python\n",
      "Цифра\n"
     ]
    }
   ],
   "source": [
    "a = input()\n",
    "count = 0\n",
    "for i in range(len(a)):\n",
    "    if a[i] == \"0\" or a[i] == \"1\" or a[i] == \"2\" or a[i] == \"3\" or a[i] == \"4\" or a[i] == \"5\" or a[i] == \"6\" or a[i] == \"7\" or a[i] == \"8\" or a[i] == \"9\":\n",
    "        count += 1\n",
    "if count > 0:\n",
    "    print(\"Цифра\")\n",
    "else:\n",
    "    print(\"Цифр нет\")"
   ]
  },
  {
   "cell_type": "code",
   "execution_count": 14,
   "id": "143f7055",
   "metadata": {},
   "outputs": [
    {
     "name": "stdout",
     "output_type": "stream",
     "text": [
      "bcd+a++++**31415\n",
      "Символ + встречается 5 раз\n",
      "Символ + встречается 2 раз\n"
     ]
    }
   ],
   "source": [
    "a = input()\n",
    "count_plus = 0\n",
    "count_star = 0\n",
    "for i in range(len(a)):\n",
    "    if a[i] == \"+\":\n",
    "        count_plus += 1\n",
    "    if a[i] == \"*\":\n",
    "        count_star += 1\n",
    "print(\"Символ + встречается\", count_plus, \"раз\")\n",
    "print(\"Символ * встречается\", count_star, \"раз\")"
   ]
  },
  {
   "cell_type": "code",
   "execution_count": 15,
   "id": "edbf7343",
   "metadata": {},
   "outputs": [
    {
     "name": "stdout",
     "output_type": "stream",
     "text": [
      "aabbcc\n",
      "3\n"
     ]
    }
   ],
   "source": [
    "a = input()\n",
    "count = 0\n",
    "for i in range(1, len(a)):\n",
    "    if a[i] == a[i - 1]:\n",
    "        count += 1\n",
    "print(count)"
   ]
  },
  {
   "cell_type": "code",
   "execution_count": 24,
   "id": "825adacd",
   "metadata": {},
   "outputs": [
    {
     "name": "stdout",
     "output_type": "stream",
     "text": [
      "Вдохновение – это умение приводить себя в рабочее состояние!\n",
      "Количество гласных букв равно 25\n",
      "Количество согласных букв равно 24\n"
     ]
    }
   ],
   "source": [
    "a = input().lower()\n",
    "count_vowel = 0\n",
    "count_consonant = 0\n",
    "for i in range(len(a)):\n",
    "    if a[i] in \"ауоыиэяюёе\":\n",
    "        count_vowel += 1\n",
    "    elif a[i] in \"бвгджзйклмнпрстфхцчшщ\":\n",
    "        count_consonant += 1\n",
    "    else:\n",
    "        continue\n",
    "print(\"Количество гласных букв равно\", count_vowel)\n",
    "print(\"Количество согласных букв равно\", count_consonant)"
   ]
  },
  {
   "cell_type": "code",
   "execution_count": 26,
   "id": "c2ef71f3",
   "metadata": {},
   "outputs": [
    {
     "name": "stdout",
     "output_type": "stream",
     "text": [
      "5\n",
      "101\n"
     ]
    }
   ],
   "source": [
    "a = int(input())\n",
    "a = format(a, 'b')\n",
    "print(a)"
   ]
  },
  {
   "cell_type": "code",
   "execution_count": 27,
   "id": "9eab5330",
   "metadata": {},
   "outputs": [
    {
     "name": "stdout",
     "output_type": "stream",
     "text": [
      "abc\n"
     ]
    }
   ],
   "source": [
    "s = 'abcdefg'\n",
    "print(s[:3])"
   ]
  },
  {
   "cell_type": "code",
   "execution_count": 28,
   "id": "384a708b",
   "metadata": {},
   "outputs": [
    {
     "name": "stdout",
     "output_type": "stream",
     "text": [
      "gda\n"
     ]
    }
   ],
   "source": [
    "s = 'abcdefg'\n",
    "print(s[::-3])"
   ]
  },
  {
   "cell_type": "code",
   "execution_count": 32,
   "id": "ad026b4c",
   "metadata": {},
   "outputs": [
    {
     "name": "stdout",
     "output_type": "stream",
     "text": [
      "In 2010, som\n"
     ]
    }
   ],
   "source": [
    "s = \"In 2010, someone paid 10k Bitcoin for two pizzas.\"\n",
    "print(s[:12])"
   ]
  },
  {
   "cell_type": "code",
   "execution_count": 34,
   "id": "3e4f6d9e",
   "metadata": {},
   "outputs": [
    {
     "name": "stdout",
     "output_type": "stream",
     "text": [
      "o pizzas.\n"
     ]
    }
   ],
   "source": [
    "s = \"In 2010, someone paid 10k Bitcoin for two pizzas.\"\n",
    "print(s[-9:])"
   ]
  },
  {
   "cell_type": "code",
   "execution_count": 42,
   "id": "c8c6a20f",
   "metadata": {},
   "outputs": [
    {
     "name": "stdout",
     "output_type": "stream",
     "text": [
      "qwerewq\n",
      "qwerewq\n",
      "YES\n"
     ]
    }
   ],
   "source": [
    "a = input()\n",
    "s = \"\"\n",
    "for i in range (-1, 0 - len(a) - 1, -1):\n",
    "    s += a[i]\n",
    "if a in s:\n",
    "    print(\"YES\")\n",
    "else:\n",
    "    print(\"NO\")   "
   ]
  },
  {
   "cell_type": "code",
   "execution_count": null,
   "id": "9a45481d",
   "metadata": {},
   "outputs": [],
   "source": [
    "общее количество символов в строке;\n",
    "исходную строку повторенную 3 раза;\n",
    "первый символ строки;\n",
    "первые три символа строки;\n",
    "последние три символа строки;\n",
    "строку в обратном порядке;\n",
    "строку с удаленным первым и последним символом."
   ]
  },
  {
   "cell_type": "code",
   "execution_count": 46,
   "id": "3325ca42",
   "metadata": {},
   "outputs": [
    {
     "name": "stdout",
     "output_type": "stream",
     "text": [
      "abcdefghijklmnopqrstuvwxyz\n",
      "26\n",
      "abcdefghijklmnopqrstuvwxyzabcdefghijklmnopqrstuvwxyzabcdefghijklmnopqrstuvwxyz\n",
      "a\n",
      "abc\n",
      "xyz\n",
      "zyxwvutsrqponmlkjihgfedcba\n",
      "bcdefghijklmnopqrstuvwxy\n"
     ]
    }
   ],
   "source": [
    "a = input()\n",
    "count_letters = 0\n",
    "for i in range(len(a)):\n",
    "    count_letters += 1\n",
    "print(count_letters)\n",
    "print(a * 3)\n",
    "print(a[0])\n",
    "print(a[:3])\n",
    "print(a[-3:])\n",
    "print(a[::-1])\n",
    "print(a[1:-1])    "
   ]
  },
  {
   "cell_type": "code",
   "execution_count": null,
   "id": "bfe3fc76",
   "metadata": {},
   "outputs": [],
   "source": [
    "третий символ этой строки;\n",
    "предпоследний символ этой строки;\n",
    "первые пять символов этой строки;\n",
    "всю строку, кроме последних двух символов;\n",
    "все символы с четными индексами;\n",
    "все символы с нечетными индексами;\n",
    "все символы в обратном порядке;\n",
    "все символы строки через один в обратном порядке, начиная с последнего."
   ]
  },
  {
   "cell_type": "code",
   "execution_count": 47,
   "id": "cecf8466",
   "metadata": {},
   "outputs": [
    {
     "name": "stdout",
     "output_type": "stream",
     "text": [
      "abcdefghijklmnopqrstuvwxyz\n",
      "c\n",
      "y\n",
      "fghijklmnopqrstuvwxyz\n",
      "abcdefghijklmnopqrstuvwx\n",
      "acegikmoqsuwy\n",
      "bdfhjlnprtvxz\n",
      "zyxwvutsrqponmlkjihgfedcba\n",
      "zxvtrpnljhfdb\n"
     ]
    }
   ],
   "source": [
    "a = input()\n",
    "print(a[2])\n",
    "print(a[-2])\n",
    "print(a[:5])\n",
    "print(a[:-2])\n",
    "print(a[::2])\n",
    "print(a[1::2])\n",
    "print(a[::-1])\n",
    "print(a[::-2])"
   ]
  },
  {
   "cell_type": "code",
   "execution_count": 62,
   "id": "7a8ee2be",
   "metadata": {},
   "outputs": [
    {
     "name": "stdout",
     "output_type": "stream",
     "text": [
      "asdqwezxcasd\n",
      "zxcasdasdqwez\n"
     ]
    }
   ],
   "source": [
    "a = input()\n",
    "part1 = (len(a)) // 2 \n",
    "part2 = (len(a)) // 2\n",
    "s = a[(part2):] + a[:(part1)]\n",
    "print(s)\n"
   ]
  },
  {
   "cell_type": "code",
   "execution_count": 1,
   "id": "da4ceeb8",
   "metadata": {},
   "outputs": [
    {
     "name": "stdout",
     "output_type": "stream",
     "text": [
      "zxcvbnm\n",
      "bnmzxcv\n"
     ]
    }
   ],
   "source": [
    "s = input()\n",
    "print(s[(len(s) + 1) // 2:] + s[:(len(s) + 1) // 2])"
   ]
  },
  {
   "cell_type": "code",
   "execution_count": 4,
   "id": "a458bdad",
   "metadata": {},
   "outputs": [
    {
     "name": "stdout",
     "output_type": "stream",
     "text": [
      "Chris Alan\n",
      "YES\n"
     ]
    }
   ],
   "source": [
    "a = input()\n",
    "if a == a.title():\n",
    "    print(\"YES\")\n",
    "else:\n",
    "    print(\"NO\")"
   ]
  },
  {
   "cell_type": "code",
   "execution_count": 10,
   "id": "0e89596c",
   "metadata": {},
   "outputs": [
    {
     "name": "stdout",
     "output_type": "stream",
     "text": [
      "оыралоывало ХОРОШвмсва выарлво83кг834\n",
      "YES\n"
     ]
    }
   ],
   "source": [
    "if \"хорош\" in input().lower():\n",
    "    print(\"YES\")\n",
    "else:\n",
    "    print(\"NO\")"
   ]
  },
  {
   "cell_type": "code",
   "execution_count": 13,
   "id": "c0379c4f",
   "metadata": {},
   "outputs": [
    {
     "name": "stdout",
     "output_type": "stream",
     "text": [
      "gggggggg1212321ABDCEFCe\n",
      "9\n"
     ]
    }
   ],
   "source": [
    "a = input()\n",
    "count = 0\n",
    "for i in range(len(a)):\n",
    "    if a[i] in \"abcdefghijklmnopqrstuvwxyz\":\n",
    "        count += 1\n",
    "print(count)"
   ]
  },
  {
   "cell_type": "code",
   "execution_count": 14,
   "id": "4ba8936f",
   "metadata": {},
   "outputs": [
    {
     "name": "stdout",
     "output_type": "stream",
     "text": [
      "123cd123123a\n"
     ]
    }
   ],
   "source": [
    "s = 'abcdababa'\n",
    "print(s.replace('ab', '123'))"
   ]
  },
  {
   "cell_type": "code",
   "execution_count": 16,
   "id": "1a40c59e",
   "metadata": {},
   "outputs": [
    {
     "name": "stdout",
     "output_type": "stream",
     "text": [
      "ааггццттААГГЦЦТТ\n",
      "Аденин: 4\n",
      "Гуанин: 4\n",
      "Цитозин: 4\n",
      "Тимин: 4\n"
     ]
    }
   ],
   "source": [
    "#Аденин: 3\n",
    "#Гуанин: 2\n",
    "#Цитозин: 3\n",
    "#Тимин: 5\n",
    "s = input().lower()\n",
    "print(\"Аденин:\", s.count('а'))\n",
    "print(\"Гуанин:\", s.count('г'))\n",
    "print(\"Цитозин:\", s.count('ц'))\n",
    "print(\"Тимин:\", s.count('т'))"
   ]
  },
  {
   "cell_type": "code",
   "execution_count": 17,
   "id": "daa4db4f",
   "metadata": {},
   "outputs": [
    {
     "name": "stdout",
     "output_type": "stream",
     "text": [
      "3\n",
      "11helpme11jim11\n",
      "avengers141414atta11ck\n",
      "k1lg0re11111l\n",
      "1\n"
     ]
    }
   ],
   "source": [
    "s = int(input())\n",
    "count = 0\n",
    "for i in range(s):\n",
    "    if input().count(\"11\") >= 3:\n",
    "        count += 1\n",
    "print(count)        "
   ]
  },
  {
   "cell_type": "code",
   "execution_count": 21,
   "id": "5b1a87c5",
   "metadata": {},
   "outputs": [
    {
     "name": "stdout",
     "output_type": "stream",
     "text": [
      "avengers141414atta11ck\n",
      "8\n"
     ]
    }
   ],
   "source": [
    "a = input()\n",
    "count = 0\n",
    "for i in range(len(a)):\n",
    "    if a[i] in \"0123456789\":\n",
    "        count += 1\n",
    "print(count)"
   ]
  },
  {
   "cell_type": "code",
   "execution_count": 24,
   "id": "8de5d277",
   "metadata": {},
   "outputs": [
    {
     "name": "stdout",
     "output_type": "stream",
     "text": [
      "haha.org\n",
      "NO\n"
     ]
    }
   ],
   "source": [
    "s = input()\n",
    "if (s.endswith('.com') or s.endswith('.ru')):\n",
    "    print(\"YES\")\n",
    "else:\n",
    "    print(\"NO\")"
   ]
  },
  {
   "cell_type": "code",
   "execution_count": 26,
   "id": "c100ac42",
   "metadata": {},
   "outputs": [
    {
     "name": "stdout",
     "output_type": "stream",
     "text": [
      "abaabbcccc\n",
      "c\n"
     ]
    }
   ],
   "source": [
    "s = input()\n",
    "letter = \"\"\n",
    "max_count = 0\n",
    "for i in range(len(s)):\n",
    "    if s.count(s[i]) >= max_count:\n",
    "        max_count = s.count(s[i])\n",
    "        letter = s[i]\n",
    "print(letter)"
   ]
  },
  {
   "cell_type": "code",
   "execution_count": 28,
   "id": "8a78fdc9",
   "metadata": {},
   "outputs": [
    {
     "name": "stdout",
     "output_type": "stream",
     "text": [
      "abcdefgsgbsff fwfw\n",
      "5 16\n"
     ]
    }
   ],
   "source": [
    "a = input()\n",
    "if a.count(\"f\") == 1:\n",
    "    print(a.find('f'))\n",
    "elif a.count(\"f\") >= 2:\n",
    "    print(a.find(\"f\"), a.rfind(\"f\"))\n",
    "else:\n",
    "    print(\"NO\")"
   ]
  },
  {
   "cell_type": "code",
   "execution_count": 42,
   "id": "20636c9a",
   "metadata": {},
   "outputs": [
    {
     "name": "stdout",
     "output_type": "stream",
     "text": [
      "qweasdftyughjfiopkl;\n",
      "qweasdiopkl;\n"
     ]
    }
   ],
   "source": [
    "a = input()\n",
    "print(a[:a.find(\"h\")] + a[a.rfind(\"h\") + 1:])"
   ]
  },
  {
   "cell_type": "code",
   "execution_count": 1,
   "id": "94d357ed",
   "metadata": {},
   "outputs": [
    {
     "name": "stdout",
     "output_type": "stream",
     "text": [
      "In 2010, someone paid 10k Bitcoin for two pizzas.\n"
     ]
    }
   ],
   "source": [
    "a = \"2010\"\n",
    "b = \"10k\"\n",
    "c = \"Bitcoin\"\n",
    "s = 'In {0}, someone paid {1} {2} for two pizzas.'\n",
    "\n",
    "print(s.format(a, b, c))"
   ]
  },
  {
   "cell_type": "code",
   "execution_count": 3,
   "id": "7f183514",
   "metadata": {},
   "outputs": [
    {
     "name": "stdout",
     "output_type": "stream",
     "text": [
      "97\n",
      "110\n",
      "a b c d e f g h i j k l m n "
     ]
    }
   ],
   "source": [
    "a, b = int(input()), int(input())\n",
    "for i in range (a, b + 1):\n",
    "    print(chr(i), end = \" \")"
   ]
  },
  {
   "cell_type": "code",
   "execution_count": 8,
   "id": "1748c299",
   "metadata": {},
   "outputs": [
    {
     "name": "stdout",
     "output_type": "stream",
     "text": [
      "asfsg\n",
      "97 115 102 115 103 "
     ]
    },
    {
     "ename": "IndexError",
     "evalue": "string index out of range",
     "output_type": "error",
     "traceback": [
      "\u001b[1;31m---------------------------------------------------------------------------\u001b[0m",
      "\u001b[1;31mIndexError\u001b[0m                                Traceback (most recent call last)",
      "\u001b[1;32m<ipython-input-8-63d3af5f6f9b>\u001b[0m in \u001b[0;36m<module>\u001b[1;34m\u001b[0m\n\u001b[0;32m      1\u001b[0m \u001b[0ma\u001b[0m \u001b[1;33m=\u001b[0m \u001b[0minput\u001b[0m\u001b[1;33m(\u001b[0m\u001b[1;33m)\u001b[0m\u001b[1;33m\u001b[0m\u001b[1;33m\u001b[0m\u001b[0m\n\u001b[0;32m      2\u001b[0m \u001b[1;32mfor\u001b[0m \u001b[0mi\u001b[0m \u001b[1;32min\u001b[0m \u001b[0mrange\u001b[0m \u001b[1;33m(\u001b[0m\u001b[0mlen\u001b[0m\u001b[1;33m(\u001b[0m\u001b[0ma\u001b[0m\u001b[1;33m)\u001b[0m \u001b[1;33m+\u001b[0m \u001b[1;36m5\u001b[0m\u001b[1;33m)\u001b[0m\u001b[1;33m:\u001b[0m\u001b[1;33m\u001b[0m\u001b[1;33m\u001b[0m\u001b[0m\n\u001b[1;32m----> 3\u001b[1;33m     \u001b[0mprint\u001b[0m\u001b[1;33m(\u001b[0m\u001b[0mord\u001b[0m\u001b[1;33m(\u001b[0m\u001b[0ma\u001b[0m\u001b[1;33m[\u001b[0m\u001b[0mi\u001b[0m\u001b[1;33m]\u001b[0m\u001b[1;33m)\u001b[0m\u001b[1;33m,\u001b[0m \u001b[0mend\u001b[0m \u001b[1;33m=\u001b[0m \u001b[1;34m\" \"\u001b[0m\u001b[1;33m)\u001b[0m\u001b[1;33m\u001b[0m\u001b[1;33m\u001b[0m\u001b[0m\n\u001b[0m",
      "\u001b[1;31mIndexError\u001b[0m: string index out of range"
     ]
    }
   ],
   "source": [
    "a = input()\n",
    "for i in range (len(a)):\n",
    "    print(ord(a[i]), end = \" \")"
   ]
  },
  {
   "cell_type": "code",
   "execution_count": 7,
   "id": "52507b40",
   "metadata": {},
   "outputs": [
    {
     "name": "stdout",
     "output_type": "stream",
     "text": [
      "1\n",
      "bwfusvfupdbftbs\n",
      "avetruetocaesar"
     ]
    }
   ],
   "source": [
    "k = int(input())\n",
    "a = input()\n",
    "for i in range(len(a)):\n",
    "    if ord(a[i]) - k < 97:\n",
    "        print(chr(ord(a[i]) - k + 26), end = \"\")\n",
    "    else:\n",
    "        print(chr(ord(a[i]) - k), end = \"\")"
   ]
  },
  {
   "cell_type": "code",
   "execution_count": 10,
   "id": "eeb089dc",
   "metadata": {},
   "outputs": [
    {
     "name": "stdout",
     "output_type": "stream",
     "text": [
      "cdef\n"
     ]
    }
   ],
   "source": [
    "s = 'abcdefg'\n",
    "print(s[2:6])"
   ]
  },
  {
   "cell_type": "code",
   "execution_count": 11,
   "id": "48959192",
   "metadata": {},
   "outputs": [
    {
     "name": "stdout",
     "output_type": "stream",
     "text": [
      "abcdefg\n"
     ]
    }
   ],
   "source": [
    "s = '         abcdefg        '\n",
    "print(s.strip())"
   ]
  },
  {
   "cell_type": "code",
   "execution_count": 19,
   "id": "3d5c3bcc",
   "metadata": {},
   "outputs": [
    {
     "name": "stdout",
     "output_type": "stream",
     "text": [
      "qwertyuiop[]\n",
      "wetyio[]\n"
     ]
    }
   ],
   "source": [
    "a = input()\n",
    "s = \"\"\n",
    "for i in range(len(a)):\n",
    "    if i % 3 != 0:\n",
    "        s = s + a[i]\n",
    "    elif i % 3 == 0:\n",
    "        continue\n",
    "print(s)"
   ]
  },
  {
   "cell_type": "code",
   "execution_count": 23,
   "id": "b29ea290",
   "metadata": {},
   "outputs": [
    {
     "name": "stdout",
     "output_type": "stream",
     "text": [
      "123@1@@34\n",
      "123134\n"
     ]
    }
   ],
   "source": [
    "s = input()\n",
    "print(s.replace(\"@\", \"\"))"
   ]
  },
  {
   "cell_type": "code",
   "execution_count": 27,
   "id": "64ec3c9e",
   "metadata": {},
   "outputs": [
    {
     "name": "stdout",
     "output_type": "stream",
     "text": [
      "asdasdfqweqwefqwe\n",
      "13\n"
     ]
    }
   ],
   "source": [
    "a = input()\n",
    "s = \"\"\n",
    "if a.count(\"f\") == 1:\n",
    "    print(\"-1\")\n",
    "elif a.count(\"f\") >= 2:\n",
    "    s = a.replace(\"f\", \"a\", 1)\n",
    "    print(s.find(\"f\"))\n",
    "else:\n",
    "    print(\"-2\")"
   ]
  },
  {
   "cell_type": "code",
   "execution_count": 39,
   "id": "898aeb72",
   "metadata": {},
   "outputs": [
    {
     "name": "stdout",
     "output_type": "stream",
     "text": [
      "abch54321h\n",
      "12345\n",
      "abch12345h\n"
     ]
    }
   ],
   "source": [
    "a = input()\n",
    "en1 = a.find(\"h\")\n",
    "en2 = a.rfind(\"h\")\n",
    "l = \"\"\n",
    "for i in range (en2 - 1, en1, -1):\n",
    "    l += a[i]    \n",
    "s = \"\"\n",
    "s = a[:en1 + 1] + l + a[en2:]\n",
    "print(s)"
   ]
  },
  {
   "cell_type": "code",
   "execution_count": 1,
   "id": "b974cf98",
   "metadata": {},
   "outputs": [
    {
     "name": "stdout",
     "output_type": "stream",
     "text": [
      "[0, 1, 3, 14, 2, 7, 9, 8, 10]\n"
     ]
    }
   ],
   "source": [
    "numbers = [0, 1, 3, 14, 2, 7, 9, 8, 10]\n",
    "print(numbers)"
   ]
  },
  {
   "cell_type": "code",
   "execution_count": 2,
   "id": "a6c15875",
   "metadata": {},
   "outputs": [
    {
     "name": "stdout",
     "output_type": "stream",
     "text": [
      "['Michael', 'John', 'Freddie']\n"
     ]
    }
   ],
   "source": [
    "names = ['Michael', 'John', 'Freddie']\n",
    "print(names)"
   ]
  },
  {
   "cell_type": "code",
   "execution_count": 6,
   "id": "89c8cb6e",
   "metadata": {},
   "outputs": [
    {
     "name": "stdout",
     "output_type": "stream",
     "text": [
      "5\n",
      "[1, 2, 3, 4, 5]\n"
     ]
    }
   ],
   "source": [
    "a = int(input())\n",
    "numbers = list(range(1, a + 1))\n",
    "print(numbers)"
   ]
  },
  {
   "cell_type": "code",
   "execution_count": 8,
   "id": "05690a03",
   "metadata": {},
   "outputs": [
    {
     "name": "stdout",
     "output_type": "stream",
     "text": [
      "5\n",
      "['a', 'b', 'c', 'd', 'e']\n"
     ]
    }
   ],
   "source": [
    "abc = ['a', 'b', 'c', 'd', 'e', 'f', 'g', 'h', 'i', 'j', 'k', 'l', 'm', 'n', 'o', 'p', 'q', 'r', 's', 't', 'u', 'v', 'w', 'x', 'y', 'z']\n",
    "a = int(input())\n",
    "letters = list(abc[:a])\n",
    "print(letters)"
   ]
  },
  {
   "cell_type": "code",
   "execution_count": 2,
   "id": "63b814c2",
   "metadata": {},
   "outputs": [
    {
     "name": "stdout",
     "output_type": "stream",
     "text": [
      "[2, 3, 5, 7, 11, 13]\n"
     ]
    }
   ],
   "source": [
    "primes = [2, 3, 5, 7, 11, 13, 17, 19, 23, 29, 31, 37, 41, 43, 47, 53, 59, 61, 67, 71]\n",
    "\n",
    "print(primes[:6])\n"
   ]
  },
  {
   "cell_type": "code",
   "execution_count": 7,
   "id": "6f4840be",
   "metadata": {},
   "outputs": [
    {
     "name": "stdout",
     "output_type": "stream",
     "text": [
      "['Red', 'Orange', 'Yellow', 'Зеленый', 'Blue', 'Indigo', 'Фиолетовый']\n"
     ]
    }
   ],
   "source": [
    "rainbow = ['Red', 'Orange', 'Yellow', 'Green', 'Blue', 'Indigo', 'Violet']\n",
    "rainbow[3] = \"Зеленый\"\n",
    "rainbow[6] = \"Фиолетовый\"\n",
    "print(rainbow)"
   ]
  },
  {
   "cell_type": "code",
   "execution_count": 9,
   "id": "e1e66c00",
   "metadata": {},
   "outputs": [
    {
     "name": "stdout",
     "output_type": "stream",
     "text": [
      "['Lahnda', 'Japanese', 'Russian', 'Portuguese', 'Bengali', 'Arabic', 'Hindi', 'English', 'Spanish', 'Chinese']\n"
     ]
    }
   ],
   "source": [
    "languages = ['Chinese', 'Spanish', 'English', 'Hindi', 'Arabic', 'Bengali', 'Portuguese', 'Russian', 'Japanese', 'Lahnda']\n",
    "print(languages[::-1])"
   ]
  },
  {
   "cell_type": "code",
   "execution_count": 11,
   "id": "85826dc4",
   "metadata": {},
   "outputs": [
    {
     "name": "stdout",
     "output_type": "stream",
     "text": [
      "[1, 2, 3, 1, 2, 3, 6, 6, 6, 6, 6, 6, 6, 6, 6, 7, 8, 9, 10, 11, 12, 13]\n"
     ]
    }
   ],
   "source": [
    "num1 = [1, 2, 3]\n",
    "num2 = [6]\n",
    "num3 = [7, 8, 9, 10, 11, 12, 13]\n",
    "\n",
    "print(num1 * 2 + num2 * 9 + num3)\n"
   ]
  },
  {
   "cell_type": "code",
   "execution_count": 15,
   "id": "0386f847",
   "metadata": {},
   "outputs": [
    {
     "name": "stdout",
     "output_type": "stream",
     "text": [
      "50\n",
      "5\n",
      "[5, 7, 6, 16, 14, 2, 1, 15, 1, 9, 14, 10, 2, 1, 12, 6, 5, 14, 12, 2, 8, 14, 6, 0, 0, 12, 10, 10, 11, 1, 5, 8, 10, 10, 16, 8, 0, 1, 16, 4, 5, 12, 16, 11, 4, 10, 14, 3, 6, 2]\n",
      "YES\n",
      "[6, 3, 14, 10, 4, 11, 16, 12, 5, 4, 16, 1, 0, 8, 16, 10, 10, 8, 5, 1, 11, 10, 10, 12, 0, 0, 6, 14, 8, 2, 12, 14, 5, 6, 12, 1, 2, 10, 14, 9, 1, 15, 1, 2, 14, 16, 6, 7]\n"
     ]
    }
   ],
   "source": [
    "numbers = [2, 6, 3, 14, 10, 4, 11, 16, 12, 5, 4, 16, 1, 0, 8, 16, 10, 10, 8, 5, 1, 11, 10, 10, 12, 0, 0, 6, 14, 8, 2, 12, 14, 5, 6, 12, 1, 2, 10, 14, 9, 1, 15, 1, 2, 14, 16, 6, 7, 5]\n",
    "print(len(numbers))\n",
    "print(numbers[-1])\n",
    "print(numbers[::-1])\n",
    "if ((5 in numbers) and (17 in numbers)):\n",
    "    print(\"YES\")\n",
    "else:\n",
    "    print(\"NO\")\n",
    "del numbers[0]\n",
    "del numbers[-1]\n",
    "print(numbers)"
   ]
  },
  {
   "cell_type": "code",
   "execution_count": null,
   "id": "0de3ce8f",
   "metadata": {},
   "outputs": [],
   "source": [
    "a = int(input())\n",
    "b = []\n",
    "for _ in range(a):\n",
    "    b.append(input())\n",
    "print(b)"
   ]
  },
  {
   "cell_type": "code",
   "execution_count": 18,
   "id": "ae96abbe",
   "metadata": {},
   "outputs": [
    {
     "name": "stdout",
     "output_type": "stream",
     "text": [
      "['a', 'bb', 'ccc', 'dddd', 'eeeee', 'ffffff', 'ggggggg', 'hhhhhhhh', 'iiiiiiiii', 'jjjjjjjjjj', 'kkkkkkkkkkk', 'llllllllllll', 'mmmmmmmmmmmmm', 'nnnnnnnnnnnnnn', 'ooooooooooooooo', 'pppppppppppppppp', 'qqqqqqqqqqqqqqqqq', 'rrrrrrrrrrrrrrrrrr', 'sssssssssssssssssss', 'tttttttttttttttttttt', 'uuuuuuuuuuuuuuuuuuuuu', 'vvvvvvvvvvvvvvvvvvvvvv', 'wwwwwwwwwwwwwwwwwwwwwww', 'xxxxxxxxxxxxxxxxxxxxxxxx', 'yyyyyyyyyyyyyyyyyyyyyyyyy', 'zzzzzzzzzzzzzzzzzzzzzzzzzz']\n"
     ]
    }
   ],
   "source": [
    "abc = 'abcdefghijklmnopqrstuvwxyz'\n",
    "a = []\n",
    "for i in range(1, len(abc) + 1):\n",
    "    a.append(abc[i - 1] * i)\n",
    "print(a)"
   ]
  },
  {
   "cell_type": "code",
   "execution_count": null,
   "id": "5985b78d",
   "metadata": {},
   "outputs": [],
   "source": [
    "a = int(input())\n",
    "b = []\n",
    "for _ in range(a):\n",
    "    b.append(int(input()) ** 3)\n",
    "print(b)"
   ]
  },
  {
   "cell_type": "code",
   "execution_count": 20,
   "id": "6b56d38b",
   "metadata": {},
   "outputs": [
    {
     "name": "stdout",
     "output_type": "stream",
     "text": [
      "117\n",
      "[1, 3, 9, 13, 39, 117]\n"
     ]
    }
   ],
   "source": [
    "a = int(input())\n",
    "b = []\n",
    "for i in range (1, a + 1):\n",
    "    if a % i == 0:\n",
    "        b.append(i)\n",
    "print(b)"
   ]
  },
  {
   "cell_type": "code",
   "execution_count": 25,
   "id": "86058c2e",
   "metadata": {},
   "outputs": [
    {
     "name": "stdout",
     "output_type": "stream",
     "text": [
      "5\n",
      "1\n",
      "2\n",
      "3\n",
      "4\n",
      "5\n",
      "[3, 5, 7, 9]\n"
     ]
    }
   ],
   "source": [
    "a = int(input())\n",
    "b = []\n",
    "c = []\n",
    "for _ in range(a):\n",
    "    b.append(int(input()))\n",
    "for i in range(len(b) - 1):\n",
    "    c.append(b[i] + b[i + 1])\n",
    "print(c)"
   ]
  },
  {
   "cell_type": "code",
   "execution_count": 4,
   "id": "c87de5e3",
   "metadata": {},
   "outputs": [
    {
     "name": "stdout",
     "output_type": "stream",
     "text": [
      "5\n",
      "1\n",
      "2\n",
      "3\n",
      "4\n",
      "5\n",
      "[2, 4]\n"
     ]
    }
   ],
   "source": [
    "a = int(input())\n",
    "b = []\n",
    "for _ in range(a):\n",
    "    b.append(int(input()))\n",
    "del b[1::2]   \n",
    "print(b)"
   ]
  },
  {
   "cell_type": "code",
   "execution_count": 16,
   "id": "305e3e0a",
   "metadata": {},
   "outputs": [
    {
     "name": "stdout",
     "output_type": "stream",
     "text": [
      "3\n",
      "qwert\n",
      "asdfg\n",
      "zxcxvb\n",
      "2\n",
      "wsx\n"
     ]
    }
   ],
   "source": [
    "a = int(input())\n",
    "b = []\n",
    "for _ in range(a):\n",
    "    b.append(input())\n",
    "k = int(input())\n",
    "swap = \"\"\n",
    "c = \"\"\n",
    "for i in range(len(b)):\n",
    "    swap = b[i]\n",
    "    if len(swap) < k:\n",
    "        continue\n",
    "    else:\n",
    "        c += swap[k - 1]\n",
    "print(c)"
   ]
  },
  {
   "cell_type": "code",
   "execution_count": 18,
   "id": "f8bd3b57",
   "metadata": {},
   "outputs": [
    {
     "name": "stdout",
     "output_type": "stream",
     "text": [
      "3\n",
      "asd\n",
      "qwe\n",
      "zxc\n",
      "['a', 's', 'd', 'q', 'w', 'e', 'z', 'x', 'c']\n"
     ]
    }
   ],
   "source": [
    "a = int(input())\n",
    "b = \"\"\n",
    "c = []\n",
    "for i in range(a):\n",
    "    b = input()\n",
    "    for j in range(len(b)):\n",
    "        c.append(b[j])\n",
    "print(c)"
   ]
  },
  {
   "cell_type": "code",
   "execution_count": 3,
   "id": "1cee7964",
   "metadata": {},
   "outputs": [
    {
     "name": "stdout",
     "output_type": "stream",
     "text": [
      "82649673\n"
     ]
    }
   ],
   "source": [
    "numbers = [1, 78, 23, -65, 99, 9089, 34, -32, 0, -67, 1, 11, 111]\n",
    "summ = 0\n",
    "for num in numbers:\n",
    "    summ += num ** 2\n",
    "print(summ)"
   ]
  },
  {
   "cell_type": "code",
   "execution_count": 4,
   "id": "e0b94822",
   "metadata": {},
   "outputs": [
    {
     "name": "stdout",
     "output_type": "stream",
     "text": [
      "5\n",
      "1\n",
      "2\n",
      "3\n",
      "4\n",
      "5\n",
      "1\n",
      "2\n",
      "3\n",
      "4\n",
      "5\n",
      "4\n",
      "9\n",
      "16\n",
      "25\n",
      "36\n"
     ]
    }
   ],
   "source": [
    "#f(x)=x**2+2x+1 \n",
    "n = int(input())\n",
    "listok = []\n",
    "for _ in range(n):\n",
    "     listok.append(int(input()))\n",
    "for elem in listok:\n",
    "    print(elem)\n",
    "print(\"\")\n",
    "for elem in listok:\n",
    "    print(elem ** 2 + 2 * elem + 1)"
   ]
  },
  {
   "cell_type": "code",
   "execution_count": 2,
   "id": "a71b5a7b",
   "metadata": {},
   "outputs": [
    {
     "name": "stdout",
     "output_type": "stream",
     "text": [
      "5\n",
      "1\n",
      "2\n",
      "3\n",
      "44\n",
      "5\n",
      "[2, 3, 5]\n"
     ]
    }
   ],
   "source": [
    "n = int(input())\n",
    "listok = []\n",
    "for _ in range(n):\n",
    "     listok.append(int(input()))\n",
    "listok.remove(max(listok))\n",
    "listok.remove(min(listok))\n",
    "print(*listok, sep='\\n')"
   ]
  },
  {
   "cell_type": "code",
   "execution_count": 6,
   "id": "a288280c",
   "metadata": {},
   "outputs": [
    {
     "name": "stdout",
     "output_type": "stream",
     "text": [
      "5\n",
      "1\n",
      "2\n",
      "2\n",
      "2\n",
      "3\n",
      "1\n",
      "2\n",
      "3\n"
     ]
    }
   ],
   "source": [
    "n = int(input())\n",
    "listok = []\n",
    "newlist = []\n",
    "for _ in range(n):\n",
    "     listok.append(input())\n",
    "for i in listok:\n",
    "    if i not in newlist:\n",
    "        newlist.append(i)\n",
    "print(*newlist, sep='\\n')"
   ]
  },
  {
   "cell_type": "code",
   "execution_count": 9,
   "id": "3b64dfca",
   "metadata": {},
   "outputs": [
    {
     "name": "stdout",
     "output_type": "stream",
     "text": [
      "3\n",
      "qwert\n",
      "ery\n",
      "asdf\n",
      "er\n",
      "qwert\n",
      "ery\n"
     ]
    }
   ],
   "source": [
    "n = int(input())\n",
    "listok = []\n",
    "newlist = []\n",
    "for _ in range(n):\n",
    "     listok.append(input())\n",
    "tofind = input()\n",
    "for i in listok:\n",
    "    if tofind.lower() in i.lower():\n",
    "        print(i)"
   ]
  },
  {
   "cell_type": "code",
   "execution_count": 15,
   "id": "dc8ba43b",
   "metadata": {},
   "outputs": [
    {
     "name": "stdout",
     "output_type": "stream",
     "text": [
      "3\n",
      "Язык Python прекрасен\n",
      "язык Python появился 20 февраля 1991\n",
      "asfasg\n",
      "2\n",
      "язык\n",
      "python\n",
      "python\n",
      "python\n"
     ]
    }
   ],
   "source": [
    "n = int(input())\n",
    "listok = []\n",
    "for _ in range(n):\n",
    "     listok.append(input())\n",
    "tofind = []\n",
    "k = int(input())\n",
    "for _ in range(k):\n",
    "     tofind.append(input())\n",
    "search_list = []\n",
    "for i in listok:\n",
    "    count = 0\n",
    "    for j in tofind:\n",
    "        if j.lower() in i.lower():\n",
    "            count += 1\n",
    "        if count == len(tofind):\n",
    "            print(i)"
   ]
  },
  {
   "cell_type": "code",
   "execution_count": 16,
   "id": "44fe3049",
   "metadata": {},
   "outputs": [
    {
     "name": "stdout",
     "output_type": "stream",
     "text": [
      "5\n",
      "4\n",
      "3\n",
      "-2\n",
      "-10\n",
      "0\n",
      "-2\n",
      "-10\n",
      "0\n",
      "4\n",
      "3\n"
     ]
    }
   ],
   "source": [
    "n = int(input())\n",
    "listok = []\n",
    "for _ in range(n):\n",
    "     listok.append(int(input()))\n",
    "for i in listok:\n",
    "    if i < 0:\n",
    "        print(i)\n",
    "for i in listok:\n",
    "    if i == 0:\n",
    "        print(i)\n",
    "for i in listok:\n",
    "    if i > 0:\n",
    "        print(i)"
   ]
  },
  {
   "cell_type": "code",
   "execution_count": 1,
   "id": "81357aed",
   "metadata": {},
   "outputs": [
    {
     "name": "stdout",
     "output_type": "stream",
     "text": [
      "B**E**E**G**E**E**K\n"
     ]
    }
   ],
   "source": [
    "s = 'BEEGEEK'\n",
    "chars = list(s)\n",
    "s = '**'.join(chars)\n",
    "print(s)"
   ]
  },
  {
   "cell_type": "code",
   "execution_count": 3,
   "id": "37906789",
   "metadata": {},
   "outputs": [
    {
     "name": "stdout",
     "output_type": "stream",
     "text": [
      "sfnb dnh  erfd r\n",
      "sfnb\n",
      "dnh\n",
      "erfd\n",
      "r\n"
     ]
    }
   ],
   "source": [
    "print(*input().split(), sep='\\n')"
   ]
  },
  {
   "cell_type": "code",
   "execution_count": 7,
   "id": "ffe47226",
   "metadata": {},
   "outputs": [
    {
     "name": "stdout",
     "output_type": "stream",
     "text": [
      "eug igi venev\n",
      "e.i.v.\n"
     ]
    }
   ],
   "source": [
    "fn = input().split()\n",
    "fio = []\n",
    "fio.append(fn[0][0])\n",
    "fio.append(fn[1][0])\n",
    "fio.append(fn[2][0])\n",
    "print('.'.join(fio) + \".\")"
   ]
  },
  {
   "cell_type": "code",
   "execution_count": null,
   "id": "7e8b1a49",
   "metadata": {},
   "outputs": [],
   "source": [
    "ip = '192.168.1.24'\n",
    "numbers = ip.split('.')    # указываем явно разделитель\n",
    "print(numbers)"
   ]
  },
  {
   "cell_type": "code",
   "execution_count": 16,
   "id": "54ef9a82",
   "metadata": {},
   "outputs": [
    {
     "name": "stdout",
     "output_type": "stream",
     "text": [
      "input()\n",
      "input()\n"
     ]
    }
   ],
   "source": [
    "s = input().split('\\\\')\n",
    "print(*s, sep = '\\n')"
   ]
  },
  {
   "cell_type": "code",
   "execution_count": 17,
   "id": "b534865f",
   "metadata": {},
   "outputs": [
    {
     "name": "stdout",
     "output_type": "stream",
     "text": [
      "5 3 1 7 10 2\n",
      "*****\n",
      "***\n",
      "*\n",
      "*******\n",
      "**********\n",
      "**\n"
     ]
    }
   ],
   "source": [
    "numbers = input().split()\n",
    "for i in range(len(numbers)):\n",
    "    numbers[i] = int(numbers[i])\n",
    "    print('+' * numbers[i])"
   ]
  },
  {
   "cell_type": "code",
   "execution_count": 25,
   "id": "ae72d10c",
   "metadata": {},
   "outputs": [
    {
     "name": "stdout",
     "output_type": "stream",
     "text": [
      "192.168.0.3\n",
      "ДА\n"
     ]
    }
   ],
   "source": [
    "numbers = input().split('.')\n",
    "for i in range(len(numbers)):\n",
    "    numbers[i] = int(numbers[i])\n",
    "#print(numbers)\n",
    "count = 0\n",
    "for i in  numbers:\n",
    "    if (i >= 0 and i <= 255):\n",
    "        count += 1\n",
    "if count == 4:\n",
    "    print(\"ДА\")\n",
    "else: print(\"НЕТ\")"
   ]
  },
  {
   "cell_type": "code",
   "execution_count": null,
   "id": "568eb1d8",
   "metadata": {},
   "outputs": [],
   "source": [
    "s = 'BEEGEEK'\n",
    "chars = list(s)\n",
    "s = '**'.join(chars)\n",
    "print(s)"
   ]
  },
  {
   "cell_type": "code",
   "execution_count": 32,
   "id": "1d7096c3",
   "metadata": {},
   "outputs": [
    {
     "name": "stdout",
     "output_type": "stream",
     "text": [
      "231546\n",
      "*\n",
      "2*3*1*5*4*6\n"
     ]
    }
   ],
   "source": [
    "s = list(input())\n",
    "splitter = input()\n",
    "newstr = splitter.join(s)\n",
    "print(newstr)"
   ]
  },
  {
   "cell_type": "code",
   "execution_count": null,
   "id": "2f17a3cf",
   "metadata": {},
   "outputs": [],
   "source": [
    "ip = '192.168.1.24'\n",
    "numbers = ip.split('.')    # указываем явно разделитель\n",
    "print(numbers)"
   ]
  },
  {
   "cell_type": "code",
   "execution_count": null,
   "id": "8afe9ea2",
   "metadata": {},
   "outputs": [],
   "source": [
    "a = [int(s) for s in input().split()]\n",
    "counter = 0\n",
    "for i in range(len(a)):\n",
    "    for j in range(i + 1, len(a)):\n",
    "        if a[i] == a[j]:\n",
    "            counter += 1\n",
    "print(counter)"
   ]
  },
  {
   "cell_type": "code",
   "execution_count": 33,
   "id": "29dc2a80",
   "metadata": {},
   "outputs": [
    {
     "name": "stdout",
     "output_type": "stream",
     "text": [
      "Номер элемента ряда Фибоначчи: 10\n",
      "8 1 1\n",
      "7 1 2\n",
      "6 2 3\n",
      "5 3 5\n",
      "4 5 8\n",
      "3 8 13\n",
      "2 13 21\n",
      "1 21 34\n",
      "Значение этого элемента: 55\n"
     ]
    }
   ],
   "source": [
    "fib1 = fib2 = 1\n",
    " \n",
    "n = input(\"Номер элемента ряда Фибоначчи: \")\n",
    "n = int(n) - 2\n",
    " \n",
    "while n > 0:\n",
    "    print(n, fib1, fib2)\n",
    "    fib1, fib2 = fib2, fib1 + fib2\n",
    "    n -= 1\n",
    "\n",
    " \n",
    "print(\"Значение этого элемента:\", fib2)"
   ]
  },
  {
   "cell_type": "code",
   "execution_count": 16,
   "id": "cabc188c",
   "metadata": {},
   "outputs": [
    {
     "name": "stdout",
     "output_type": "stream",
     "text": [
      "[17, 10, 11, 25, 4, 5, 6, 17, 10, 11, 4, 5, 6]\n"
     ]
    }
   ],
   "source": [
    "numbers = [8, 9, 10, 11]\n",
    "numbers.remove(numbers[1])\n",
    "numbers.insert(1, 17)\n",
    "numbers.append(4)\n",
    "numbers.append(5)\n",
    "numbers.append(6)\n",
    "numbers.remove(numbers[0])\n",
    "numbers.extend(numbers)\n",
    "numbers.insert(3, 25)\n",
    "print(numbers)\n",
    "\n"
   ]
  },
  {
   "cell_type": "code",
   "execution_count": 17,
   "id": "d07d72ec",
   "metadata": {},
   "outputs": [
    {
     "name": "stdout",
     "output_type": "stream",
     "text": [
      "[17, 10, 11, 25, 4, 5, 6, 17, 10, 11, 4, 5, 6]\n"
     ]
    }
   ],
   "source": [
    "numbers = [8, 9, 10, 11]\n",
    "\n",
    "numbers[1] = 17\n",
    "numbers.extend([4, 5, 6])\n",
    "del numbers[0]\n",
    "numbers *= 2\n",
    "numbers.insert(3, 25)\n",
    "print(numbers)"
   ]
  },
  {
   "cell_type": "code",
   "execution_count": 20,
   "id": "f64c1de2",
   "metadata": {},
   "outputs": [
    {
     "ename": "SyntaxError",
     "evalue": "cannot assign to function call (<ipython-input-20-8ba600670cf9>, line 3)",
     "output_type": "error",
     "traceback": [
      "\u001b[1;36m  File \u001b[1;32m\"<ipython-input-20-8ba600670cf9>\"\u001b[1;36m, line \u001b[1;32m3\u001b[0m\n\u001b[1;33m    nums.index(a) = b\u001b[0m\n\u001b[1;37m    ^\u001b[0m\n\u001b[1;31mSyntaxError\u001b[0m\u001b[1;31m:\u001b[0m cannot assign to function call\n"
     ]
    }
   ],
   "source": [
    "nums = list(input())\n",
    "a, b = max(nums), min(nums)\n",
    "nums.index(a) = b\n",
    "nums.index(b) = a\n",
    "print(nums)\n"
   ]
  },
  {
   "cell_type": "code",
   "execution_count": 23,
   "id": "38ae112a",
   "metadata": {},
   "outputs": [
    {
     "name": "stdout",
     "output_type": "stream",
     "text": [
      "William Shakespeare was born in the town of Stratford, England, in the year 1564. When he was a young man, Shakespeare moved to the city of London, where he began writing plays. His plays were soon very successful, and were enjoyed both by the common people of London and also by the rich and famous. In addition to his plays, Shakespeare wrote many short poems and a few longer poems. Like his plays, these poems are still famous today.\n",
      "7\n"
     ]
    }
   ],
   "source": [
    "names = input().lower().split()\n",
    "print(\"Общее количество артиклей:\", names.count('a') + names.count('an') + names.count('the'))"
   ]
  },
  {
   "cell_type": "code",
   "execution_count": null,
   "id": "118eaef6",
   "metadata": {},
   "outputs": [],
   "source": [
    "#12\n",
    "print(\"Введите своё имя\")\n",
    "name = input()\n",
    "print(\"Введите пароль, если имеется\")    # ахахахах вам не поймать меня\n",
    "password = input()\n",
    "if password == \"hoover\":\n",
    "    print(\"Здравствуйте, рыцарь\", name)         #долой Макнамару\n",
    "elif password == \"noncr\":\n",
    "    print(\"Здравствуйте, паладин\", name)\n",
    "elif password == \"gelios\":\n",
    "    print(\"Здравствуйте, старейшина\", name)          #Элайджа вперёд\n",
    "else:\n",
    "    print(\"Здравствуйте, послушник\", name)"
   ]
  },
  {
   "cell_type": "code",
   "execution_count": 43,
   "id": "bb5cde27",
   "metadata": {},
   "outputs": [
    {
     "name": "stdout",
     "output_type": "stream",
     "text": [
      "#12\n",
      "print(\"Введите своё имя\")\n",
      "print(\"Введите своё имя\")\n",
      "name = input()\n",
      "name = input()\n",
      "print(\"Введите пароль, если имеется\")    # ахахахах вам не поймать меня\n",
      "print(\"Введите пароль, если имеется\")    \n"
     ]
    },
    {
     "ename": "KeyboardInterrupt",
     "evalue": "Interrupted by user",
     "output_type": "error",
     "traceback": [
      "\u001b[1;31m---------------------------------------------------------------------------\u001b[0m",
      "\u001b[1;31mKeyboardInterrupt\u001b[0m                         Traceback (most recent call last)",
      "\u001b[1;32m<ipython-input-43-65e201a272a9>\u001b[0m in \u001b[0;36m<module>\u001b[1;34m\u001b[0m\n\u001b[0;32m      2\u001b[0m \u001b[0ms\u001b[0m \u001b[1;33m=\u001b[0m \u001b[0mint\u001b[0m\u001b[1;33m(\u001b[0m\u001b[0ms\u001b[0m\u001b[1;33m[\u001b[0m\u001b[1;36m1\u001b[0m\u001b[1;33m:\u001b[0m\u001b[1;33m]\u001b[0m\u001b[1;33m)\u001b[0m\u001b[1;33m\u001b[0m\u001b[1;33m\u001b[0m\u001b[0m\n\u001b[0;32m      3\u001b[0m \u001b[1;32mfor\u001b[0m \u001b[0mi\u001b[0m \u001b[1;32min\u001b[0m \u001b[0mrange\u001b[0m\u001b[1;33m(\u001b[0m\u001b[0ms\u001b[0m\u001b[1;33m)\u001b[0m\u001b[1;33m:\u001b[0m\u001b[1;33m\u001b[0m\u001b[1;33m\u001b[0m\u001b[0m\n\u001b[1;32m----> 4\u001b[1;33m     \u001b[0mline\u001b[0m \u001b[1;33m=\u001b[0m \u001b[0minput\u001b[0m\u001b[1;33m(\u001b[0m\u001b[1;33m)\u001b[0m\u001b[1;33m\u001b[0m\u001b[1;33m\u001b[0m\u001b[0m\n\u001b[0m\u001b[0;32m      5\u001b[0m     \u001b[1;32mif\u001b[0m \u001b[1;34m\"#\"\u001b[0m \u001b[1;32min\u001b[0m \u001b[0mline\u001b[0m\u001b[1;33m:\u001b[0m\u001b[1;33m\u001b[0m\u001b[1;33m\u001b[0m\u001b[0m\n\u001b[0;32m      6\u001b[0m         \u001b[0mpos\u001b[0m \u001b[1;33m=\u001b[0m \u001b[0mline\u001b[0m\u001b[1;33m.\u001b[0m\u001b[0mfind\u001b[0m\u001b[1;33m(\u001b[0m\u001b[1;34m'#'\u001b[0m\u001b[1;33m)\u001b[0m\u001b[1;33m\u001b[0m\u001b[1;33m\u001b[0m\u001b[0m\n",
      "\u001b[1;32mC:\\ProgramData\\Anaconda3\\lib\\site-packages\\ipykernel\\kernelbase.py\u001b[0m in \u001b[0;36mraw_input\u001b[1;34m(self, prompt)\u001b[0m\n\u001b[0;32m    858\u001b[0m                 \u001b[1;34m\"raw_input was called, but this frontend does not support input requests.\"\u001b[0m\u001b[1;33m\u001b[0m\u001b[1;33m\u001b[0m\u001b[0m\n\u001b[0;32m    859\u001b[0m             )\n\u001b[1;32m--> 860\u001b[1;33m         return self._input_request(str(prompt),\n\u001b[0m\u001b[0;32m    861\u001b[0m             \u001b[0mself\u001b[0m\u001b[1;33m.\u001b[0m\u001b[0m_parent_ident\u001b[0m\u001b[1;33m,\u001b[0m\u001b[1;33m\u001b[0m\u001b[1;33m\u001b[0m\u001b[0m\n\u001b[0;32m    862\u001b[0m             \u001b[0mself\u001b[0m\u001b[1;33m.\u001b[0m\u001b[0m_parent_header\u001b[0m\u001b[1;33m,\u001b[0m\u001b[1;33m\u001b[0m\u001b[1;33m\u001b[0m\u001b[0m\n",
      "\u001b[1;32mC:\\ProgramData\\Anaconda3\\lib\\site-packages\\ipykernel\\kernelbase.py\u001b[0m in \u001b[0;36m_input_request\u001b[1;34m(self, prompt, ident, parent, password)\u001b[0m\n\u001b[0;32m    902\u001b[0m             \u001b[1;32mexcept\u001b[0m \u001b[0mKeyboardInterrupt\u001b[0m\u001b[1;33m:\u001b[0m\u001b[1;33m\u001b[0m\u001b[1;33m\u001b[0m\u001b[0m\n\u001b[0;32m    903\u001b[0m                 \u001b[1;31m# re-raise KeyboardInterrupt, to truncate traceback\u001b[0m\u001b[1;33m\u001b[0m\u001b[1;33m\u001b[0m\u001b[1;33m\u001b[0m\u001b[0m\n\u001b[1;32m--> 904\u001b[1;33m                 \u001b[1;32mraise\u001b[0m \u001b[0mKeyboardInterrupt\u001b[0m\u001b[1;33m(\u001b[0m\u001b[1;34m\"Interrupted by user\"\u001b[0m\u001b[1;33m)\u001b[0m \u001b[1;32mfrom\u001b[0m \u001b[1;32mNone\u001b[0m\u001b[1;33m\u001b[0m\u001b[1;33m\u001b[0m\u001b[0m\n\u001b[0m\u001b[0;32m    905\u001b[0m             \u001b[1;32mexcept\u001b[0m \u001b[0mException\u001b[0m \u001b[1;32mas\u001b[0m \u001b[0me\u001b[0m\u001b[1;33m:\u001b[0m\u001b[1;33m\u001b[0m\u001b[1;33m\u001b[0m\u001b[0m\n\u001b[0;32m    906\u001b[0m                 \u001b[0mself\u001b[0m\u001b[1;33m.\u001b[0m\u001b[0mlog\u001b[0m\u001b[1;33m.\u001b[0m\u001b[0mwarning\u001b[0m\u001b[1;33m(\u001b[0m\u001b[1;34m\"Invalid Message:\"\u001b[0m\u001b[1;33m,\u001b[0m \u001b[0mexc_info\u001b[0m\u001b[1;33m=\u001b[0m\u001b[1;32mTrue\u001b[0m\u001b[1;33m)\u001b[0m\u001b[1;33m\u001b[0m\u001b[1;33m\u001b[0m\u001b[0m\n",
      "\u001b[1;31mKeyboardInterrupt\u001b[0m: Interrupted by user"
     ]
    }
   ],
   "source": [
    "s = input()\n",
    "s = int(s[1:])\n",
    "for _ in range(s):\n",
    "    line = input()\n",
    "    if \"#\" in line:\n",
    "        pos = line.find('#')\n",
    "        newline = line[:pos]\n",
    "        print(newline.rstrip())\n",
    "    else:\n",
    "        print(line.rstrip())\n",
    "        continue"
   ]
  },
  {
   "cell_type": "code",
   "execution_count": 48,
   "id": "43a9c85d",
   "metadata": {},
   "outputs": [
    {
     "name": "stdout",
     "output_type": "stream",
     "text": [
      "4 5 1 2 3 8\n",
      "1 2 3 4 5 8\n",
      "8 5 4 3 2 1\n"
     ]
    }
   ],
   "source": [
    "numbers = input().split()\n",
    "for i in range(len(numbers)):\n",
    "    numbers[i] = int(numbers[i])\n",
    "numbers.sort()\n",
    "print(*numbers)\n",
    "numbers.sort(reverse=True)\n",
    "print(*numbers)"
   ]
  },
  {
   "cell_type": "code",
   "execution_count": 5,
   "id": "8d3d2418",
   "metadata": {},
   "outputs": [
    {
     "name": "stdout",
     "output_type": "stream",
     "text": [
      "['alse', 'rue', 'one', 'nd', 'ith', 's', 'ssert', 'reak', 'lass', 'ontinue', 'ef', 'el', 'lif', 'lse', 'xcept', 'inally', 'ry', 'or', 'rom', 'lobal', 'f', 'mport', 'n', 's', 'ambda', 'onlocal', 'ot', 'r', 'ass', 'aise', 'eturn', 'hile', 'ield']\n"
     ]
    }
   ],
   "source": [
    "keywords = ['False', 'True', 'None', 'and', 'with', 'as', 'assert', 'break', 'class', 'continue', 'def', 'del', 'elif', 'else', 'except', 'finally', 'try', 'for', 'from', 'global', 'if', 'import', 'in', 'is', 'lambda', 'nonlocal', 'not', 'or', 'pass', 'raise', 'return', 'while', 'yield']\n",
    "\n",
    "new_keywords = [(m[1:]) for m in keywords]\n",
    "#new_keywords = [word.replace(word[0], \"\", 1) for word in keywords]\n",
    "print(new_keywords)\n",
    "\n"
   ]
  },
  {
   "cell_type": "code",
   "execution_count": null,
   "id": "7d714e4e",
   "metadata": {},
   "outputs": [],
   "source": [
    "keywords = ['False', 'True', 'None', 'and', 'with', 'as', 'assert', 'break', 'class', 'continue', 'def', 'del', 'elif', 'else', 'except', 'finally', 'try', 'for', 'from', 'global', 'if', 'import', 'in', 'is', 'lambda', 'nonlocal', 'not', 'or', 'pass', 'raise', 'return', 'while', 'yield']\n",
    "\n",
    "lengths = [len(m) for m in keywords]\n",
    "\n",
    "print(lengths)"
   ]
  },
  {
   "cell_type": "code",
   "execution_count": null,
   "id": "84606421",
   "metadata": {},
   "outputs": [],
   "source": [
    "keywords = ['False', 'True', 'None', 'and', 'with', 'as', 'assert', 'break', 'class', 'continue', 'def', 'del', 'elif', 'else', 'except', 'finally', 'try', 'for', 'from', 'global', 'if', 'import', 'in', 'is', 'lambda', 'nonlocal', 'not', 'or', 'pass', 'raise', 'return', 'while', 'yield']\n",
    "\n",
    "new_keywords = [m for m in keywords if  len(m) >= 5]\n",
    "\n",
    "print(new_keywords)"
   ]
  },
  {
   "cell_type": "code",
   "execution_count": 17,
   "id": "8ada1593",
   "metadata": {},
   "outputs": [
    {
     "name": "stdout",
     "output_type": "stream",
     "text": [
      "[101, 111, 121, 131, 141, 151, 161, 171, 181, 191, 202, 212, 222, 232, 242, 252, 262, 272, 282, 292, 303, 313, 323, 333, 343, 353, 363, 373, 383, 393, 404, 414, 424, 434, 444, 454, 464, 474, 484, 494, 505, 515, 525, 535, 545, 555, 565, 575, 585, 595, 606, 616, 626, 636, 646, 656, 666, 676, 686, 696, 707, 717, 727, 737, 747, 757, 767, 777, 787, 797, 808, 818, 828, 838, 848, 858, 868, 878, 888, 898, 909, 919, 929, 939, 949, 959, 969, 979, 989, 999]\n"
     ]
    }
   ],
   "source": [
    "palindromes = [m for m in range(100, 1000) if m % 10 == m // 100]\n",
    "print(palindromes)"
   ]
  },
  {
   "cell_type": "code",
   "execution_count": 21,
   "id": "a19bf9a9",
   "metadata": {},
   "outputs": [
    {
     "name": "stdout",
     "output_type": "stream",
     "text": [
      "5\n",
      "1\n",
      "4\n",
      "9\n",
      "16\n",
      "25\n"
     ]
    }
   ],
   "source": [
    "squares = [s ** 2 for s in range(1, int(input()) + 1)]\n",
    "print(*squares, sep = '\\n')"
   ]
  },
  {
   "cell_type": "code",
   "execution_count": 29,
   "id": "61a519e5",
   "metadata": {},
   "outputs": [
    {
     "name": "stdout",
     "output_type": "stream",
     "text": [
      "5 6 9\n",
      "125 216 729 "
     ]
    }
   ],
   "source": [
    "squares = [s for s in input().split()]\n",
    "for i in range(len(squares)):\n",
    "    print(int(squares[i]) ** 3, end = \" \")"
   ]
  },
  {
   "cell_type": "code",
   "execution_count": 5,
   "id": "74d76c99",
   "metadata": {},
   "outputs": [
    {
     "name": "stdout",
     "output_type": "stream",
     "text": [
      "zfd eh beth et \n",
      "zfd\n",
      "eh\n",
      "beth\n",
      "et\n"
     ]
    },
    {
     "data": {
      "text/plain": [
       "[None, None, None, None]"
      ]
     },
     "execution_count": 5,
     "metadata": {},
     "output_type": "execute_result"
    }
   ],
   "source": [
    "[print(w) for w in input().split()]"
   ]
  },
  {
   "cell_type": "code",
   "execution_count": 7,
   "id": "33fb13d3",
   "metadata": {},
   "outputs": [
    {
     "name": "stdout",
     "output_type": "stream",
     "text": [
      "Число Pi примерно равно 3.1415\n",
      "31415"
     ]
    },
    {
     "data": {
      "text/plain": [
       "[None, None, None, None, None]"
      ]
     },
     "execution_count": 7,
     "metadata": {},
     "output_type": "execute_result"
    }
   ],
   "source": [
    "[print(w, end = \"\") for w in input() if w in \"0123456789\"]"
   ]
  },
  {
   "cell_type": "code",
   "execution_count": 12,
   "id": "3e41348e",
   "metadata": {},
   "outputs": [
    {
     "name": "stdout",
     "output_type": "stream",
     "text": [
      "1 2 3 4\n"
     ]
    },
    {
     "ename": "TypeError",
     "evalue": "unsupported operand type(s) for ** or pow(): 'str' and 'int'",
     "output_type": "error",
     "traceback": [
      "\u001b[1;31m---------------------------------------------------------------------------\u001b[0m",
      "\u001b[1;31mTypeError\u001b[0m                                 Traceback (most recent call last)",
      "\u001b[1;32m<ipython-input-12-7ead77e01a96>\u001b[0m in \u001b[0;36m<module>\u001b[1;34m\u001b[0m\n\u001b[1;32m----> 1\u001b[1;33m \u001b[1;33m[\u001b[0m\u001b[0mprint\u001b[0m\u001b[1;33m(\u001b[0m\u001b[0mw\u001b[0m\u001b[1;33m**\u001b[0m\u001b[1;36m2\u001b[0m\u001b[1;33m)\u001b[0m \u001b[1;32mfor\u001b[0m \u001b[0mw\u001b[0m \u001b[1;32min\u001b[0m \u001b[0minput\u001b[0m\u001b[1;33m(\u001b[0m\u001b[1;33m)\u001b[0m\u001b[1;33m.\u001b[0m\u001b[0msplit\u001b[0m\u001b[1;33m(\u001b[0m\u001b[1;33m)\u001b[0m \u001b[1;32mif\u001b[0m \u001b[1;33m(\u001b[0m\u001b[1;33m(\u001b[0m\u001b[1;36m2\u001b[0m \u001b[1;33m%\u001b[0m \u001b[1;36m2\u001b[0m \u001b[1;33m==\u001b[0m \u001b[1;36m0\u001b[0m\u001b[1;33m)\u001b[0m \u001b[1;32mand\u001b[0m \u001b[1;33m(\u001b[0m\u001b[0mw\u001b[0m\u001b[1;33m**\u001b[0m\u001b[1;36m2\u001b[0m \u001b[1;33m%\u001b[0m \u001b[1;36m10\u001b[0m \u001b[1;33m!=\u001b[0m \u001b[1;36m4\u001b[0m\u001b[1;33m)\u001b[0m\u001b[1;33m)\u001b[0m\u001b[1;33m]\u001b[0m\u001b[1;33m\u001b[0m\u001b[1;33m\u001b[0m\u001b[0m\n\u001b[0m",
      "\u001b[1;32m<ipython-input-12-7ead77e01a96>\u001b[0m in \u001b[0;36m<listcomp>\u001b[1;34m(.0)\u001b[0m\n\u001b[1;32m----> 1\u001b[1;33m \u001b[1;33m[\u001b[0m\u001b[0mprint\u001b[0m\u001b[1;33m(\u001b[0m\u001b[0mw\u001b[0m\u001b[1;33m**\u001b[0m\u001b[1;36m2\u001b[0m\u001b[1;33m)\u001b[0m \u001b[1;32mfor\u001b[0m \u001b[0mw\u001b[0m \u001b[1;32min\u001b[0m \u001b[0minput\u001b[0m\u001b[1;33m(\u001b[0m\u001b[1;33m)\u001b[0m\u001b[1;33m.\u001b[0m\u001b[0msplit\u001b[0m\u001b[1;33m(\u001b[0m\u001b[1;33m)\u001b[0m \u001b[1;32mif\u001b[0m \u001b[1;33m(\u001b[0m\u001b[1;33m(\u001b[0m\u001b[1;36m2\u001b[0m \u001b[1;33m%\u001b[0m \u001b[1;36m2\u001b[0m \u001b[1;33m==\u001b[0m \u001b[1;36m0\u001b[0m\u001b[1;33m)\u001b[0m \u001b[1;32mand\u001b[0m \u001b[1;33m(\u001b[0m\u001b[0mw\u001b[0m\u001b[1;33m**\u001b[0m\u001b[1;36m2\u001b[0m \u001b[1;33m%\u001b[0m \u001b[1;36m10\u001b[0m \u001b[1;33m!=\u001b[0m \u001b[1;36m4\u001b[0m\u001b[1;33m)\u001b[0m\u001b[1;33m)\u001b[0m\u001b[1;33m]\u001b[0m\u001b[1;33m\u001b[0m\u001b[1;33m\u001b[0m\u001b[0m\n\u001b[0m",
      "\u001b[1;31mTypeError\u001b[0m: unsupported operand type(s) for ** or pow(): 'str' and 'int'"
     ]
    }
   ],
   "source": [
    "[print(w**2) for w in input().split() if ((2 % 2 == 0) and (w**2 % 10 != 4))]"
   ]
  },
  {
   "cell_type": "code",
   "execution_count": 14,
   "id": "c177697e",
   "metadata": {},
   "outputs": [
    {
     "name": "stdout",
     "output_type": "stream",
     "text": [
      "1 2 3 4 5 6 7 8 9\n",
      "16 36 "
     ]
    },
    {
     "data": {
      "text/plain": [
       "[None, None]"
      ]
     },
     "execution_count": 14,
     "metadata": {},
     "output_type": "execute_result"
    }
   ],
   "source": [
    "[print(int(w)**2, end = \" \") for w in input().split() if ((int(w) % 2 == 0) and (int(w)**2 % 10 != 4))]"
   ]
  },
  {
   "cell_type": "code",
   "execution_count": 8,
   "id": "fbf7450f",
   "metadata": {},
   "outputs": [
    {
     "name": "stdout",
     "output_type": "stream",
     "text": [
      "100\n",
      "[-97, -96, -94, -94, -79, -77, -72, -72, -71, -71, -67, -67, -64, -64, -63, -62, -62, -61, -60, -58, -56, -52, -48, -47, -42, -41, -39, -36, -32, -31, -30, -26, -24, -23, -22, -21, -19, -16, -16, -14, -10, -8, -5, -3, -1, 0, 2, 2, 3, 3, 5, 9, 9, 14, 20, 22, 27, 32, 32, 35, 35, 39, 39, 41, 41, 43, 48, 53, 57, 57, 58, 59, 59, 59, 60, 60, 61, 62, 63, 63, 64, 66, 71, 72, 76, 78, 78, 80, 82, 84, 87, 87, 89, 90, 92, 92, 93, 94, 96, 98]\n",
      "100\n"
     ]
    }
   ],
   "source": [
    "a = [78, -32, 5, 39, 58, -5, -63, 57, 72, 9, 53, -1, 63, -97, -21, -94, -47, 57, -8, 60, -23, -72, -22, -79, 90, 96, -41, -71, -48, 84, 89, -96, 41, -16, 94, -60, -64, -39, 60, -14, -62, -19, -3, 32, 98, 14, 43, 3, -56, 71, -71, -67, 80, 27, 92, 92, -64, 0, -77, 2, -26, 41, 3, -31, 48, 39, 20, -30, 35, 32, -58, 2, 63, 64, 66, 62, 82, -62, 9, -52, 35, -61, 87, 78, 93, -42, 87, -72, -10, -36, 61, -16, 59, 59, 22, -24, -67, 76, -94, 59]\n",
    "n = []\n",
    "for i in range(len(a)):\n",
    "    n.append(min(a))\n",
    "    a.pop(a.index(min(a)))\n",
    "print(n)\n",
    "\n",
    "#print([a.pop(a.index(min(a))) for i in range(len(a))])"
   ]
  },
  {
   "cell_type": "code",
   "execution_count": 9,
   "id": "d4fb4e9c",
   "metadata": {},
   "outputs": [
    {
     "name": "stdout",
     "output_type": "stream",
     "text": [
      "[0, 1, 2]\n"
     ]
    }
   ],
   "source": [
    "numbers = list(range(3))\n",
    "print(numbers)"
   ]
  },
  {
   "cell_type": "code",
   "execution_count": 10,
   "id": "caefa7e0",
   "metadata": {},
   "outputs": [
    {
     "name": "stdout",
     "output_type": "stream",
     "text": [
      "[10, 10, 10, 10, 10]\n"
     ]
    }
   ],
   "source": [
    "numbers = [10] * 5\n",
    "print(numbers)"
   ]
  },
  {
   "cell_type": "code",
   "execution_count": 11,
   "id": "a6c07d4b",
   "metadata": {},
   "outputs": [
    {
     "name": "stdout",
     "output_type": "stream",
     "text": [
      "1*3*5*7*9*"
     ]
    }
   ],
   "source": [
    "numbers = list(range(1, 10, 2))\n",
    "for i in numbers:\n",
    "    print(i, end='*')"
   ]
  },
  {
   "cell_type": "code",
   "execution_count": 12,
   "id": "a52b15a2",
   "metadata": {},
   "outputs": [
    {
     "name": "stdout",
     "output_type": "stream",
     "text": [
      "4\n"
     ]
    }
   ],
   "source": [
    "numbers = [1, 2, 3, 4, 5]\n",
    "print(numbers[-2])"
   ]
  },
  {
   "cell_type": "code",
   "execution_count": 13,
   "id": "877630ea",
   "metadata": {},
   "outputs": [
    {
     "name": "stdout",
     "output_type": "stream",
     "text": [
      "[1, 2, 3, 10, 20, 30]\n"
     ]
    }
   ],
   "source": [
    "numbers1 = [1, 2, 3]\n",
    "numbers2 = [10, 20, 30]\n",
    "numbers3 = numbers1 + numbers2\n",
    "print(numbers3)"
   ]
  },
  {
   "cell_type": "code",
   "execution_count": 14,
   "id": "c14362bb",
   "metadata": {},
   "outputs": [
    {
     "name": "stdout",
     "output_type": "stream",
     "text": [
      "[2, 3]\n"
     ]
    }
   ],
   "source": [
    "numbers = [1, 2, 3, 4, 5]\n",
    "my_list = numbers[1:3]\n",
    "print(my_list)"
   ]
  },
  {
   "cell_type": "code",
   "execution_count": 15,
   "id": "b0ae0661",
   "metadata": {},
   "outputs": [
    {
     "name": "stdout",
     "output_type": "stream",
     "text": [
      "[1, 2, 3, 4]\n"
     ]
    }
   ],
   "source": [
    "numbers = [1, 2, 3, 4, 5]\n",
    "my_list = numbers[:-1]\n",
    "print(my_list)"
   ]
  },
  {
   "cell_type": "code",
   "execution_count": 16,
   "id": "a7895a74",
   "metadata": {},
   "outputs": [
    {
     "name": "stdout",
     "output_type": "stream",
     "text": [
      "Ceмья Джасмин: ['Джим', 'Джилл', 'Джон', 'Джасмин']\n"
     ]
    }
   ],
   "source": [
    "names = ['Джим', 'Джилл', 'Джон', 'Джасмин']\n",
    "if 'Джасмин' not in names:\n",
    "    print ('Не могу найти Джасмин.')\n",
    "else:\n",
    "    print('Ceмья Джасмин: ', end='')\n",
    "    print(names)"
   ]
  },
  {
   "cell_type": "code",
   "execution_count": 24,
   "id": "91f7488c",
   "metadata": {},
   "outputs": [
    {
     "name": "stdout",
     "output_type": "stream",
     "text": [
      "15\n",
      "[2, 4, 6, 8, 10, 12, 14]\n"
     ]
    }
   ],
   "source": [
    "a = int(input())\n",
    "b = []\n",
    "for i in range(1, a + 1):\n",
    "    if i % 2 == 0:\n",
    "        b.append(i)\n",
    "print(b)"
   ]
  },
  {
   "cell_type": "code",
   "execution_count": 30,
   "id": "dfdeed23",
   "metadata": {},
   "outputs": [
    {
     "name": "stdout",
     "output_type": "stream",
     "text": [
      "4 5 6\n",
      "1 2 3\n",
      "5 7 9 "
     ]
    }
   ],
   "source": [
    "l , m = input().split(\" \"), input().split(\" \")\n",
    "k = []\n",
    "for i in range(len(l)):\n",
    "    l[i] = int(l[i])\n",
    "    m[i] = int(m[i])\n",
    "    \n",
    "for i in range(len(l)):\n",
    "    k.append((l[i]) + (m[i]))\n",
    "print(*k, end = \" \")"
   ]
  },
  {
   "cell_type": "code",
   "execution_count": 48,
   "id": "13f275e4",
   "metadata": {},
   "outputs": [
    {
     "name": "stdout",
     "output_type": "stream",
     "text": [
      "2 5 11 33 55\n",
      "106\n",
      "2+5+11+33+55=106"
     ]
    }
   ],
   "source": [
    "a = input()\n",
    "b = a.split(\" \")\n",
    "summ = 0\n",
    "for i in range(len(b)):\n",
    "    b[i] = int(b[i])\n",
    "    summ += b[i]\n",
    "print(a.replace(\" \", \"+\"), end = \"=\"+str(summ))\n",
    "\n",
    "\n",
    "#l = input().split()\n",
    "#print('+'.join(l)+'='+str(sum(c for c in [int(i) for i in l])))\n",
    "\n",
    "#n = [int(i) for i in input().split()]\n",
    "#print(*n, sep='+', end='=')\n",
    "#print(sum(n))\n",
    "    "
   ]
  },
  {
   "cell_type": "code",
   "execution_count": 67,
   "id": "52549d82",
   "metadata": {},
   "outputs": [
    {
     "name": "stdout",
     "output_type": "stream",
     "text": [
      "7-301-447-5820\n",
      "YES\n"
     ]
    }
   ],
   "source": [
    "b = input()\n",
    "a = b\n",
    "a = a.split(\"-\")\n",
    "if b.replace(\"-\", \"\").isdigit():\n",
    "    if len(a) == 4 and a[0] == \"7\":\n",
    "        if ((len(a[1]) == len(a[2])) and len(a[3]) == 4):\n",
    "            print(\"YES\")\n",
    "        else:\n",
    "            print(\"NO\")    \n",
    "    elif len(a) == 3:\n",
    "        if ((len(a[0]) == len(a[1])) and len(a[2]) == 4):\n",
    "            print(\"YES\")\n",
    "        else:\n",
    "            print(\"NO\")    \n",
    "    else:\n",
    "        print(\"NO\")\n",
    "else:\n",
    "    print(\"NO\")\n",
    "    \n",
    "    "
   ]
  },
  {
   "cell_type": "code",
   "execution_count": null,
   "id": "5de7a23d",
   "metadata": {},
   "outputs": [],
   "source": [
    "n = input().split(\"-\")\n",
    "c = [len(i) for i in n] \n",
    "if c == [3, 3, 4] and ''.join(n).isdigit(): \n",
    "    print(\"YES\")\n",
    "elif c == [1, 3, 3, 4] and ''.join(n).isdigit() and n[0] == '7': \n",
    "    print(\"YES\")\n",
    "else:\n",
    "    print(\"NO\")"
   ]
  },
  {
   "cell_type": "code",
   "execution_count": null,
   "id": "62f183a8",
   "metadata": {},
   "outputs": [],
   "source": [
    "num = [i for i in input().split('-') if i.isdigit()]\n",
    "length = [len(_) for _ in num]\n",
    "if (length == [1, 3, 3, 4] and num[0] == '7') or length == [3, 3, 4]:\n",
    "    print('YES')\n",
    "else:\n",
    "    print('NO')"
   ]
  },
  {
   "cell_type": "code",
   "execution_count": 71,
   "id": "edae9d4e",
   "metadata": {},
   "outputs": [
    {
     "name": "stdout",
     "output_type": "stream",
     "text": [
      "проспал почти всю ночь\n",
      "7\n"
     ]
    }
   ],
   "source": [
    "print(max([len(i) for i in input().split(\" \")]))"
   ]
  },
  {
   "cell_type": "code",
   "execution_count": 91,
   "id": "e2a39356",
   "metadata": {},
   "outputs": [
    {
     "name": "stdout",
     "output_type": "stream",
     "text": [
      "проспал почти всю ночь\n",
      "роспалпки очтипки сювки очьнки "
     ]
    },
    {
     "data": {
      "text/plain": [
       "[None, None, None, None]"
      ]
     },
     "execution_count": 91,
     "metadata": {},
     "output_type": "execute_result"
    }
   ],
   "source": [
    "[print(i[1:] + i[0] + \"ки\", end = \" \") for i in input().split(\" \")]\n"
   ]
  },
  {
   "cell_type": "code",
   "execution_count": 5,
   "id": "d81b35a8",
   "metadata": {},
   "outputs": [
    {
     "name": "stdout",
     "output_type": "stream",
     "text": [
      "**********\n",
      "*        *\n",
      "*        *\n",
      "*        *\n",
      "*        *\n",
      "*        *\n",
      "*        *\n",
      "*        *\n",
      "*        *\n",
      "*        *\n",
      "*        *\n",
      "*        *\n",
      "*        *\n",
      "**********\n"
     ]
    }
   ],
   "source": [
    "def noob():\n",
    "    print(\"**********\")\n",
    "    for i in range(12):\n",
    "        print(\"*        *\")\n",
    "    print(\"**********\")\n",
    "noob()"
   ]
  },
  {
   "cell_type": "code",
   "execution_count": 7,
   "id": "4737abe2",
   "metadata": {},
   "outputs": [
    {
     "name": "stdout",
     "output_type": "stream",
     "text": [
      "*\n",
      "**\n",
      "***\n",
      "****\n",
      "*****\n",
      "******\n",
      "*******\n",
      "********\n",
      "*********\n",
      "**********\n"
     ]
    }
   ],
   "source": [
    "def draw_triangle():\n",
    "    for i in range(1, 11):\n",
    "        print(\"*\" * i)\n",
    "draw_triangle()\n"
   ]
  },
  {
   "cell_type": "code",
   "execution_count": 1,
   "id": "ecb99d60",
   "metadata": {},
   "outputs": [
    {
     "name": "stdout",
     "output_type": "stream",
     "text": [
      "4\n"
     ]
    }
   ],
   "source": [
    "def print_number(a, b, c):\n",
    "    d = (a + c) // b\n",
    "    print(d)\n",
    "print_number(2, 3, 11)"
   ]
  },
  {
   "cell_type": "code",
   "execution_count": 5,
   "id": "66b995ec",
   "metadata": {},
   "outputs": [
    {
     "name": "stdout",
     "output_type": "stream",
     "text": [
      "-\n",
      "5\n",
      "-\n",
      "--\n",
      "---\n",
      "--\n",
      "-\n",
      "\n"
     ]
    }
   ],
   "source": [
    "fill = input()\n",
    "base = int(input())\n",
    "def draw_triangle(fill, base):\n",
    "    fst_part = (base // 2) + 1\n",
    "    sec_part = (base // 2) - 1\n",
    "    for i in range(1, fst_part + 1):\n",
    "        print(fill * i)\n",
    "    for i in range(fst_part, base + 1):\n",
    "        print(fill * (base - i))\n",
    "draw_triangle(fill, base)\n",
    "\n",
    "\n",
    "#def draw_triangle(fill, base):\n",
    "#    for i in range(1, base + 1):\n",
    "#        print(fill * min(i, base - i + 1))"
   ]
  },
  {
   "cell_type": "code",
   "execution_count": 8,
   "id": "31635e1e",
   "metadata": {},
   "outputs": [
    {
     "name": "stdout",
     "output_type": "stream",
     "text": [
      "sdgsg whtrhttrh kyumkhj\n",
      "cfnfgn\n",
      "uk,i,\n"
     ]
    }
   ],
   "source": [
    "name, surname, patronymic = input().upper(), input().upper(), input().upper()\n",
    "def print_fio(name, surname, patronymic):\n",
    "    print(surname[0] + name[0] + patronymic[0])\n"
   ]
  },
  {
   "cell_type": "code",
   "execution_count": 15,
   "id": "26e199c3",
   "metadata": {},
   "outputs": [
    {
     "name": "stdout",
     "output_type": "stream",
     "text": [
      "21\n"
     ]
    }
   ],
   "source": [
    "def print_digit_sum(num):\n",
    "    b = 0\n",
    "    for i in str(num):\n",
    "        b += int(i)\n",
    "    print(b)\n",
    "n = int(input())\n",
    "print_digit_sum(n)\n"
   ]
  },
  {
   "cell_type": "code",
   "execution_count": null,
   "id": "fce52d0c",
   "metadata": {},
   "outputs": [],
   "source": [
    "# основная программа\n",
    "temp = float(input('Bвeдитe количество градусов по Фаренгейту: '))\n",
    "celsius = convert_to_celsius(temp)\n",
    "print(celsius)  # градусы Цельсия\n"
   ]
  },
  {
   "cell_type": "code",
   "execution_count": null,
   "id": "16125767",
   "metadata": {},
   "outputs": [],
   "source": [
    "def compute_hypotenuse(a, b):\n",
    "    c = (a ** 2 + b ** 2) ** 0.5\n",
    "    return c"
   ]
  },
  {
   "cell_type": "code",
   "execution_count": 5,
   "id": "4e8bec60",
   "metadata": {},
   "outputs": [
    {
     "name": "stdout",
     "output_type": "stream",
     "text": [
      "3\n",
      "31\n"
     ]
    }
   ],
   "source": [
    "# объявление функции\n",
    "def get_days(month):\n",
    "    if month == 2:\n",
    "        res = 28\n",
    "    elif month in [4,6,9,11]:\n",
    "        res = 30\n",
    "    else: res = 31\n",
    "    return res\n",
    "    #return (28 if month == 2 else 30 if month in [4, 6, 9, 11] else 31)\n",
    "\n",
    "# считываем данные\n",
    "num = int(input())\n",
    "\n",
    "# вызываем функцию\n",
    "print(get_days(num))"
   ]
  },
  {
   "cell_type": "code",
   "execution_count": 12,
   "id": "83c18598",
   "metadata": {},
   "outputs": [
    {
     "name": "stdout",
     "output_type": "stream",
     "text": [
      "1\n",
      "[1]\n"
     ]
    }
   ],
   "source": [
    "# объявление функции\n",
    "def get_factors(num):\n",
    "    a = []\n",
    "    for i in range(1, num + 1):\n",
    "        if num % i == 0:\n",
    "            a.append(i)\n",
    "    return a\n",
    "        #return [n for n in range(1, num + 1) if num % n == 0]\n",
    "\n",
    "# считываем данные\n",
    "n = int(input())\n",
    "\n",
    "# вызываем функцию\n",
    "print(get_factors(n))\n"
   ]
  },
  {
   "cell_type": "code",
   "execution_count": 13,
   "id": "811ff242",
   "metadata": {},
   "outputs": [
    {
     "name": "stdout",
     "output_type": "stream",
     "text": [
      "55\n",
      "4\n"
     ]
    }
   ],
   "source": [
    "# объявление функции\n",
    "def get_factors(num):\n",
    "    a = 0\n",
    "    for i in range(1, num + 1):\n",
    "        if num % i == 0:\n",
    "            a += 1\n",
    "    return a\n",
    "        #return [n for n in range(1, num + 1) if num % n == 0]\n",
    "\n",
    "# считываем данные\n",
    "n = int(input())\n",
    "\n",
    "# вызываем функцию\n",
    "print(get_factors(n))\n"
   ]
  },
  {
   "cell_type": "code",
   "execution_count": 16,
   "id": "597391b3",
   "metadata": {},
   "outputs": [
    {
     "name": "stdout",
     "output_type": "stream",
     "text": [
      "abcdabcaaa\n",
      "d\n",
      "[3]\n"
     ]
    }
   ],
   "source": [
    "# объявление функции\n",
    "def find_all(target, symbol):\n",
    "    a = []\n",
    "    for i in range(len(target)):\n",
    "        if target[i] == symbol:\n",
    "            a.append(i)\n",
    "    return a\n",
    "\n",
    "# считываем данные\n",
    "s = input()\n",
    "char = input()\n",
    "\n",
    "# вызываем функцию\n",
    "print(find_all(s, char))\n"
   ]
  },
  {
   "cell_type": "code",
   "execution_count": 30,
   "id": "a9525dbb",
   "metadata": {},
   "outputs": [
    {
     "name": "stdout",
     "output_type": "stream",
     "text": [
      "1 2 9\n",
      "4 5 6\n",
      "[1, 2, 4, 5, 6, 9]\n"
     ]
    }
   ],
   "source": [
    "# объявление функции\n",
    "def merge(list1, list2):\n",
    "    (list1.extend(list2))\n",
    "    list1.sort()\n",
    "    return list1\n",
    "\n",
    "# считываем данные\n",
    "numbers1 = [int(c) for c in input().split()]\n",
    "numbers2 = [int(c) for c in input().split()]\n",
    "\n",
    "# вызываем функцию\n",
    "print(merge(numbers1, numbers2))\n"
   ]
  },
  {
   "cell_type": "code",
   "execution_count": 55,
   "id": "0a3c836a",
   "metadata": {},
   "outputs": [
    {
     "name": "stdout",
     "output_type": "stream",
     "text": [
      "2\n",
      "2 3 9 8 7 88\n",
      "5 6 33\n",
      "[2, 3, 5, 6, 7, 8, 9, 33, 88]\n"
     ]
    }
   ],
   "source": [
    "def quick_merge(list1, list2):\n",
    "    result = []\n",
    "\n",
    "    p1 = 0  # указатель на первый элемент списка list1\n",
    "    p2 = 0  # указатель на первый элемент списка list2\n",
    "\n",
    "    while p1 < len(list1) and p2 < len(list2):  # пока не закончился хотя бы один список\n",
    "        if list1[p1] <= list2[p2]:\n",
    "            result.append(list1[p1])\n",
    "            p1 += 1\n",
    "        else:\n",
    "            result.append(list2[p2])\n",
    "            p2 += 1\n",
    "\n",
    "    if p1 < len(list1):   # прицепление остатка\n",
    "        result += list1[p1:]\n",
    "    if p2 < len(list2):\n",
    "        result += list2[p2:]\n",
    "    \n",
    "    return result\n",
    "\n",
    "\n",
    "\n",
    "a = []\n",
    "\n",
    "n = int(input())\n",
    "\n",
    "for i in range(n):\n",
    "    numbers = input().split()\n",
    "    for i in range(len(numbers)):\n",
    "        numbers[i] = int(numbers[i])\n",
    "    a.extend(numbers)\n",
    "a.sort()\n",
    "print(*a, end = \" \")\n"
   ]
  },
  {
   "cell_type": "code",
   "execution_count": null,
   "id": "3ebbfd53",
   "metadata": {},
   "outputs": [],
   "source": [
    "numbers = input().split()\n",
    "for i in range(len(numbers)):\n",
    "    numbers[i] = int(numbers[i])"
   ]
  },
  {
   "cell_type": "code",
   "execution_count": null,
   "id": "1b571be6",
   "metadata": {},
   "outputs": [],
   "source": [
    "def quick_merge(list1, list2):\n",
    "    result = []\n",
    "    p1 = 0  # указатель на первый элемент списка list1\n",
    "    p2 = 0  # указатель на первый элемент списка list2\n",
    "    while p1 < len(list1) and p2 < len(list2):  # пока не закончился хотя бы один список\n",
    "        if list1[p1] <= list2[p2]:\n",
    "            result.append(list1[p1])\n",
    "            p1 += 1\n",
    "        else:\n",
    "            result.append(list2[p2])\n",
    "            p2 += 1\n",
    "    if p1 < len(list1):   # прицепление остатка\n",
    "        result += list1[p1:]\n",
    "    if p2 < len(list2):\n",
    "        result += list2[p2:]\n",
    "    return result\n",
    "\n",
    "n = int(input())\n",
    "numbers1 = [int(c) for c in input().split()]\n",
    "for _ in range(1, n):\n",
    "    numbers1 = quick_merge(numbers1, [int(c) for c in input().split()])\n",
    "print(*numbers1)"
   ]
  },
  {
   "cell_type": "code",
   "execution_count": null,
   "id": "9fd49559",
   "metadata": {},
   "outputs": [],
   "source": [
    "n=int(input())\n",
    "def quick_merge(n):\n",
    "    return sorted([int(i) for i in range(n) for i in input().split()])\n",
    "print(*quick_merge(n))    "
   ]
  },
  {
   "cell_type": "code",
   "execution_count": 59,
   "id": "a5cfb9d8",
   "metadata": {},
   "outputs": [
    {
     "name": "stdout",
     "output_type": "stream",
     "text": [
      "50\n",
      "Допустимыми номерами моделей являются 100, 200 и 300.\n",
      "150\n",
      "Допустимыми номерами моделей являются 100, 200 и 300.\n",
      "100\n"
     ]
    }
   ],
   "source": [
    "def is_invalid(model):\n",
    "    if model != 100 and model != 200 and model != 300:\n",
    "        return True\n",
    "    else:\n",
    "        return False\n",
    "model = int(input())\n",
    "while is_invalid(model):\n",
    "    print('Допустимыми номерами моделей являются 100, 200 и 300.')\n",
    "    model = int(input())"
   ]
  },
  {
   "cell_type": "code",
   "execution_count": 62,
   "id": "d3eb40fa",
   "metadata": {},
   "outputs": [
    {
     "name": "stdout",
     "output_type": "stream",
     "text": [
      "2\n",
      "3\n",
      "10\n",
      "False\n"
     ]
    }
   ],
   "source": [
    "# объявление функции\n",
    "def is_valid_triangle(s1, s2, s3):\n",
    "    if (s1 < s2 + s3) and (s2 < s1 + s3) and (s3 < s1 + s2):\n",
    "        return True\n",
    "    else:\n",
    "        return False\n",
    "\n",
    "# считываем данные\n",
    "a, b, c = int(input()), int(input()), int(input())\n",
    "\n",
    "# вызываем функцию\n",
    "print(is_valid_triangle(a, b, c))\n"
   ]
  },
  {
   "cell_type": "code",
   "execution_count": 64,
   "id": "b4a79c35",
   "metadata": {},
   "outputs": [
    {
     "name": "stdout",
     "output_type": "stream",
     "text": [
      "10\n",
      "False\n"
     ]
    }
   ],
   "source": [
    "# объявление функции\n",
    "def is_prime(num):\n",
    "    count = 0\n",
    "    for i in range (1, num + 1):\n",
    "        if num % i == 0:\n",
    "            count += 1\n",
    "    if count == 2:\n",
    "        return True\n",
    "    else: return False\n",
    "\n",
    "# считываем данные\n",
    "n = int(input())\n",
    "\n",
    "# вызываем функцию\n",
    "print(is_prime(n))\n"
   ]
  },
  {
   "cell_type": "code",
   "execution_count": 4,
   "id": "d4c76983",
   "metadata": {},
   "outputs": [
    {
     "name": "stdout",
     "output_type": "stream",
     "text": [
      "7\n",
      "7\n"
     ]
    }
   ],
   "source": [
    "def is_prime(num):\n",
    "    count = 0\n",
    "    for i in range (1, num + 1):\n",
    "        if num % i == 0:\n",
    "            count += 1\n",
    "    if count == 2:\n",
    "        return True\n",
    "    else: return False\n",
    "    \n",
    "# объявление функции\n",
    "\n",
    "def get_next_prime(num):\n",
    "    while not is_prime(num):\n",
    "        num += 1\n",
    "    return num\n",
    "\n",
    "# считываем данные\n",
    "n = int(input())\n",
    "\n",
    "# вызываем функцию\n",
    "print(get_next_prime(n))"
   ]
  },
  {
   "cell_type": "code",
   "execution_count": 8,
   "id": "c22a674a",
   "metadata": {},
   "outputs": [
    {
     "name": "stdout",
     "output_type": "stream",
     "text": [
      "aabbCC11OP\n",
      "True\n"
     ]
    }
   ],
   "source": [
    "# объявление функции\n",
    "def is_password_good(password):\n",
    "    if ((password.isalnum()) and (password != password.lower()) \n",
    "        and (password != password.upper()) and (len(password) >= 8) and not password.isdigit()\n",
    "        and not password.isalpha()):\n",
    "        return True\n",
    "    else: return False\n",
    "\n",
    "# считываем данные\n",
    "txt = input()\n",
    "\n",
    "# вызываем функцию\n",
    "print(is_password_good(txt))\n"
   ]
  },
  {
   "cell_type": "code",
   "execution_count": 15,
   "id": "8665e4fa",
   "metadata": {},
   "outputs": [
    {
     "name": "stdout",
     "output_type": "stream",
     "text": [
      "asd\n",
      "ase\n",
      "True\n"
     ]
    }
   ],
   "source": [
    "# объявление функции\n",
    "def is_one_away(word1, word2):\n",
    "    count = 0\n",
    "    if len(word1) == len(word2):\n",
    "        for i in range(len(word1)):\n",
    "            if word1[i] != word2[i]:\n",
    "                count += 1\n",
    "    if count == 1:\n",
    "        return True\n",
    "    else: return False\n",
    "    #return (len([i for i in word1 if i not in word2]) == 1 or len([i for i in word2 if i not in word1]) == 1) and len(word1) == len(word2)\n",
    "# считываем данные\n",
    "txt1 = input()\n",
    "txt2 = input()\n",
    "\n",
    "# вызываем функцию\n",
    "print(is_one_away(txt1, txt2))\n"
   ]
  },
  {
   "cell_type": "code",
   "execution_count": 31,
   "id": "de80ceba",
   "metadata": {},
   "outputs": [
    {
     "name": "stdout",
     "output_type": "stream",
     "text": [
      "А роза упала на лапу Азора.\n",
      "True\n"
     ]
    }
   ],
   "source": [
    "# объявление функции\n",
    "def is_palindrome(text):\n",
    "    a = \"\"\n",
    "    for i in text:\n",
    "        if i not in '.,!?- ':\n",
    "            a += i\n",
    "#   , . ! ? -\n",
    "    \n",
    "    return (a.lower() == a[::-1].lower())\n",
    "#  А роза упала на лапу Азора.\n",
    "# считываем данные\n",
    "txt = input()\n",
    "\n",
    "# вызываем функцию\n",
    "print(is_palindrome(txt))\n"
   ]
  },
  {
   "cell_type": "code",
   "execution_count": 43,
   "id": "3f3dbd21",
   "metadata": {},
   "outputs": [
    {
     "name": "stdout",
     "output_type": "stream",
     "text": [
      "1221:101:22\n",
      "3\n",
      "True\n"
     ]
    }
   ],
   "source": [
    "def is_prime(num):\n",
    "    count = 0\n",
    "    num = int(num)\n",
    "    for i in range (1, num + 1):\n",
    "        if num % i == 0:\n",
    "            count += 1\n",
    "    if count == 2:\n",
    "        return True\n",
    "    else: return False\n",
    "\n",
    "def is_palindrome(text):\n",
    "    a = \"\"\n",
    "    for i in text:\n",
    "            a += i\n",
    "    return a == a[::-1]\n",
    "\n",
    "def is_even(number):\n",
    "    number = int(number)\n",
    "    if number % 2 == 0:\n",
    "        return True\n",
    "    else:\n",
    "        return False\n",
    "    \n",
    "def is_pass(a, b, c):\n",
    "    \n",
    "    if is_palindrome(a) and is_prime(b) and is_even(c):\n",
    "        return True\n",
    "    else:\n",
    "        return False\n",
    "#1221:101:22\n",
    "pas = input().split(\":\")\n",
    "if len(pas) == 3:\n",
    "    print(is_pass(pas[0], pas[1], pas[2]))\n",
    "else: print(False)\n",
    "    "
   ]
  },
  {
   "cell_type": "code",
   "execution_count": null,
   "id": "4f947e14",
   "metadata": {},
   "outputs": [],
   "source": []
  },
  {
   "cell_type": "code",
   "execution_count": 20,
   "id": "f101f946",
   "metadata": {},
   "outputs": [
    {
     "name": "stdout",
     "output_type": "stream",
     "text": [
      "())(()\n",
      "False\n"
     ]
    }
   ],
   "source": [
    "def is_correct_bracket(tex):\n",
    "    counta = 0\n",
    "    countb = 0\n",
    "    for i in tex:\n",
    "        if countb > counta:\n",
    "            return False\n",
    "        elif i == \"(\":\n",
    "            counta += 1\n",
    "        elif i == \")\":\n",
    "            countb += 1\n",
    "        elif countb > counta:\n",
    "            return False\n",
    "            \n",
    "            \n",
    "    if tex[0] == \")\" or tex[len(tex) - 1] == \"(\" or counta != countb:\n",
    "        return False\n",
    "    else:\n",
    "        return True\n",
    "\n",
    "    # считываем данные\n",
    "\n",
    "\n",
    "txt = input()\n",
    "\n",
    "# вызываем функцию\n",
    "print(is_correct_bracket(txt))\n"
   ]
  },
  {
   "cell_type": "code",
   "execution_count": 36,
   "id": "a8ea3418",
   "metadata": {},
   "outputs": [
    {
     "name": "stdout",
     "output_type": "stream",
     "text": [
      "ThisIsCamelCased\n",
      "['T', 'h', 'i', 's', 'I', 's', 'C', 'a', 'm', 'e', 'l', 'C', 'a', 's', 'e', 'd']\n"
     ]
    }
   ],
   "source": [
    "# объявление функции\n",
    "#ThisIsCamelCased\n",
    "def convert_to_python_case(tex):\n",
    "    tex = list(tex)\n",
    "    newtex = []\n",
    "    for i in range(len(tex)):\n",
    "        if tex[i] == tex[i].upper() and i > 0 and not str(tex[i]).isnumeric():\n",
    "            newtex.append(\"_\")\n",
    "            newtex.append(tex[i])\n",
    "        else:\n",
    "            newtex.append(tex[i])\n",
    "    nt = \"\"\n",
    "    for i in newtex:\n",
    "        nt += str(i)\n",
    "    return nt.lower()\n",
    "\n",
    "# считываем данные\n",
    "txt = input()\n",
    "\n",
    "# вызываем функцию\n",
    "print(convert_to_python_case(txt))\n"
   ]
  },
  {
   "cell_type": "code",
   "execution_count": null,
   "id": "8ba1d1eb",
   "metadata": {},
   "outputs": [],
   "source": [
    "# объявление функции\n",
    "def convert_to_python_case(text):\n",
    "    return ''.join(['_' + i if i.isupper() else i for i in text]).lstrip('_').lower()\n",
    "\n",
    "# считываем данные\n",
    "txt = input()\n",
    "\n",
    "# вызываем функцию\n",
    "print(convert_to_python_case(txt))"
   ]
  },
  {
   "cell_type": "code",
   "execution_count": 39,
   "id": "0b3b52e9",
   "metadata": {},
   "outputs": [
    {
     "name": "stdout",
     "output_type": "stream",
     "text": [
      "1\n",
      "5\n",
      "8\n",
      "3\n",
      "4.5 4.0\n"
     ]
    }
   ],
   "source": [
    "# объявление функции\n",
    "def get_middle_point(x1, y1, x2, y2):\n",
    "    return ((x1 + x2) / 2), ((y1 + y2) / 2)\n",
    "\n",
    "# считываем данные\n",
    "x_1, y_1 = int(input()), int(input())\n",
    "x_2, y_2 = int(input()), int(input())\n",
    "\n",
    "# вызываем функцию\n",
    "x, y = get_middle_point(x_1, y_1, x_2, y_2)\n",
    "print(x, y)\n"
   ]
  },
  {
   "cell_type": "code",
   "execution_count": 42,
   "id": "e23daf2f",
   "metadata": {},
   "outputs": [
    {
     "name": "stdout",
     "output_type": "stream",
     "text": [
      "15\n",
      "94.24777960769379 706.8583470577034\n"
     ]
    }
   ],
   "source": [
    "# объявление функции\n",
    "from math import pi\n",
    "def get_circle(radius):\n",
    "    return 2 * pi * r, pi * r * r\n",
    "\n",
    "# считываем данные\n",
    "r = float(input())\n",
    "\n",
    "# вызываем функцию\n",
    "length, square = get_circle(r)\n",
    "print(length, square)\n"
   ]
  },
  {
   "cell_type": "code",
   "execution_count": null,
   "id": "f8408903",
   "metadata": {},
   "outputs": [],
   "source": [
    "# объявление функции\n",
    "def solve(a, b, c):\n",
    "    from math import sqrt\n",
    "a = float(input())\n",
    "b = float(input())\n",
    "c = float(input())\n",
    "d = b**2 - (4 * a * c)\n",
    "if (d > 0):\n",
    "    x1 = (((- b) - sqrt(b**2 - (4 * a * c))) / (2 * a))\n",
    "    x2 = (((- b) + sqrt(b**2 - (4 * a * c))) / (2 * a))\n",
    "    print(min(x1, x2))\n",
    "    print(max(x1, x2))\n",
    "elif (d == 0):\n",
    "    print((- b) / (2 * a))\n",
    "else:\n",
    "    print(\"Нет корней\")\n",
    "\n",
    "\n",
    "# считываем данные\n",
    "a, b, c = int(input()), int(input()), int(input())\n",
    "\n",
    "# вызываем функцию\n",
    "x1, x2 = solve(a, b, c)\n",
    "print(x1, x2)\n"
   ]
  },
  {
   "cell_type": "code",
   "execution_count": 4,
   "id": "4d2ebebc",
   "metadata": {},
   "outputs": [
    {
     "name": "stdout",
     "output_type": "stream",
     "text": [
      "       *\n",
      "      ***\n",
      "     *****\n",
      "    *******\n",
      "   *********\n",
      "  ***********\n",
      " *************\n",
      "***************\n"
     ]
    }
   ],
   "source": [
    "# объявление функции\n",
    "def draw_triangle():\n",
    "    a = 8\n",
    "    b = 8\n",
    "    for i in range(8):\n",
    "        print(' ' * (a - 1 - i) + '*' * (1 + i * 2))\n",
    "    return\n",
    "\n",
    "# основная программа\n",
    "draw_triangle()  # вызов функции"
   ]
  },
  {
   "cell_type": "code",
   "execution_count": 5,
   "id": "147ef1c1",
   "metadata": {},
   "outputs": [
    {
     "name": "stdout",
     "output_type": "stream",
     "text": [
      "3\n",
      "1240\n"
     ]
    }
   ],
   "source": [
    "# объявление функции\n",
    "def get_shipping_cost(quantity):\n",
    "    n = quantity\n",
    "    summ = 0\n",
    "    for i in range (1 , n):\n",
    "        summ += 120\n",
    "    return summ + 1000\n",
    "\n",
    "# считываем данные\n",
    "n = int(input())\n",
    "\n",
    "# вызываем функцию\n",
    "print(get_shipping_cost(n))\n"
   ]
  },
  {
   "cell_type": "code",
   "execution_count": 10,
   "id": "a8dfca95",
   "metadata": {},
   "outputs": [
    {
     "name": "stdout",
     "output_type": "stream",
     "text": [
      "8\n",
      "5\n",
      "56\n"
     ]
    }
   ],
   "source": [
    "# объявление функции\n",
    "import math\n",
    "def compute_binom(n, k):\n",
    "    return int (math.factorial(n) / (math.factorial(k) * math.factorial(n - k)))\n",
    "\n",
    "# считываем данные\n",
    "n = int(input())\n",
    "k = int(input())\n",
    "\n",
    "# вызываем функцию\n",
    "print(compute_binom(n, k))\n"
   ]
  },
  {
   "cell_type": "code",
   "execution_count": 18,
   "id": "8ebf963d",
   "metadata": {},
   "outputs": [
    {
     "name": "stdout",
     "output_type": "stream",
     "text": [
      "55\n",
      "пятьдесят пять\n"
     ]
    }
   ],
   "source": [
    "# объявление функции\n",
    "def number_to_words(num):\n",
    "    zero_to_ninety_nine = ['ноль', 'один', 'два', 'три', 'четыре', 'пять', 'шесть', 'семь', 'восемь', 'девять', 'десять', 'одиннадцать', 'двенадцать', 'тринадцать', 'четырнадцать', 'пятнадцать', 'шестнадцать', 'семнадцать', 'восемнадцать', 'девятнадцать', 'двадцать', 'двадцать один', 'двадцать два', 'двадцать три', 'двадцать четыре', 'двадцать пять', 'двадцать шесть', 'двадцать семь', 'двадцать восемь', 'двадцать девять', 'тридцать', 'тридцать один', 'тридцать два', 'тридцать три', 'тридцать четыре', 'тридцать пять', 'тридцать шесть', 'тридцать семь', 'тридцать восемь', 'тридцать девять', 'сорок', 'сорок один', 'сорок два', 'сорок три', 'сорок четыре', 'сорок пять', 'сорок шесть', 'сорок семь', 'сорок восемь', 'сорок девять', 'пятьдесят', 'пятьдесят один', 'пятьдесят два', 'пятьдесят три', 'пятьдесят четыре', 'пятьдесят пять', 'пятьдесят шесть', 'пятьдесят семь', 'пятьдесят восемь', 'пятьдесят девять', 'шестьдесят', 'шестьдесят один', 'шестьдесят два', 'шестьдесят три', 'шестьдесят четыре', 'шестьдесят пять', 'шестьдесят шесть', 'шестьдесят семь', 'шестьдесят восемь', 'шестьдесят девять', 'семьдесят', 'семьдесят один', 'семьдесят два', 'семьдесят три', 'семьдесят четыре', 'семьдесят пять', 'семьдесят шесть', 'семьдесят семь', 'семьдесят восемь', 'семьдесят девять', 'восемьдесят', 'восемьдесят один', 'восемьдесят два', 'восемьдесят три', 'восемьдесят четыре', 'восемьдесят пять', 'восемьдесят шесть', 'восемьдесят семь', 'восемьдесят восемь', 'восемьдесят девять', 'девяносто', 'девяносто один', 'девяносто два', 'девяносто три', 'девяносто четыре', 'девяносто пять', 'девяносто шесть', 'девяносто семь', 'девяносто восемь', 'девяносто девять']\n",
    "    return zero_to_ninety_nine[num]\n",
    "    # считываем данные\n",
    "\n",
    "m = int(input())\n",
    "\n",
    "# вызываем функцию\n",
    "print(number_to_words(m))\n"
   ]
  },
  {
   "cell_type": "code",
   "execution_count": 21,
   "id": "1f109760",
   "metadata": {},
   "outputs": [
    {
     "name": "stdout",
     "output_type": "stream",
     "text": [
      "en\n",
      "9\n",
      "september\n"
     ]
    }
   ],
   "source": [
    "# объявление функции\n",
    "def get_month(lan, num):\n",
    "    lng_ru = ['январь', 'февраль', 'март', 'апрель', 'май', 'июнь', 'июль', 'август', 'сентябрь', 'октябрь', 'ноябрь', 'декабрь']\n",
    "    lng_en = ['january', 'february', 'march', 'april', 'may', 'june', 'july', 'august', 'september', 'october', 'november', 'december']\n",
    "    if lan == \"en\":\n",
    "        return lng_en[num - 1]\n",
    "    else:\n",
    "        return lng_ru[num - 1]\n",
    "# считываем данные\n",
    "lan = input()\n",
    "num = int(input())\n",
    "\n",
    "# вызываем функцию\n",
    "print(get_month(lan, num))\n"
   ]
  },
  {
   "cell_type": "code",
   "execution_count": 25,
   "id": "499b0df3",
   "metadata": {},
   "outputs": [
    {
     "name": "stdout",
     "output_type": "stream",
     "text": [
      "11.06.1960\n",
      "False\n"
     ]
    }
   ],
   "source": [
    "# объявление функции\n",
    "def is_magic(date):\n",
    "    datz = date.split(\".\")\n",
    "    if int(datz[0]) * int(datz[1]) == int(datz[2]) % 100:\n",
    "        return True\n",
    "    else:\n",
    "        return False\n",
    "\n",
    "# считываем данные\n",
    "date = input()\n",
    "\n",
    "# вызываем функцию\n",
    "print(is_magic(date))\n",
    "#print(is_magic('10.06.1960'))\n",
    "#print(is_magic('11.06.1960'))\n"
   ]
  },
  {
   "cell_type": "code",
   "execution_count": 33,
   "id": "43ad2657",
   "metadata": {},
   "outputs": [
    {
     "ename": "KeyboardInterrupt",
     "evalue": "Interrupted by user",
     "output_type": "error",
     "traceback": [
      "\u001b[1;31m---------------------------------------------------------------------------\u001b[0m",
      "\u001b[1;31mKeyboardInterrupt\u001b[0m                         Traceback (most recent call last)",
      "\u001b[1;32m<ipython-input-33-8d3f50a95262>\u001b[0m in \u001b[0;36m<module>\u001b[1;34m\u001b[0m\n\u001b[0;32m     14\u001b[0m \u001b[1;33m\u001b[0m\u001b[0m\n\u001b[0;32m     15\u001b[0m \u001b[1;31m# считываем данные\u001b[0m\u001b[1;33m\u001b[0m\u001b[1;33m\u001b[0m\u001b[1;33m\u001b[0m\u001b[0m\n\u001b[1;32m---> 16\u001b[1;33m \u001b[0mtext\u001b[0m \u001b[1;33m=\u001b[0m \u001b[0minput\u001b[0m\u001b[1;33m(\u001b[0m\u001b[1;33m)\u001b[0m\u001b[1;33m\u001b[0m\u001b[1;33m\u001b[0m\u001b[0m\n\u001b[0m\u001b[0;32m     17\u001b[0m \u001b[1;33m\u001b[0m\u001b[0m\n\u001b[0;32m     18\u001b[0m \u001b[1;31m# вызываем функцию\u001b[0m\u001b[1;33m\u001b[0m\u001b[1;33m\u001b[0m\u001b[1;33m\u001b[0m\u001b[0m\n",
      "\u001b[1;32mC:\\ProgramData\\Anaconda3\\lib\\site-packages\\ipykernel\\kernelbase.py\u001b[0m in \u001b[0;36mraw_input\u001b[1;34m(self, prompt)\u001b[0m\n\u001b[0;32m    858\u001b[0m                 \u001b[1;34m\"raw_input was called, but this frontend does not support input requests.\"\u001b[0m\u001b[1;33m\u001b[0m\u001b[1;33m\u001b[0m\u001b[0m\n\u001b[0;32m    859\u001b[0m             )\n\u001b[1;32m--> 860\u001b[1;33m         return self._input_request(str(prompt),\n\u001b[0m\u001b[0;32m    861\u001b[0m             \u001b[0mself\u001b[0m\u001b[1;33m.\u001b[0m\u001b[0m_parent_ident\u001b[0m\u001b[1;33m,\u001b[0m\u001b[1;33m\u001b[0m\u001b[1;33m\u001b[0m\u001b[0m\n\u001b[0;32m    862\u001b[0m             \u001b[0mself\u001b[0m\u001b[1;33m.\u001b[0m\u001b[0m_parent_header\u001b[0m\u001b[1;33m,\u001b[0m\u001b[1;33m\u001b[0m\u001b[1;33m\u001b[0m\u001b[0m\n",
      "\u001b[1;32mC:\\ProgramData\\Anaconda3\\lib\\site-packages\\ipykernel\\kernelbase.py\u001b[0m in \u001b[0;36m_input_request\u001b[1;34m(self, prompt, ident, parent, password)\u001b[0m\n\u001b[0;32m    902\u001b[0m             \u001b[1;32mexcept\u001b[0m \u001b[0mKeyboardInterrupt\u001b[0m\u001b[1;33m:\u001b[0m\u001b[1;33m\u001b[0m\u001b[1;33m\u001b[0m\u001b[0m\n\u001b[0;32m    903\u001b[0m                 \u001b[1;31m# re-raise KeyboardInterrupt, to truncate traceback\u001b[0m\u001b[1;33m\u001b[0m\u001b[1;33m\u001b[0m\u001b[1;33m\u001b[0m\u001b[0m\n\u001b[1;32m--> 904\u001b[1;33m                 \u001b[1;32mraise\u001b[0m \u001b[0mKeyboardInterrupt\u001b[0m\u001b[1;33m(\u001b[0m\u001b[1;34m\"Interrupted by user\"\u001b[0m\u001b[1;33m)\u001b[0m \u001b[1;32mfrom\u001b[0m \u001b[1;32mNone\u001b[0m\u001b[1;33m\u001b[0m\u001b[1;33m\u001b[0m\u001b[0m\n\u001b[0m\u001b[0;32m    905\u001b[0m             \u001b[1;32mexcept\u001b[0m \u001b[0mException\u001b[0m \u001b[1;32mas\u001b[0m \u001b[0me\u001b[0m\u001b[1;33m:\u001b[0m\u001b[1;33m\u001b[0m\u001b[1;33m\u001b[0m\u001b[0m\n\u001b[0;32m    906\u001b[0m                 \u001b[0mself\u001b[0m\u001b[1;33m.\u001b[0m\u001b[0mlog\u001b[0m\u001b[1;33m.\u001b[0m\u001b[0mwarning\u001b[0m\u001b[1;33m(\u001b[0m\u001b[1;34m\"Invalid Message:\"\u001b[0m\u001b[1;33m,\u001b[0m \u001b[0mexc_info\u001b[0m\u001b[1;33m=\u001b[0m\u001b[1;32mTrue\u001b[0m\u001b[1;33m)\u001b[0m\u001b[1;33m\u001b[0m\u001b[1;33m\u001b[0m\u001b[0m\n",
      "\u001b[1;31mKeyboardInterrupt\u001b[0m: Interrupted by user"
     ]
    }
   ],
   "source": [
    "# Jackdaws love my big sphinx of quartz\n",
    "def is_pangram(txt):\n",
    "    tex = txt.lower()\n",
    "    a = []\n",
    "    count = 0\n",
    "    alp = \"abcdefghijklmnopqrstuvwxyz\"\n",
    "    for i in range (26):\n",
    "        if alp[i] in tex:\n",
    "            count += 1\n",
    "    if count == 26:\n",
    "        return True\n",
    "    else:\n",
    "        return False\n",
    "\n",
    "# считываем данные\n",
    "text = input()\n",
    "\n",
    "# вызываем функцию\n",
    "print(is_pangram(text))\n"
   ]
  },
  {
   "cell_type": "code",
   "execution_count": 9,
   "id": "ecd2ef88",
   "metadata": {},
   "outputs": [
    {
     "name": "stdout",
     "output_type": "stream",
     "text": [
      "129\n",
      "8\n"
     ]
    }
   ],
   "source": [
    "from math import ceil\n",
    "a = int(input())\n",
    "count = 0\n",
    "while a > 1:\n",
    "    b = ceil(a / 2)\n",
    "    count += 1\n",
    "    a = b\n",
    "print(count)\n"
   ]
  },
  {
   "cell_type": "code",
   "execution_count": 12,
   "id": "f462f63b",
   "metadata": {},
   "outputs": [
    {
     "name": "stdout",
     "output_type": "stream",
     "text": [
      "Day, mice. \"Year\" is a mistake!\n",
      "Gdb, qmgi. \"Ciev\" ku b tpzahrl! "
     ]
    }
   ],
   "source": [
    "eng_lower_alphabet = 'abcdefghijklmnopqrstuvwxyz'\n",
    "eng_upper_alphabet = 'ABCDEFGHIJKLMNOPQRSTUVWXYZ'\n",
    "rus_lower_alphabet = \"абвгдежзийклмнопрстуфхцчшщъыьэюя\"\n",
    "rus_upper_alphabet = \"АБВГДЕЖЗИЙКЛМНОПРСТУФХЦЧШЩЪЫЬЭЮЯ\"\n",
    "symbol = [\" \", \",\", \".\", \"!\", \"?\", \"\\\"\"]\n",
    "\n",
    "   \n",
    "#Day, mice. \"Year\" is a mistake!\n",
    "#Gdb, qmgi. \"Ciev\" ku b tpzahrl!\n",
    "\n",
    "\n",
    "def shift(i, offset):\n",
    "    if i.isalpha():\n",
    "        if i in eng_lower_alphabet:\n",
    "            print(eng_lower_alphabet[(ord(i) - ord(eng_lower_alphabet[0]) + offset) % len(eng_lower_alphabet)], end = \"\")\n",
    "        if i in rus_lower_alphabet:\n",
    "            print(rus_lower_alphabet[(ord(i) - ord(rus_lower_alphabet[0]) + offset) % len(rus_lower_alphabet)], end = \"\")\n",
    "        if i in eng_upper_alphabet:\n",
    "            print(eng_upper_alphabet[(ord(i) - ord(eng_upper_alphabet[0]) + offset) % len(eng_upper_alphabet)], end = \"\")\n",
    "        if i in rus_upper_alphabet:\n",
    "            print(rus_upper_alphabet[(ord(i) - ord(rus_upper_alphabet[0]) + offset) % len(rus_upper_alphabet)], end = \"\")\n",
    "    elif i in symbol:\n",
    "        print(i, end = \"\")\n",
    "        \n",
    "def char_len(word):\n",
    "    lent = 0\n",
    "    for i in word:\n",
    "        if i.isalpha():\n",
    "            lent += 1\n",
    "    return lent\n",
    "\n",
    "full_string = input()\n",
    "words = full_string.split(\" \")\n",
    "for word in words:\n",
    "    wrdlen = char_len(word)\n",
    "    for char in word:\n",
    "        shift(char, wrdlen)\n",
    "    print(\" \", end = \"\")    \n"
   ]
  },
  {
   "cell_type": "code",
   "execution_count": 89,
   "id": "0e12eb27",
   "metadata": {},
   "outputs": [
    {
     "name": "stdout",
     "output_type": "stream",
     "text": [
      "6898\n"
     ]
    }
   ],
   "source": [
    "print(0x1AF2)"
   ]
  },
  {
   "cell_type": "code",
   "execution_count": 14,
   "id": "ba418289",
   "metadata": {},
   "outputs": [
    {
     "name": "stdout",
     "output_type": "stream",
     "text": [
      "В какую систему конвертируем: 2\n",
      "Введите число: 513\n",
      "1000000001\n"
     ]
    }
   ],
   "source": [
    "n = int(input('В какую систему конвертируем: '))\n",
    "num = int(input('Введите число: '))\n",
    "res_list = []\n",
    "\n",
    "while num != 0:\n",
    "    x = num % n\n",
    "    if x >= 10:\n",
    "        sym = chr(87 + x)\n",
    "        res_list.insert(0, str(sym.upper()))\n",
    "    else:\n",
    "        res_list.insert(0, str(x))\n",
    "    num = num // n\n",
    "\n",
    "print(''.join(res_list))"
   ]
  },
  {
   "cell_type": "code",
   "execution_count": 17,
   "id": "dda291c3",
   "metadata": {},
   "outputs": [
    {
     "name": "stdout",
     "output_type": "stream",
     "text": [
      "100\n",
      "1100100\n",
      "144\n",
      "64\n"
     ]
    }
   ],
   "source": [
    "a = int(input())\n",
    "bi = str(bin(a))\n",
    "oc = str(oct(a))\n",
    "he = str(hex(a))\n",
    "print(bi[2:])\n",
    "print(oc[2:])\n",
    "print(he.upper()[2:])"
   ]
  },
  {
   "cell_type": "code",
   "execution_count": null,
   "id": "9c934947",
   "metadata": {},
   "outputs": [],
   "source": []
  }
 ],
 "metadata": {
  "kernelspec": {
   "display_name": "Python 3",
   "language": "python",
   "name": "python3"
  },
  "language_info": {
   "codemirror_mode": {
    "name": "ipython",
    "version": 3
   },
   "file_extension": ".py",
   "mimetype": "text/x-python",
   "name": "python",
   "nbconvert_exporter": "python",
   "pygments_lexer": "ipython3",
   "version": "3.8.8"
  }
 },
 "nbformat": 4,
 "nbformat_minor": 5
}
